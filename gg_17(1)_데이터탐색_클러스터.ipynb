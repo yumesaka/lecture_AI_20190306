{
  "nbformat": 4,
  "nbformat_minor": 0,
  "metadata": {
    "colab": {
      "name": "gg-17(1)-데이터탐색-클러스터",
      "version": "0.3.2",
      "provenance": [],
      "collapsed_sections": [
        "XyaalKuUA9wU",
        "9l2WO-9wA9wV",
        "uTjAQX_sA9xB"
      ],
      "include_colab_link": true
    },
    "kernelspec": {
      "name": "python3",
      "display_name": "Python 3"
    },
    "accelerator": "GPU"
  },
  "cells": [
    {
      "cell_type": "markdown",
      "metadata": {
        "id": "view-in-github",
        "colab_type": "text"
      },
      "source": [
        "<a href=\"https://colab.research.google.com/github/yumesaka/lecture_AI_20190306/blob/master/gg_17(1)_%EB%8D%B0%EC%9D%B4%ED%84%B0%ED%83%90%EC%83%89_%ED%81%B4%EB%9F%AC%EC%8A%A4%ED%84%B0.ipynb\" target=\"_parent\"><img src=\"https://colab.research.google.com/assets/colab-badge.svg\" alt=\"Open In Colab\"/></a>"
      ]
    },
    {
      "metadata": {
        "id": "ZxhtELvsA9vv",
        "colab_type": "text"
      },
      "cell_type": "markdown",
      "source": [
        "데이터 탐색\n",
        "==\n",
        "\n",
        "다루는 내용\n",
        "--\n",
        "- 데이터 특성 보기, 데이터 탐색, 시각화\n",
        "- 클러스터링\n",
        "\n",
        "데이터\n",
        "--\n",
        "- 전력판매량(시도별/용도별) 액셀 파일 https://goo.gl/Cx8Rzw\n",
        "- 위 자료는 전력거래소에서 받은 자료임\n",
        "- 이 파일을 현재 작업중인 (쥬피터 노트북이 실행되는) 폴더 아래에 data 폴더를 만들고 data 폴더로 복사한다"
      ]
    },
    {
      "metadata": {
        "id": "TShYzQdSA9vy",
        "colab_type": "text"
      },
      "cell_type": "markdown",
      "source": [
        "필요한 라이브러리(모듈) 설치\n",
        "--"
      ]
    },
    {
      "metadata": {
        "id": "bDPp1BkWA9vz",
        "colab_type": "code",
        "colab": {}
      },
      "cell_type": "code",
      "source": [
        "import pandas as pd\n",
        "import numpy as np\n",
        "import matplotlib.pyplot as plt"
      ],
      "execution_count": 0,
      "outputs": []
    },
    {
      "metadata": {
        "id": "nrR4lR8bA9v2",
        "colab_type": "code",
        "colab": {}
      },
      "cell_type": "code",
      "source": [
        "%matplotlib inline"
      ],
      "execution_count": 0,
      "outputs": []
    },
    {
      "metadata": {
        "id": "N1I1-uBjvgkm",
        "colab_type": "code",
        "outputId": "12aab8ad-f9e1-4aca-bdf1-959d7fb74be2",
        "colab": {
          "base_uri": "https://localhost:8080/",
          "height": 530
        }
      },
      "cell_type": "code",
      "source": [
        "# 데이터 다운로드\n",
        "import os, os.path, shutil\n",
        "if not os.path.exists(\"./data\"):\n",
        "    os.makedirs(\"./data\")\n",
        "!wget https://goo.gl/Cx8Rzw -O ./data/power.xls"
      ],
      "execution_count": 151,
      "outputs": [
        {
          "output_type": "stream",
          "text": [
            "--2019-03-07 00:12:04--  https://goo.gl/Cx8Rzw\n",
            "Resolving goo.gl (goo.gl)... 74.125.206.101, 74.125.206.100, 74.125.206.102, ...\n",
            "Connecting to goo.gl (goo.gl)|74.125.206.101|:443... connected.\n",
            "HTTP request sent, awaiting response... 302 Found\n",
            "Location: https://www.dropbox.com/s/w9m6n2zbl2986of/%EC%8B%9C%EB%8F%84%EB%B3%84_%EC%9A%A9%EB%8F%84%EB%B3%84.xls?dl=0 [following]\n",
            "--2019-03-07 00:12:04--  https://www.dropbox.com/s/w9m6n2zbl2986of/%EC%8B%9C%EB%8F%84%EB%B3%84_%EC%9A%A9%EB%8F%84%EB%B3%84.xls?dl=0\n",
            "Resolving www.dropbox.com (www.dropbox.com)... 162.125.65.1, 2620:100:6021:1::a27d:4101\n",
            "Connecting to www.dropbox.com (www.dropbox.com)|162.125.65.1|:443... connected.\n",
            "HTTP request sent, awaiting response... 301 Moved Permanently\n",
            "Location: /s/raw/w9m6n2zbl2986of/%EC%8B%9C%EB%8F%84%EB%B3%84_%EC%9A%A9%EB%8F%84%EB%B3%84.xls [following]\n",
            "--2019-03-07 00:12:05--  https://www.dropbox.com/s/raw/w9m6n2zbl2986of/%EC%8B%9C%EB%8F%84%EB%B3%84_%EC%9A%A9%EB%8F%84%EB%B3%84.xls\n",
            "Reusing existing connection to www.dropbox.com:443.\n",
            "HTTP request sent, awaiting response... 302 Found\n",
            "Location: https://uc68392925672b3b6be221f12a14.dl.dropboxusercontent.com/cd/0/inline/Acl7Adr0oSdLOIvul47PDc5DhDgYICiM5veIzyV6EK43Kc6gZj9RErnpplyuw9PHqzBRezZsqTunv4hoBX180bBy0UXcWAERsBKx7SmwttIqAhcg8ZleoZMgrEPIUkaO_ss/file# [following]\n",
            "--2019-03-07 00:12:05--  https://uc68392925672b3b6be221f12a14.dl.dropboxusercontent.com/cd/0/inline/Acl7Adr0oSdLOIvul47PDc5DhDgYICiM5veIzyV6EK43Kc6gZj9RErnpplyuw9PHqzBRezZsqTunv4hoBX180bBy0UXcWAERsBKx7SmwttIqAhcg8ZleoZMgrEPIUkaO_ss/file\n",
            "Resolving uc68392925672b3b6be221f12a14.dl.dropboxusercontent.com (uc68392925672b3b6be221f12a14.dl.dropboxusercontent.com)... 162.125.65.6, 2620:100:6021:6::a27d:4106\n",
            "Connecting to uc68392925672b3b6be221f12a14.dl.dropboxusercontent.com (uc68392925672b3b6be221f12a14.dl.dropboxusercontent.com)|162.125.65.6|:443... connected.\n",
            "HTTP request sent, awaiting response... 302 FOUND\n",
            "Location: /cd/0/inline2/AcnhkWaQG83o1zIw9rCPWRjGaSThlMTywPViByHJIBxRr3bIZTrCujmSL7m9SyFWt_fl_GMpYVwzsjmGYieLJr20Z1hnS99l6xqeL1j8ir4eWjougWfX90je5iO0yg01Z-BIj3vYPdEN7RV_8c7RT4mqtFlYLcX2rGDMDxSS_RjIoDuZlfxEpqRSiGexJNfEHTcarFjiK7xCaYUWgP574_Iac8_oXhT9YSvRrabENIl901EYkk1KNQVjRpLD6axoGwxE-o2Ihru0ydR10Y73v2aQQy-iRSmonnWEoznN3th5CpDD6-FigQo2ZwPVVFSVPl0QgNcphjdzZ0VkewnmUXBy8WzOoUliidoWP8djy-DG5Q/file [following]\n",
            "--2019-03-07 00:12:05--  https://uc68392925672b3b6be221f12a14.dl.dropboxusercontent.com/cd/0/inline2/AcnhkWaQG83o1zIw9rCPWRjGaSThlMTywPViByHJIBxRr3bIZTrCujmSL7m9SyFWt_fl_GMpYVwzsjmGYieLJr20Z1hnS99l6xqeL1j8ir4eWjougWfX90je5iO0yg01Z-BIj3vYPdEN7RV_8c7RT4mqtFlYLcX2rGDMDxSS_RjIoDuZlfxEpqRSiGexJNfEHTcarFjiK7xCaYUWgP574_Iac8_oXhT9YSvRrabENIl901EYkk1KNQVjRpLD6axoGwxE-o2Ihru0ydR10Y73v2aQQy-iRSmonnWEoznN3th5CpDD6-FigQo2ZwPVVFSVPl0QgNcphjdzZ0VkewnmUXBy8WzOoUliidoWP8djy-DG5Q/file\n",
            "Reusing existing connection to uc68392925672b3b6be221f12a14.dl.dropboxusercontent.com:443.\n",
            "HTTP request sent, awaiting response... 200 OK\n",
            "Length: 17920 (18K) [application/vnd.ms-excel]\n",
            "Saving to: ‘./data/power.xls’\n",
            "\n",
            "./data/power.xls    100%[===================>]  17.50K  --.-KB/s    in 0s      \n",
            "\n",
            "2019-03-07 00:12:06 (200 MB/s) - ‘./data/power.xls’ saved [17920/17920]\n",
            "\n"
          ],
          "name": "stdout"
        }
      ]
    },
    {
      "metadata": {
        "id": "RZQUQI6JY1bJ",
        "colab_type": "code",
        "colab": {
          "base_uri": "https://localhost:8080/",
          "height": 34
        },
        "outputId": "8f411668-1af1-4ff2-dcd9-bb76d553552d"
      },
      "cell_type": "code",
      "source": [
        "!ls data"
      ],
      "execution_count": 152,
      "outputs": [
        {
          "output_type": "stream",
          "text": [
            "power.xls\n"
          ],
          "name": "stdout"
        }
      ]
    },
    {
      "metadata": {
        "id": "QDyjAHmMu-kt",
        "colab_type": "code",
        "outputId": "bb2b3966-5369-4316-8773-afaa61cb40b8",
        "colab": {
          "base_uri": "https://localhost:8080/",
          "height": 510
        }
      },
      "cell_type": "code",
      "source": [
        "# 한글 폰트 설치\n",
        "!apt-get install fonts-nanum*\n",
        "!apt-get install fontconfig\n",
        "!fc-cache -fv\n",
        "!cp /usr/share/fonts/truetype/nanum/Nanum* /usr/local/lib/python3.6/dist-packages/matplotlib/mpl-data/fonts/ttf/\n",
        "!rm -rf /content/.cache/matplotlib/*"
      ],
      "execution_count": 153,
      "outputs": [
        {
          "output_type": "stream",
          "text": [
            "Reading package lists... Done\n",
            "Building dependency tree       \n",
            "Reading state information... Done\n",
            "Note, selecting 'fonts-nanum-eco' for glob 'fonts-nanum*'\n",
            "Note, selecting 'fonts-nanum' for glob 'fonts-nanum*'\n",
            "Note, selecting 'fonts-nanum-gothic-light' for glob 'fonts-nanum*'\n",
            "Note, selecting 'fonts-nanum-coding' for glob 'fonts-nanum*'\n",
            "Note, selecting 'fonts-nanum-extra' for glob 'fonts-nanum*'\n",
            "fonts-nanum is already the newest version (20170925-1).\n",
            "fonts-nanum-coding is already the newest version (2.5-1).\n",
            "fonts-nanum-eco is already the newest version (1.000-6).\n",
            "fonts-nanum-extra is already the newest version (20170925-1).\n",
            "0 upgraded, 0 newly installed, 0 to remove and 10 not upgraded.\n",
            "Reading package lists... Done\n",
            "Building dependency tree       \n",
            "Reading state information... Done\n",
            "fontconfig is already the newest version (2.12.6-0ubuntu2).\n",
            "0 upgraded, 0 newly installed, 0 to remove and 10 not upgraded.\n",
            "/usr/share/fonts: caching, new cache contents: 0 fonts, 1 dirs\n",
            "/usr/share/fonts/truetype: caching, new cache contents: 0 fonts, 2 dirs\n",
            "/usr/share/fonts/truetype/liberation: caching, new cache contents: 16 fonts, 0 dirs\n",
            "/usr/share/fonts/truetype/nanum: caching, new cache contents: 31 fonts, 0 dirs\n",
            "/usr/local/share/fonts: caching, new cache contents: 0 fonts, 0 dirs\n",
            "/root/.local/share/fonts: skipping, no such directory\n",
            "/root/.fonts: skipping, no such directory\n",
            "/var/cache/fontconfig: cleaning cache directory\n",
            "/root/.cache/fontconfig: not cleaning non-existent cache directory\n",
            "/root/.fontconfig: not cleaning non-existent cache directory\n",
            "fc-cache: succeeded\n"
          ],
          "name": "stdout"
        }
      ]
    },
    {
      "metadata": {
        "id": "s-nZUJVp5AtB",
        "colab_type": "code",
        "colab": {}
      },
      "cell_type": "code",
      "source": [
        "import matplotlib\n",
        "matplotlib.font_manager._rebuild()"
      ],
      "execution_count": 0,
      "outputs": []
    },
    {
      "metadata": {
        "id": "2qATu0mH2qu8",
        "colab_type": "code",
        "colab": {
          "base_uri": "https://localhost:8080/",
          "height": 187
        },
        "outputId": "f6af4ad0-8c3d-490b-b644-75d6603550d6"
      },
      "cell_type": "code",
      "source": [
        "# tree\n",
        "!apt-get install tree\n",
        "!tree -d ."
      ],
      "execution_count": 155,
      "outputs": [
        {
          "output_type": "stream",
          "text": [
            "\rReading package lists... 0%\r\rReading package lists... 0%\r\rReading package lists... 0%\r\rReading package lists... 8%\r\rReading package lists... 8%\r\rReading package lists... 8%\r\rReading package lists... 8%\r\rReading package lists... 76%\r\rReading package lists... 76%\r\rReading package lists... 77%\r\rReading package lists... 77%\r\rReading package lists... 81%\r\rReading package lists... 82%\r\rReading package lists... 82%\r\rReading package lists... 82%\r\rReading package lists... 82%\r\rReading package lists... 90%\r\rReading package lists... 90%\r\rReading package lists... 90%\r\rReading package lists... 90%\r\rReading package lists... 90%\r\rReading package lists... 90%\r\rReading package lists... 92%\r\rReading package lists... 92%\r\rReading package lists... 93%\r\rReading package lists... 93%\r\rReading package lists... 93%\r\rReading package lists... 93%\r\rReading package lists... 94%\r\rReading package lists... 94%\r\rReading package lists... 94%\r\rReading package lists... 94%\r\rReading package lists... 94%\r\rReading package lists... 94%\r\rReading package lists... 98%\r\rReading package lists... 98%\r\rReading package lists... 98%\r\rReading package lists... 98%\r\rReading package lists... Done\r\n",
            "\rBuilding dependency tree... 0%\r\rBuilding dependency tree... 0%\r\rBuilding dependency tree... 50%\r\rBuilding dependency tree... 50%\r\rBuilding dependency tree       \r\n",
            "\rReading state information... 0%\r\rReading state information... 0%\r\rReading state information... Done\r\n",
            "tree is already the newest version (1.7.0-5).\n",
            "0 upgraded, 0 newly installed, 0 to remove and 10 not upgraded.\n",
            ".\n",
            "├── data\n",
            "└── sample_data\n",
            "\n",
            "2 directories\n"
          ],
          "name": "stdout"
        }
      ]
    },
    {
      "metadata": {
        "id": "eotoZvY_A9v5",
        "colab_type": "text"
      },
      "cell_type": "markdown",
      "source": [
        "데이터 읽기\n",
        "--"
      ]
    },
    {
      "metadata": {
        "id": "YgCiOfmVA9v6",
        "colab_type": "code",
        "outputId": "e65fad75-a4ac-4b09-db96-fe758805c4b3",
        "colab": {
          "base_uri": "https://localhost:8080/",
          "height": 34
        }
      },
      "cell_type": "code",
      "source": [
        "power_data = pd.read_excel('data/power.xls')\n",
        "print(power_data.shape)"
      ],
      "execution_count": 156,
      "outputs": [
        {
          "output_type": "stream",
          "text": [
            "(19, 28)\n"
          ],
          "name": "stdout"
        }
      ]
    },
    {
      "metadata": {
        "id": "wUrlk6uwA9v_",
        "colab_type": "code",
        "outputId": "f3417890-af25-4647-9ff3-46b96e5208a8",
        "colab": {
          "base_uri": "https://localhost:8080/",
          "height": 667
        }
      },
      "cell_type": "code",
      "source": [
        "power_data"
      ],
      "execution_count": 157,
      "outputs": [
        {
          "output_type": "execute_result",
          "data": {
            "text/html": [
              "<div>\n",
              "<style scoped>\n",
              "    .dataframe tbody tr th:only-of-type {\n",
              "        vertical-align: middle;\n",
              "    }\n",
              "\n",
              "    .dataframe tbody tr th {\n",
              "        vertical-align: top;\n",
              "    }\n",
              "\n",
              "    .dataframe thead th {\n",
              "        text-align: right;\n",
              "    }\n",
              "</style>\n",
              "<table border=\"1\" class=\"dataframe\">\n",
              "  <thead>\n",
              "    <tr style=\"text-align: right;\">\n",
              "      <th></th>\n",
              "      <th>구분</th>\n",
              "      <th>주거용</th>\n",
              "      <th>공공용</th>\n",
              "      <th>서비스업</th>\n",
              "      <th>업무용합계</th>\n",
              "      <th>농림어업</th>\n",
              "      <th>광업</th>\n",
              "      <th>제조업</th>\n",
              "      <th>식료품제조</th>\n",
              "      <th>섬유,의류</th>\n",
              "      <th>...</th>\n",
              "      <th>기타기계</th>\n",
              "      <th>사무기기</th>\n",
              "      <th>전기기기</th>\n",
              "      <th>영상,음향</th>\n",
              "      <th>자동차</th>\n",
              "      <th>기타운송</th>\n",
              "      <th>가구및기타</th>\n",
              "      <th>재생재료</th>\n",
              "      <th>산업용합계</th>\n",
              "      <th>합계</th>\n",
              "    </tr>\n",
              "  </thead>\n",
              "  <tbody>\n",
              "    <tr>\n",
              "      <th>0</th>\n",
              "      <td>강원</td>\n",
              "      <td>1940933</td>\n",
              "      <td>1400421</td>\n",
              "      <td>6203749</td>\n",
              "      <td>7604170</td>\n",
              "      <td>607139</td>\n",
              "      <td>398287</td>\n",
              "      <td>6002286</td>\n",
              "      <td>546621</td>\n",
              "      <td>13027</td>\n",
              "      <td>...</td>\n",
              "      <td>35063</td>\n",
              "      <td>2019</td>\n",
              "      <td>38062</td>\n",
              "      <td>43986</td>\n",
              "      <td>113448</td>\n",
              "      <td>108629</td>\n",
              "      <td>12872</td>\n",
              "      <td>3418</td>\n",
              "      <td>7007712</td>\n",
              "      <td>16552816</td>\n",
              "    </tr>\n",
              "    <tr>\n",
              "      <th>1</th>\n",
              "      <td>개성</td>\n",
              "      <td>0</td>\n",
              "      <td>0</td>\n",
              "      <td>0</td>\n",
              "      <td>0</td>\n",
              "      <td>0</td>\n",
              "      <td>0</td>\n",
              "      <td>0</td>\n",
              "      <td>0</td>\n",
              "      <td>0</td>\n",
              "      <td>...</td>\n",
              "      <td>0</td>\n",
              "      <td>0</td>\n",
              "      <td>0</td>\n",
              "      <td>0</td>\n",
              "      <td>0</td>\n",
              "      <td>0</td>\n",
              "      <td>0</td>\n",
              "      <td>0</td>\n",
              "      <td>0</td>\n",
              "      <td>0</td>\n",
              "    </tr>\n",
              "    <tr>\n",
              "      <th>2</th>\n",
              "      <td>경기</td>\n",
              "      <td>16587710</td>\n",
              "      <td>5533662</td>\n",
              "      <td>33434551</td>\n",
              "      <td>38968213</td>\n",
              "      <td>2371347</td>\n",
              "      <td>317263</td>\n",
              "      <td>56603327</td>\n",
              "      <td>2544420</td>\n",
              "      <td>2109963</td>\n",
              "      <td>...</td>\n",
              "      <td>3613798</td>\n",
              "      <td>317244</td>\n",
              "      <td>1040171</td>\n",
              "      <td>24519644</td>\n",
              "      <td>2977165</td>\n",
              "      <td>67594</td>\n",
              "      <td>1833112</td>\n",
              "      <td>133041</td>\n",
              "      <td>59291937</td>\n",
              "      <td>114847859</td>\n",
              "    </tr>\n",
              "    <tr>\n",
              "      <th>3</th>\n",
              "      <td>경남</td>\n",
              "      <td>4260988</td>\n",
              "      <td>1427560</td>\n",
              "      <td>8667737</td>\n",
              "      <td>10095297</td>\n",
              "      <td>2141813</td>\n",
              "      <td>95989</td>\n",
              "      <td>18053778</td>\n",
              "      <td>932743</td>\n",
              "      <td>346974</td>\n",
              "      <td>...</td>\n",
              "      <td>1902913</td>\n",
              "      <td>8070</td>\n",
              "      <td>924235</td>\n",
              "      <td>534196</td>\n",
              "      <td>2156059</td>\n",
              "      <td>2048646</td>\n",
              "      <td>262523</td>\n",
              "      <td>47662</td>\n",
              "      <td>20291580</td>\n",
              "      <td>34647864</td>\n",
              "    </tr>\n",
              "    <tr>\n",
              "      <th>4</th>\n",
              "      <td>경북</td>\n",
              "      <td>3302463</td>\n",
              "      <td>1578115</td>\n",
              "      <td>8487402</td>\n",
              "      <td>10065517</td>\n",
              "      <td>1747462</td>\n",
              "      <td>224568</td>\n",
              "      <td>30115601</td>\n",
              "      <td>566071</td>\n",
              "      <td>3780171</td>\n",
              "      <td>...</td>\n",
              "      <td>782570</td>\n",
              "      <td>14468</td>\n",
              "      <td>750786</td>\n",
              "      <td>4174971</td>\n",
              "      <td>2356890</td>\n",
              "      <td>123935</td>\n",
              "      <td>60280</td>\n",
              "      <td>77104</td>\n",
              "      <td>32087631</td>\n",
              "      <td>45455611</td>\n",
              "    </tr>\n",
              "    <tr>\n",
              "      <th>5</th>\n",
              "      <td>광주</td>\n",
              "      <td>1954876</td>\n",
              "      <td>565527</td>\n",
              "      <td>3174973</td>\n",
              "      <td>3740500</td>\n",
              "      <td>74608</td>\n",
              "      <td>2898</td>\n",
              "      <td>2910768</td>\n",
              "      <td>161072</td>\n",
              "      <td>295922</td>\n",
              "      <td>...</td>\n",
              "      <td>198847</td>\n",
              "      <td>5967</td>\n",
              "      <td>236622</td>\n",
              "      <td>723764</td>\n",
              "      <td>512148</td>\n",
              "      <td>5140</td>\n",
              "      <td>13392</td>\n",
              "      <td>16049</td>\n",
              "      <td>2988274</td>\n",
              "      <td>8683649</td>\n",
              "    </tr>\n",
              "    <tr>\n",
              "      <th>6</th>\n",
              "      <td>대구</td>\n",
              "      <td>3151904</td>\n",
              "      <td>826396</td>\n",
              "      <td>5470438</td>\n",
              "      <td>6296834</td>\n",
              "      <td>69142</td>\n",
              "      <td>5858</td>\n",
              "      <td>5862633</td>\n",
              "      <td>212626</td>\n",
              "      <td>1057342</td>\n",
              "      <td>...</td>\n",
              "      <td>516493</td>\n",
              "      <td>58446</td>\n",
              "      <td>180189</td>\n",
              "      <td>252662</td>\n",
              "      <td>1381273</td>\n",
              "      <td>68127</td>\n",
              "      <td>41814</td>\n",
              "      <td>33616</td>\n",
              "      <td>5937633</td>\n",
              "      <td>15386372</td>\n",
              "    </tr>\n",
              "    <tr>\n",
              "      <th>7</th>\n",
              "      <td>대전</td>\n",
              "      <td>1872890</td>\n",
              "      <td>954681</td>\n",
              "      <td>3955921</td>\n",
              "      <td>4910602</td>\n",
              "      <td>28643</td>\n",
              "      <td>3326</td>\n",
              "      <td>2608343</td>\n",
              "      <td>204171</td>\n",
              "      <td>41687</td>\n",
              "      <td>...</td>\n",
              "      <td>77970</td>\n",
              "      <td>2949</td>\n",
              "      <td>83609</td>\n",
              "      <td>474561</td>\n",
              "      <td>218191</td>\n",
              "      <td>5439</td>\n",
              "      <td>31657</td>\n",
              "      <td>2252</td>\n",
              "      <td>2640312</td>\n",
              "      <td>9423804</td>\n",
              "    </tr>\n",
              "    <tr>\n",
              "      <th>8</th>\n",
              "      <td>부산</td>\n",
              "      <td>4473510</td>\n",
              "      <td>1305876</td>\n",
              "      <td>7582169</td>\n",
              "      <td>8888045</td>\n",
              "      <td>107927</td>\n",
              "      <td>25289</td>\n",
              "      <td>7512588</td>\n",
              "      <td>532943</td>\n",
              "      <td>528513</td>\n",
              "      <td>...</td>\n",
              "      <td>904149</td>\n",
              "      <td>4913</td>\n",
              "      <td>107717</td>\n",
              "      <td>90644</td>\n",
              "      <td>1046529</td>\n",
              "      <td>231141</td>\n",
              "      <td>49733</td>\n",
              "      <td>13104</td>\n",
              "      <td>7645804</td>\n",
              "      <td>21007358</td>\n",
              "    </tr>\n",
              "    <tr>\n",
              "      <th>9</th>\n",
              "      <td>서울</td>\n",
              "      <td>13131172</td>\n",
              "      <td>3581534</td>\n",
              "      <td>27647345</td>\n",
              "      <td>31228879</td>\n",
              "      <td>15150</td>\n",
              "      <td>4064</td>\n",
              "      <td>1918893</td>\n",
              "      <td>227077</td>\n",
              "      <td>497699</td>\n",
              "      <td>...</td>\n",
              "      <td>163688</td>\n",
              "      <td>4395</td>\n",
              "      <td>11425</td>\n",
              "      <td>46225</td>\n",
              "      <td>20182</td>\n",
              "      <td>17656</td>\n",
              "      <td>132707</td>\n",
              "      <td>2875</td>\n",
              "      <td>1938107</td>\n",
              "      <td>46298158</td>\n",
              "    </tr>\n",
              "    <tr>\n",
              "      <th>10</th>\n",
              "      <td>세종</td>\n",
              "      <td>384903</td>\n",
              "      <td>299675</td>\n",
              "      <td>645424</td>\n",
              "      <td>945099</td>\n",
              "      <td>69469</td>\n",
              "      <td>16364</td>\n",
              "      <td>1502922</td>\n",
              "      <td>110211</td>\n",
              "      <td>70617</td>\n",
              "      <td>...</td>\n",
              "      <td>26185</td>\n",
              "      <td>14319</td>\n",
              "      <td>33539</td>\n",
              "      <td>170366</td>\n",
              "      <td>79009</td>\n",
              "      <td>0</td>\n",
              "      <td>5132</td>\n",
              "      <td>2603</td>\n",
              "      <td>1588755</td>\n",
              "      <td>2918758</td>\n",
              "    </tr>\n",
              "    <tr>\n",
              "      <th>11</th>\n",
              "      <td>울산</td>\n",
              "      <td>1487143</td>\n",
              "      <td>489865</td>\n",
              "      <td>3649386</td>\n",
              "      <td>4139251</td>\n",
              "      <td>80221</td>\n",
              "      <td>20103</td>\n",
              "      <td>25883132</td>\n",
              "      <td>187738</td>\n",
              "      <td>943299</td>\n",
              "      <td>...</td>\n",
              "      <td>169132</td>\n",
              "      <td>5053</td>\n",
              "      <td>381602</td>\n",
              "      <td>24165</td>\n",
              "      <td>2367150</td>\n",
              "      <td>1020610</td>\n",
              "      <td>4984</td>\n",
              "      <td>1626</td>\n",
              "      <td>25983456</td>\n",
              "      <td>31609850</td>\n",
              "    </tr>\n",
              "    <tr>\n",
              "      <th>12</th>\n",
              "      <td>인천</td>\n",
              "      <td>3856852</td>\n",
              "      <td>921748</td>\n",
              "      <td>7154416</td>\n",
              "      <td>8076164</td>\n",
              "      <td>142953</td>\n",
              "      <td>71529</td>\n",
              "      <td>12367816</td>\n",
              "      <td>641088</td>\n",
              "      <td>75895</td>\n",
              "      <td>...</td>\n",
              "      <td>942801</td>\n",
              "      <td>7853</td>\n",
              "      <td>178502</td>\n",
              "      <td>1124564</td>\n",
              "      <td>612898</td>\n",
              "      <td>54225</td>\n",
              "      <td>360778</td>\n",
              "      <td>32538</td>\n",
              "      <td>12582298</td>\n",
              "      <td>24515313</td>\n",
              "    </tr>\n",
              "    <tr>\n",
              "      <th>13</th>\n",
              "      <td>전남</td>\n",
              "      <td>2284124</td>\n",
              "      <td>964024</td>\n",
              "      <td>5690659</td>\n",
              "      <td>6654683</td>\n",
              "      <td>3096126</td>\n",
              "      <td>73217</td>\n",
              "      <td>21453926</td>\n",
              "      <td>511361</td>\n",
              "      <td>160506</td>\n",
              "      <td>...</td>\n",
              "      <td>66431</td>\n",
              "      <td>1061</td>\n",
              "      <td>149939</td>\n",
              "      <td>42399</td>\n",
              "      <td>72132</td>\n",
              "      <td>481592</td>\n",
              "      <td>14670</td>\n",
              "      <td>31932</td>\n",
              "      <td>24623269</td>\n",
              "      <td>33562076</td>\n",
              "    </tr>\n",
              "    <tr>\n",
              "      <th>14</th>\n",
              "      <td>전북</td>\n",
              "      <td>2326183</td>\n",
              "      <td>1096968</td>\n",
              "      <td>4910318</td>\n",
              "      <td>6007286</td>\n",
              "      <td>1415004</td>\n",
              "      <td>85300</td>\n",
              "      <td>12965875</td>\n",
              "      <td>1459217</td>\n",
              "      <td>731651</td>\n",
              "      <td>...</td>\n",
              "      <td>159699</td>\n",
              "      <td>7240</td>\n",
              "      <td>130692</td>\n",
              "      <td>420005</td>\n",
              "      <td>859741</td>\n",
              "      <td>70980</td>\n",
              "      <td>16175</td>\n",
              "      <td>99003</td>\n",
              "      <td>14466179</td>\n",
              "      <td>22799647</td>\n",
              "    </tr>\n",
              "    <tr>\n",
              "      <th>15</th>\n",
              "      <td>제주</td>\n",
              "      <td>782601</td>\n",
              "      <td>301727</td>\n",
              "      <td>2308732</td>\n",
              "      <td>2610459</td>\n",
              "      <td>1364930</td>\n",
              "      <td>14019</td>\n",
              "      <td>241537</td>\n",
              "      <td>155987</td>\n",
              "      <td>3497</td>\n",
              "      <td>...</td>\n",
              "      <td>1167</td>\n",
              "      <td>0</td>\n",
              "      <td>771</td>\n",
              "      <td>0</td>\n",
              "      <td>773</td>\n",
              "      <td>532</td>\n",
              "      <td>1743</td>\n",
              "      <td>743</td>\n",
              "      <td>1620486</td>\n",
              "      <td>5013545</td>\n",
              "    </tr>\n",
              "    <tr>\n",
              "      <th>16</th>\n",
              "      <td>충남</td>\n",
              "      <td>2691823</td>\n",
              "      <td>1089613</td>\n",
              "      <td>7164439</td>\n",
              "      <td>8254052</td>\n",
              "      <td>1928066</td>\n",
              "      <td>248313</td>\n",
              "      <td>37057955</td>\n",
              "      <td>1137035</td>\n",
              "      <td>269998</td>\n",
              "      <td>...</td>\n",
              "      <td>611925</td>\n",
              "      <td>12208</td>\n",
              "      <td>428906</td>\n",
              "      <td>10953811</td>\n",
              "      <td>2526658</td>\n",
              "      <td>33766</td>\n",
              "      <td>53804</td>\n",
              "      <td>19725</td>\n",
              "      <td>39234334</td>\n",
              "      <td>50180209</td>\n",
              "    </tr>\n",
              "    <tr>\n",
              "      <th>17</th>\n",
              "      <td>충북</td>\n",
              "      <td>2027281</td>\n",
              "      <td>1267140</td>\n",
              "      <td>4804638</td>\n",
              "      <td>6071778</td>\n",
              "      <td>721131</td>\n",
              "      <td>139856</td>\n",
              "      <td>15883448</td>\n",
              "      <td>1152073</td>\n",
              "      <td>333846</td>\n",
              "      <td>...</td>\n",
              "      <td>366871</td>\n",
              "      <td>23076</td>\n",
              "      <td>1125141</td>\n",
              "      <td>4103832</td>\n",
              "      <td>603349</td>\n",
              "      <td>82496</td>\n",
              "      <td>513501</td>\n",
              "      <td>46038</td>\n",
              "      <td>16744435</td>\n",
              "      <td>24843494</td>\n",
              "    </tr>\n",
              "    <tr>\n",
              "      <th>18</th>\n",
              "      <td>합계</td>\n",
              "      <td>64576423</td>\n",
              "      <td>22204112</td>\n",
              "      <td>134748546</td>\n",
              "      <td>156952658</td>\n",
              "      <td>15373994</td>\n",
              "      <td>1347957</td>\n",
              "      <td>252942540</td>\n",
              "      <td>10735833</td>\n",
              "      <td>11247578</td>\n",
              "      <td>...</td>\n",
              "      <td>10504640</td>\n",
              "      <td>487262</td>\n",
              "      <td>5763846</td>\n",
              "      <td>47655808</td>\n",
              "      <td>17790147</td>\n",
              "      <td>4311878</td>\n",
              "      <td>3396006</td>\n",
              "      <td>559909</td>\n",
              "      <td>269664491</td>\n",
              "      <td>491193571</td>\n",
              "    </tr>\n",
              "  </tbody>\n",
              "</table>\n",
              "<p>19 rows × 28 columns</p>\n",
              "</div>"
            ],
            "text/plain": [
              "    구분       주거용       공공용       서비스업      업무용합계      농림어업       광업  \\\n",
              "0   강원   1940933   1400421    6203749    7604170    607139   398287   \n",
              "1   개성         0         0          0          0         0        0   \n",
              "2   경기  16587710   5533662   33434551   38968213   2371347   317263   \n",
              "3   경남   4260988   1427560    8667737   10095297   2141813    95989   \n",
              "4   경북   3302463   1578115    8487402   10065517   1747462   224568   \n",
              "5   광주   1954876    565527    3174973    3740500     74608     2898   \n",
              "6   대구   3151904    826396    5470438    6296834     69142     5858   \n",
              "7   대전   1872890    954681    3955921    4910602     28643     3326   \n",
              "8   부산   4473510   1305876    7582169    8888045    107927    25289   \n",
              "9   서울  13131172   3581534   27647345   31228879     15150     4064   \n",
              "10  세종    384903    299675     645424     945099     69469    16364   \n",
              "11  울산   1487143    489865    3649386    4139251     80221    20103   \n",
              "12  인천   3856852    921748    7154416    8076164    142953    71529   \n",
              "13  전남   2284124    964024    5690659    6654683   3096126    73217   \n",
              "14  전북   2326183   1096968    4910318    6007286   1415004    85300   \n",
              "15  제주    782601    301727    2308732    2610459   1364930    14019   \n",
              "16  충남   2691823   1089613    7164439    8254052   1928066   248313   \n",
              "17  충북   2027281   1267140    4804638    6071778    721131   139856   \n",
              "18  합계  64576423  22204112  134748546  156952658  15373994  1347957   \n",
              "\n",
              "          제조업     식료품제조     섬유,의류    ...          기타기계    사무기기     전기기기  \\\n",
              "0     6002286    546621     13027    ...         35063    2019    38062   \n",
              "1           0         0         0    ...             0       0        0   \n",
              "2    56603327   2544420   2109963    ...       3613798  317244  1040171   \n",
              "3    18053778    932743    346974    ...       1902913    8070   924235   \n",
              "4    30115601    566071   3780171    ...        782570   14468   750786   \n",
              "5     2910768    161072    295922    ...        198847    5967   236622   \n",
              "6     5862633    212626   1057342    ...        516493   58446   180189   \n",
              "7     2608343    204171     41687    ...         77970    2949    83609   \n",
              "8     7512588    532943    528513    ...        904149    4913   107717   \n",
              "9     1918893    227077    497699    ...        163688    4395    11425   \n",
              "10    1502922    110211     70617    ...         26185   14319    33539   \n",
              "11   25883132    187738    943299    ...        169132    5053   381602   \n",
              "12   12367816    641088     75895    ...        942801    7853   178502   \n",
              "13   21453926    511361    160506    ...         66431    1061   149939   \n",
              "14   12965875   1459217    731651    ...        159699    7240   130692   \n",
              "15     241537    155987      3497    ...          1167       0      771   \n",
              "16   37057955   1137035    269998    ...        611925   12208   428906   \n",
              "17   15883448   1152073    333846    ...        366871   23076  1125141   \n",
              "18  252942540  10735833  11247578    ...      10504640  487262  5763846   \n",
              "\n",
              "       영상,음향       자동차     기타운송    가구및기타    재생재료      산업용합계         합계  \n",
              "0      43986    113448   108629    12872    3418    7007712   16552816  \n",
              "1          0         0        0        0       0          0          0  \n",
              "2   24519644   2977165    67594  1833112  133041   59291937  114847859  \n",
              "3     534196   2156059  2048646   262523   47662   20291580   34647864  \n",
              "4    4174971   2356890   123935    60280   77104   32087631   45455611  \n",
              "5     723764    512148     5140    13392   16049    2988274    8683649  \n",
              "6     252662   1381273    68127    41814   33616    5937633   15386372  \n",
              "7     474561    218191     5439    31657    2252    2640312    9423804  \n",
              "8      90644   1046529   231141    49733   13104    7645804   21007358  \n",
              "9      46225     20182    17656   132707    2875    1938107   46298158  \n",
              "10    170366     79009        0     5132    2603    1588755    2918758  \n",
              "11     24165   2367150  1020610     4984    1626   25983456   31609850  \n",
              "12   1124564    612898    54225   360778   32538   12582298   24515313  \n",
              "13     42399     72132   481592    14670   31932   24623269   33562076  \n",
              "14    420005    859741    70980    16175   99003   14466179   22799647  \n",
              "15         0       773      532     1743     743    1620486    5013545  \n",
              "16  10953811   2526658    33766    53804   19725   39234334   50180209  \n",
              "17   4103832    603349    82496   513501   46038   16744435   24843494  \n",
              "18  47655808  17790147  4311878  3396006  559909  269664491  491193571  \n",
              "\n",
              "[19 rows x 28 columns]"
            ]
          },
          "metadata": {
            "tags": []
          },
          "execution_count": 157
        }
      ]
    },
    {
      "metadata": {
        "id": "deW-od83A9wG",
        "colab_type": "code",
        "outputId": "fb8d8d2c-aeb8-4e63-ce7f-3f2c6f85c6bb",
        "colab": {
          "base_uri": "https://localhost:8080/",
          "height": 102
        }
      },
      "cell_type": "code",
      "source": [
        "power_data.columns"
      ],
      "execution_count": 158,
      "outputs": [
        {
          "output_type": "execute_result",
          "data": {
            "text/plain": [
              "Index(['구분', '주거용', '공공용', '서비스업', '업무용합계', '농림어업', '광업', '제조업', '식료품제조',\n",
              "       '섬유,의류', '목재,나무', '펄프,종이', '출판,인쇄', '석유,화확', '의료,광학', '요업', '1차금속',\n",
              "       '조립금속', '기타기계', '사무기기', '전기기기', '영상,음향', '자동차', '기타운송', '가구및기타', '재생재료',\n",
              "       '산업용합계', '합계'],\n",
              "      dtype='object')"
            ]
          },
          "metadata": {
            "tags": []
          },
          "execution_count": 158
        }
      ]
    },
    {
      "metadata": {
        "id": "pWrcjQu1A9wJ",
        "colab_type": "code",
        "colab": {}
      },
      "cell_type": "code",
      "source": [
        "power = power_data.set_index('구분')"
      ],
      "execution_count": 0,
      "outputs": []
    },
    {
      "metadata": {
        "id": "xkpfzfRWA9wM",
        "colab_type": "code",
        "colab": {}
      },
      "cell_type": "code",
      "source": [
        "power = power.drop(['합계', '개성'], errors='ignore')"
      ],
      "execution_count": 0,
      "outputs": []
    },
    {
      "metadata": {
        "id": "BBSRbE6pA9wO",
        "colab_type": "code",
        "outputId": "8d5c1dde-9baf-4d07-f50d-02cabb936d93",
        "colab": {
          "base_uri": "https://localhost:8080/",
          "height": 561
        }
      },
      "cell_type": "code",
      "source": [
        "power.info()"
      ],
      "execution_count": 161,
      "outputs": [
        {
          "output_type": "stream",
          "text": [
            "<class 'pandas.core.frame.DataFrame'>\n",
            "Index: 17 entries, 강원 to 충북\n",
            "Data columns (total 27 columns):\n",
            "주거용      17 non-null int64\n",
            "공공용      17 non-null int64\n",
            "서비스업     17 non-null int64\n",
            "업무용합계    17 non-null int64\n",
            "농림어업     17 non-null int64\n",
            "광업       17 non-null int64\n",
            "제조업      17 non-null int64\n",
            "식료품제조    17 non-null int64\n",
            "섬유,의류    17 non-null int64\n",
            "목재,나무    17 non-null int64\n",
            "펄프,종이    17 non-null int64\n",
            "출판,인쇄    17 non-null int64\n",
            "석유,화확    17 non-null int64\n",
            "의료,광학    17 non-null int64\n",
            "요업       17 non-null int64\n",
            "1차금속     17 non-null int64\n",
            "조립금속     17 non-null int64\n",
            "기타기계     17 non-null int64\n",
            "사무기기     17 non-null int64\n",
            "전기기기     17 non-null int64\n",
            "영상,음향    17 non-null int64\n",
            "자동차      17 non-null int64\n",
            "기타운송     17 non-null int64\n",
            "가구및기타    17 non-null int64\n",
            "재생재료     17 non-null int64\n",
            "산업용합계    17 non-null int64\n",
            "합계       17 non-null int64\n",
            "dtypes: int64(27)\n",
            "memory usage: 3.7+ KB\n"
          ],
          "name": "stdout"
        }
      ]
    },
    {
      "metadata": {
        "id": "XyaalKuUA9wU",
        "colab_type": "text"
      },
      "cell_type": "markdown",
      "source": [
        "데이터 특성 보기\n",
        "--\n",
        "- boxplot\n",
        "- barplot\n",
        "- histogram"
      ]
    },
    {
      "metadata": {
        "id": "9l2WO-9wA9wV",
        "colab_type": "text"
      },
      "cell_type": "markdown",
      "source": [
        "박스플롯\n",
        "--"
      ]
    },
    {
      "metadata": {
        "id": "33rxpSy5A9wW",
        "colab_type": "text"
      },
      "cell_type": "markdown",
      "source": [
        "한글 폰트 설정 (맥, 윈도우, 리눅스)\n",
        "--"
      ]
    },
    {
      "metadata": {
        "id": "8Z-WKofgA9wX",
        "colab_type": "code",
        "colab": {}
      },
      "cell_type": "code",
      "source": [
        "# 운영 체제마다 한글이 보이게 하는 설정\n",
        "# 윈도우\n",
        "from matplotlib import font_manager, rc\n",
        "import platform\n",
        "if platform.system() == 'Windows':\n",
        "    path = \"c:\\Windows\\Fonts\\malgun.ttf\"\n",
        "    font_name = font_manager.FontProperties(fname=path).get_name()\n",
        "    rc('font', family=font_name)\n",
        "# 맥\n",
        "elif platform.system() == 'Darwin':\n",
        "    rc('font', family='AppleGothic')\n",
        "# 리눅스\n",
        "elif platform.system() == 'Linux':\n",
        "    rc('font', family='NanumBarunGothic')\n",
        "else:\n",
        "    print('system error...')"
      ],
      "execution_count": 0,
      "outputs": []
    },
    {
      "metadata": {
        "id": "IOorDxqTA9wZ",
        "colab_type": "code",
        "outputId": "6d0e371e-cddb-4304-bb02-4b6939878898",
        "colab": {
          "base_uri": "https://localhost:8080/",
          "height": 346
        }
      },
      "cell_type": "code",
      "source": [
        "power.describe()"
      ],
      "execution_count": 163,
      "outputs": [
        {
          "output_type": "execute_result",
          "data": {
            "text/html": [
              "<div>\n",
              "<style scoped>\n",
              "    .dataframe tbody tr th:only-of-type {\n",
              "        vertical-align: middle;\n",
              "    }\n",
              "\n",
              "    .dataframe tbody tr th {\n",
              "        vertical-align: top;\n",
              "    }\n",
              "\n",
              "    .dataframe thead th {\n",
              "        text-align: right;\n",
              "    }\n",
              "</style>\n",
              "<table border=\"1\" class=\"dataframe\">\n",
              "  <thead>\n",
              "    <tr style=\"text-align: right;\">\n",
              "      <th></th>\n",
              "      <th>주거용</th>\n",
              "      <th>공공용</th>\n",
              "      <th>서비스업</th>\n",
              "      <th>업무용합계</th>\n",
              "      <th>농림어업</th>\n",
              "      <th>광업</th>\n",
              "      <th>제조업</th>\n",
              "      <th>식료품제조</th>\n",
              "      <th>섬유,의류</th>\n",
              "      <th>목재,나무</th>\n",
              "      <th>...</th>\n",
              "      <th>기타기계</th>\n",
              "      <th>사무기기</th>\n",
              "      <th>전기기기</th>\n",
              "      <th>영상,음향</th>\n",
              "      <th>자동차</th>\n",
              "      <th>기타운송</th>\n",
              "      <th>가구및기타</th>\n",
              "      <th>재생재료</th>\n",
              "      <th>산업용합계</th>\n",
              "      <th>합계</th>\n",
              "    </tr>\n",
              "  </thead>\n",
              "  <tbody>\n",
              "    <tr>\n",
              "      <th>count</th>\n",
              "      <td>1.700000e+01</td>\n",
              "      <td>1.700000e+01</td>\n",
              "      <td>1.700000e+01</td>\n",
              "      <td>1.700000e+01</td>\n",
              "      <td>1.700000e+01</td>\n",
              "      <td>17.000000</td>\n",
              "      <td>1.700000e+01</td>\n",
              "      <td>1.700000e+01</td>\n",
              "      <td>1.700000e+01</td>\n",
              "      <td>17.000000</td>\n",
              "      <td>...</td>\n",
              "      <td>1.700000e+01</td>\n",
              "      <td>17.000000</td>\n",
              "      <td>1.700000e+01</td>\n",
              "      <td>1.700000e+01</td>\n",
              "      <td>1.700000e+01</td>\n",
              "      <td>1.700000e+01</td>\n",
              "      <td>1.700000e+01</td>\n",
              "      <td>17.000000</td>\n",
              "      <td>1.700000e+01</td>\n",
              "      <td>1.700000e+01</td>\n",
              "    </tr>\n",
              "    <tr>\n",
              "      <th>mean</th>\n",
              "      <td>3.912786e+06</td>\n",
              "      <td>1.388502e+06</td>\n",
              "      <td>8.291312e+06</td>\n",
              "      <td>9.679813e+06</td>\n",
              "      <td>9.400665e+05</td>\n",
              "      <td>102720.176471</td>\n",
              "      <td>1.523205e+07</td>\n",
              "      <td>6.636738e+05</td>\n",
              "      <td>6.623886e+05</td>\n",
              "      <td>113237.000000</td>\n",
              "      <td>...</td>\n",
              "      <td>6.199825e+05</td>\n",
              "      <td>28781.235294</td>\n",
              "      <td>3.412887e+05</td>\n",
              "      <td>2.805870e+06</td>\n",
              "      <td>1.053153e+06</td>\n",
              "      <td>2.600299e+05</td>\n",
              "      <td>2.005222e+05</td>\n",
              "      <td>33137.000000</td>\n",
              "      <td>1.627484e+07</td>\n",
              "      <td>2.986743e+07</td>\n",
              "    </tr>\n",
              "    <tr>\n",
              "      <th>std</th>\n",
              "      <td>4.310227e+06</td>\n",
              "      <td>1.298531e+06</td>\n",
              "      <td>8.708909e+06</td>\n",
              "      <td>9.981623e+06</td>\n",
              "      <td>1.010972e+06</td>\n",
              "      <td>122502.337918</td>\n",
              "      <td>1.524290e+07</td>\n",
              "      <td>6.333206e+05</td>\n",
              "      <td>9.612365e+05</td>\n",
              "      <td>192034.155445</td>\n",
              "      <td>...</td>\n",
              "      <td>9.142491e+05</td>\n",
              "      <td>75569.163261</td>\n",
              "      <td>3.788489e+05</td>\n",
              "      <td>6.246070e+06</td>\n",
              "      <td>1.031256e+06</td>\n",
              "      <td>5.260199e+05</td>\n",
              "      <td>4.450945e+05</td>\n",
              "      <td>38105.462924</td>\n",
              "      <td>1.598920e+07</td>\n",
              "      <td>2.618055e+07</td>\n",
              "    </tr>\n",
              "    <tr>\n",
              "      <th>min</th>\n",
              "      <td>3.849030e+05</td>\n",
              "      <td>2.996750e+05</td>\n",
              "      <td>6.454240e+05</td>\n",
              "      <td>9.450990e+05</td>\n",
              "      <td>1.515000e+04</td>\n",
              "      <td>2898.000000</td>\n",
              "      <td>2.415370e+05</td>\n",
              "      <td>1.102110e+05</td>\n",
              "      <td>3.497000e+03</td>\n",
              "      <td>1324.000000</td>\n",
              "      <td>...</td>\n",
              "      <td>1.167000e+03</td>\n",
              "      <td>0.000000</td>\n",
              "      <td>7.710000e+02</td>\n",
              "      <td>0.000000e+00</td>\n",
              "      <td>7.730000e+02</td>\n",
              "      <td>0.000000e+00</td>\n",
              "      <td>1.743000e+03</td>\n",
              "      <td>743.000000</td>\n",
              "      <td>1.588755e+06</td>\n",
              "      <td>2.918758e+06</td>\n",
              "    </tr>\n",
              "    <tr>\n",
              "      <th>25%</th>\n",
              "      <td>1.940933e+06</td>\n",
              "      <td>8.263960e+05</td>\n",
              "      <td>3.955921e+06</td>\n",
              "      <td>4.910602e+06</td>\n",
              "      <td>7.460800e+04</td>\n",
              "      <td>14019.000000</td>\n",
              "      <td>2.910768e+06</td>\n",
              "      <td>2.041710e+05</td>\n",
              "      <td>7.589500e+04</td>\n",
              "      <td>6782.000000</td>\n",
              "      <td>...</td>\n",
              "      <td>7.797000e+04</td>\n",
              "      <td>4395.000000</td>\n",
              "      <td>8.360900e+04</td>\n",
              "      <td>4.622500e+04</td>\n",
              "      <td>1.134480e+05</td>\n",
              "      <td>1.765600e+04</td>\n",
              "      <td>1.339200e+04</td>\n",
              "      <td>2875.000000</td>\n",
              "      <td>2.988274e+06</td>\n",
              "      <td>1.538637e+07</td>\n",
              "    </tr>\n",
              "    <tr>\n",
              "      <th>50%</th>\n",
              "      <td>2.326183e+06</td>\n",
              "      <td>1.089613e+06</td>\n",
              "      <td>5.690659e+06</td>\n",
              "      <td>6.654683e+06</td>\n",
              "      <td>6.071390e+05</td>\n",
              "      <td>71529.000000</td>\n",
              "      <td>1.236782e+07</td>\n",
              "      <td>5.329430e+05</td>\n",
              "      <td>3.338460e+05</td>\n",
              "      <td>27998.000000</td>\n",
              "      <td>...</td>\n",
              "      <td>1.988470e+05</td>\n",
              "      <td>7240.000000</td>\n",
              "      <td>1.785020e+05</td>\n",
              "      <td>4.200050e+05</td>\n",
              "      <td>6.128980e+05</td>\n",
              "      <td>6.812700e+04</td>\n",
              "      <td>4.181400e+04</td>\n",
              "      <td>19725.000000</td>\n",
              "      <td>1.258230e+07</td>\n",
              "      <td>2.451531e+07</td>\n",
              "    </tr>\n",
              "    <tr>\n",
              "      <th>75%</th>\n",
              "      <td>3.856852e+06</td>\n",
              "      <td>1.400421e+06</td>\n",
              "      <td>7.582169e+06</td>\n",
              "      <td>8.888045e+06</td>\n",
              "      <td>1.747462e+06</td>\n",
              "      <td>139856.000000</td>\n",
              "      <td>2.145393e+07</td>\n",
              "      <td>9.327430e+05</td>\n",
              "      <td>7.316510e+05</td>\n",
              "      <td>72680.000000</td>\n",
              "      <td>...</td>\n",
              "      <td>7.825700e+05</td>\n",
              "      <td>14319.000000</td>\n",
              "      <td>4.289060e+05</td>\n",
              "      <td>1.124564e+06</td>\n",
              "      <td>2.156059e+06</td>\n",
              "      <td>1.239350e+05</td>\n",
              "      <td>1.327070e+05</td>\n",
              "      <td>46038.000000</td>\n",
              "      <td>2.462327e+07</td>\n",
              "      <td>3.464786e+07</td>\n",
              "    </tr>\n",
              "    <tr>\n",
              "      <th>max</th>\n",
              "      <td>1.658771e+07</td>\n",
              "      <td>5.533662e+06</td>\n",
              "      <td>3.343455e+07</td>\n",
              "      <td>3.896821e+07</td>\n",
              "      <td>3.096126e+06</td>\n",
              "      <td>398287.000000</td>\n",
              "      <td>5.660333e+07</td>\n",
              "      <td>2.544420e+06</td>\n",
              "      <td>3.780171e+06</td>\n",
              "      <td>639429.000000</td>\n",
              "      <td>...</td>\n",
              "      <td>3.613798e+06</td>\n",
              "      <td>317244.000000</td>\n",
              "      <td>1.125141e+06</td>\n",
              "      <td>2.451964e+07</td>\n",
              "      <td>2.977165e+06</td>\n",
              "      <td>2.048646e+06</td>\n",
              "      <td>1.833112e+06</td>\n",
              "      <td>133041.000000</td>\n",
              "      <td>5.929194e+07</td>\n",
              "      <td>1.148479e+08</td>\n",
              "    </tr>\n",
              "  </tbody>\n",
              "</table>\n",
              "<p>8 rows × 27 columns</p>\n",
              "</div>"
            ],
            "text/plain": [
              "                주거용           공공용          서비스업         업무용합계          농림어업  \\\n",
              "count  1.700000e+01  1.700000e+01  1.700000e+01  1.700000e+01  1.700000e+01   \n",
              "mean   3.912786e+06  1.388502e+06  8.291312e+06  9.679813e+06  9.400665e+05   \n",
              "std    4.310227e+06  1.298531e+06  8.708909e+06  9.981623e+06  1.010972e+06   \n",
              "min    3.849030e+05  2.996750e+05  6.454240e+05  9.450990e+05  1.515000e+04   \n",
              "25%    1.940933e+06  8.263960e+05  3.955921e+06  4.910602e+06  7.460800e+04   \n",
              "50%    2.326183e+06  1.089613e+06  5.690659e+06  6.654683e+06  6.071390e+05   \n",
              "75%    3.856852e+06  1.400421e+06  7.582169e+06  8.888045e+06  1.747462e+06   \n",
              "max    1.658771e+07  5.533662e+06  3.343455e+07  3.896821e+07  3.096126e+06   \n",
              "\n",
              "                  광업           제조업         식료품제조         섬유,의류          목재,나무  \\\n",
              "count      17.000000  1.700000e+01  1.700000e+01  1.700000e+01      17.000000   \n",
              "mean   102720.176471  1.523205e+07  6.636738e+05  6.623886e+05  113237.000000   \n",
              "std    122502.337918  1.524290e+07  6.333206e+05  9.612365e+05  192034.155445   \n",
              "min      2898.000000  2.415370e+05  1.102110e+05  3.497000e+03    1324.000000   \n",
              "25%     14019.000000  2.910768e+06  2.041710e+05  7.589500e+04    6782.000000   \n",
              "50%     71529.000000  1.236782e+07  5.329430e+05  3.338460e+05   27998.000000   \n",
              "75%    139856.000000  2.145393e+07  9.327430e+05  7.316510e+05   72680.000000   \n",
              "max    398287.000000  5.660333e+07  2.544420e+06  3.780171e+06  639429.000000   \n",
              "\n",
              "           ...               기타기계           사무기기          전기기기         영상,음향  \\\n",
              "count      ...       1.700000e+01      17.000000  1.700000e+01  1.700000e+01   \n",
              "mean       ...       6.199825e+05   28781.235294  3.412887e+05  2.805870e+06   \n",
              "std        ...       9.142491e+05   75569.163261  3.788489e+05  6.246070e+06   \n",
              "min        ...       1.167000e+03       0.000000  7.710000e+02  0.000000e+00   \n",
              "25%        ...       7.797000e+04    4395.000000  8.360900e+04  4.622500e+04   \n",
              "50%        ...       1.988470e+05    7240.000000  1.785020e+05  4.200050e+05   \n",
              "75%        ...       7.825700e+05   14319.000000  4.289060e+05  1.124564e+06   \n",
              "max        ...       3.613798e+06  317244.000000  1.125141e+06  2.451964e+07   \n",
              "\n",
              "                자동차          기타운송         가구및기타           재생재료         산업용합계  \\\n",
              "count  1.700000e+01  1.700000e+01  1.700000e+01      17.000000  1.700000e+01   \n",
              "mean   1.053153e+06  2.600299e+05  2.005222e+05   33137.000000  1.627484e+07   \n",
              "std    1.031256e+06  5.260199e+05  4.450945e+05   38105.462924  1.598920e+07   \n",
              "min    7.730000e+02  0.000000e+00  1.743000e+03     743.000000  1.588755e+06   \n",
              "25%    1.134480e+05  1.765600e+04  1.339200e+04    2875.000000  2.988274e+06   \n",
              "50%    6.128980e+05  6.812700e+04  4.181400e+04   19725.000000  1.258230e+07   \n",
              "75%    2.156059e+06  1.239350e+05  1.327070e+05   46038.000000  2.462327e+07   \n",
              "max    2.977165e+06  2.048646e+06  1.833112e+06  133041.000000  5.929194e+07   \n",
              "\n",
              "                 합계  \n",
              "count  1.700000e+01  \n",
              "mean   2.986743e+07  \n",
              "std    2.618055e+07  \n",
              "min    2.918758e+06  \n",
              "25%    1.538637e+07  \n",
              "50%    2.451531e+07  \n",
              "75%    3.464786e+07  \n",
              "max    1.148479e+08  \n",
              "\n",
              "[8 rows x 27 columns]"
            ]
          },
          "metadata": {
            "tags": []
          },
          "execution_count": 163
        }
      ]
    },
    {
      "metadata": {
        "scrolled": false,
        "id": "pIvhsrUtA9wc",
        "colab_type": "code",
        "outputId": "28ccb194-21d3-4a3a-be29-7525267ebe2d",
        "colab": {
          "base_uri": "https://localhost:8080/",
          "height": 572
        }
      },
      "cell_type": "code",
      "source": [
        "power.drop('합계', axis=1).boxplot(figsize=(12,8))\n",
        "plt.xticks(rotation=45)"
      ],
      "execution_count": 164,
      "outputs": [
        {
          "output_type": "execute_result",
          "data": {
            "text/plain": [
              "(array([ 1,  2,  3,  4,  5,  6,  7,  8,  9, 10, 11, 12, 13, 14, 15, 16, 17,\n",
              "        18, 19, 20, 21, 22, 23, 24, 25, 26]),\n",
              " <a list of 26 Text xticklabel objects>)"
            ]
          },
          "metadata": {
            "tags": []
          },
          "execution_count": 164
        },
        {
          "output_type": "display_data",
          "data": {
            "image/png": "[encoded data removed]",
            "text/plain": [
              "<Figure size 864x576 with 1 Axes>"
            ]
          },
          "metadata": {
            "tags": []
          }
        }
      ]
    },
    {
      "metadata": {
        "id": "nSNmtdA5A9wg",
        "colab_type": "code",
        "outputId": "6e0e666d-e3d9-4ffe-a01f-b55d1bb79215",
        "colab": {
          "base_uri": "https://localhost:8080/",
          "height": 401
        }
      },
      "cell_type": "code",
      "source": [
        "power[['서비스업','제조업']].boxplot(figsize=(10,6))"
      ],
      "execution_count": 165,
      "outputs": [
        {
          "output_type": "execute_result",
          "data": {
            "text/plain": [
              "<matplotlib.axes._subplots.AxesSubplot at 0x7fc198eae710>"
            ]
          },
          "metadata": {
            "tags": []
          },
          "execution_count": 165
        },
        {
          "output_type": "display_data",
          "data": {
            "image/png": "[encoded data removed]",
            "text/plain": [
              "<Figure size 720x432 with 1 Axes>"
            ]
          },
          "metadata": {
            "tags": []
          }
        }
      ]
    },
    {
      "metadata": {
        "id": "8B7CYxu0A9wl",
        "colab_type": "text"
      },
      "cell_type": "markdown",
      "source": [
        "바 플롯 (수평형)\n",
        "--"
      ]
    },
    {
      "metadata": {
        "id": "PWzdT5nuA9wm",
        "colab_type": "code",
        "colab": {}
      },
      "cell_type": "code",
      "source": [
        "power = power.drop('합계', axis=1)"
      ],
      "execution_count": 0,
      "outputs": []
    },
    {
      "metadata": {
        "scrolled": true,
        "id": "X0u99HX5A9wq",
        "colab_type": "code",
        "outputId": "5b421e05-7812-4794-832f-808275a76b55",
        "colab": {
          "base_uri": "https://localhost:8080/",
          "height": 513
        }
      },
      "cell_type": "code",
      "source": [
        "power.plot(kind='barh', figsize=(12,8), stacked=True)"
      ],
      "execution_count": 167,
      "outputs": [
        {
          "output_type": "execute_result",
          "data": {
            "text/plain": [
              "<matplotlib.axes._subplots.AxesSubplot at 0x7fc198e4c780>"
            ]
          },
          "metadata": {
            "tags": []
          },
          "execution_count": 167
        },
        {
          "output_type": "display_data",
          "data": {
            "image/png": "[encoded data removed]",
            "text/plain": [
              "<Figure size 864x576 with 1 Axes>"
            ]
          },
          "metadata": {
            "tags": []
          }
        }
      ]
    },
    {
      "metadata": {
        "id": "j3Djhsd3A9ww",
        "colab_type": "code",
        "colab": {}
      },
      "cell_type": "code",
      "source": [
        "power = power.drop(['합계', '개성'], errors='ignore')"
      ],
      "execution_count": 0,
      "outputs": []
    },
    {
      "metadata": {
        "id": "PD52XJy2A9wz",
        "colab_type": "code",
        "outputId": "e8b0816a-f4e8-4ffd-e2cd-a00985a4c9a8",
        "colab": {
          "base_uri": "https://localhost:8080/",
          "height": 446
        }
      },
      "cell_type": "code",
      "source": [
        "power.plot(kind='barh', figsize=(10,6), stacked=True)"
      ],
      "execution_count": 169,
      "outputs": [
        {
          "output_type": "execute_result",
          "data": {
            "text/plain": [
              "<matplotlib.axes._subplots.AxesSubplot at 0x7fc198a28780>"
            ]
          },
          "metadata": {
            "tags": []
          },
          "execution_count": 169
        },
        {
          "output_type": "display_data",
          "data": {
            "image/png": "[encoded data removed]",
            "text/plain": [
              "<Figure size 720x432 with 1 Axes>"
            ]
          },
          "metadata": {
            "tags": []
          }
        }
      ]
    },
    {
      "metadata": {
        "id": "-L5Sx0_hA9w2",
        "colab_type": "code",
        "outputId": "2c0578dd-646e-47af-fdb4-fc634c40dbe4",
        "colab": {
          "base_uri": "https://localhost:8080/",
          "height": 513
        }
      },
      "cell_type": "code",
      "source": [
        "sample = ['주거용', '공공용', '서비스업', '농림어업', '제조업']\n",
        "power[sample].plot(kind='barh', figsize=(12,8), stacked=True)"
      ],
      "execution_count": 170,
      "outputs": [
        {
          "output_type": "execute_result",
          "data": {
            "text/plain": [
              "<matplotlib.axes._subplots.AxesSubplot at 0x7fc1993bd400>"
            ]
          },
          "metadata": {
            "tags": []
          },
          "execution_count": 170
        },
        {
          "output_type": "display_data",
          "data": {
            "image/png": "[encoded data removed]",
            "text/plain": [
              "<Figure size 864x576 with 1 Axes>"
            ]
          },
          "metadata": {
            "tags": []
          }
        }
      ]
    },
    {
      "metadata": {
        "id": "3iqT_eLqA9w5",
        "colab_type": "code",
        "outputId": "a3f8feeb-5d9d-48d6-dcc3-acb02cfd49dc",
        "colab": {
          "base_uri": "https://localhost:8080/",
          "height": 404
        }
      },
      "cell_type": "code",
      "source": [
        "see2 = [ '서비스업','제조업']\n",
        "power[see2].plot(kind='barh', figsize=(10,6), stacked=True)"
      ],
      "execution_count": 171,
      "outputs": [
        {
          "output_type": "execute_result",
          "data": {
            "text/plain": [
              "<matplotlib.axes._subplots.AxesSubplot at 0x7fc198eae7f0>"
            ]
          },
          "metadata": {
            "tags": []
          },
          "execution_count": 171
        },
        {
          "output_type": "display_data",
          "data": {
            "image/png": "[encoded data removed]",
            "text/plain": [
              "<Figure size 720x432 with 1 Axes>"
            ]
          },
          "metadata": {
            "tags": []
          }
        }
      ]
    },
    {
      "metadata": {
        "scrolled": false,
        "id": "IGkzLLHgA9w-",
        "colab_type": "code",
        "outputId": "4bf064e8-64c4-415a-8fbf-337d4fdbaef3",
        "colab": {
          "base_uri": "https://localhost:8080/",
          "height": 235
        }
      },
      "cell_type": "code",
      "source": [
        "power = power[['서비스업', '제조업']]\n",
        "power.head(5)"
      ],
      "execution_count": 172,
      "outputs": [
        {
          "output_type": "execute_result",
          "data": {
            "text/html": [
              "<div>\n",
              "<style scoped>\n",
              "    .dataframe tbody tr th:only-of-type {\n",
              "        vertical-align: middle;\n",
              "    }\n",
              "\n",
              "    .dataframe tbody tr th {\n",
              "        vertical-align: top;\n",
              "    }\n",
              "\n",
              "    .dataframe thead th {\n",
              "        text-align: right;\n",
              "    }\n",
              "</style>\n",
              "<table border=\"1\" class=\"dataframe\">\n",
              "  <thead>\n",
              "    <tr style=\"text-align: right;\">\n",
              "      <th></th>\n",
              "      <th>서비스업</th>\n",
              "      <th>제조업</th>\n",
              "    </tr>\n",
              "    <tr>\n",
              "      <th>구분</th>\n",
              "      <th></th>\n",
              "      <th></th>\n",
              "    </tr>\n",
              "  </thead>\n",
              "  <tbody>\n",
              "    <tr>\n",
              "      <th>강원</th>\n",
              "      <td>6203749</td>\n",
              "      <td>6002286</td>\n",
              "    </tr>\n",
              "    <tr>\n",
              "      <th>경기</th>\n",
              "      <td>33434551</td>\n",
              "      <td>56603327</td>\n",
              "    </tr>\n",
              "    <tr>\n",
              "      <th>경남</th>\n",
              "      <td>8667737</td>\n",
              "      <td>18053778</td>\n",
              "    </tr>\n",
              "    <tr>\n",
              "      <th>경북</th>\n",
              "      <td>8487402</td>\n",
              "      <td>30115601</td>\n",
              "    </tr>\n",
              "    <tr>\n",
              "      <th>광주</th>\n",
              "      <td>3174973</td>\n",
              "      <td>2910768</td>\n",
              "    </tr>\n",
              "  </tbody>\n",
              "</table>\n",
              "</div>"
            ],
            "text/plain": [
              "        서비스업       제조업\n",
              "구분                    \n",
              "강원   6203749   6002286\n",
              "경기  33434551  56603327\n",
              "경남   8667737  18053778\n",
              "경북   8487402  30115601\n",
              "광주   3174973   2910768"
            ]
          },
          "metadata": {
            "tags": []
          },
          "execution_count": 172
        }
      ]
    },
    {
      "metadata": {
        "id": "uTjAQX_sA9xB",
        "colab_type": "text"
      },
      "cell_type": "markdown",
      "source": [
        "히스토그램\n",
        "--"
      ]
    },
    {
      "metadata": {
        "id": "tVVXmT2lA9xC",
        "colab_type": "code",
        "outputId": "4141d1b9-dbcb-4596-eb62-07ff5826680e",
        "colab": {
          "base_uri": "https://localhost:8080/",
          "height": 315
        }
      },
      "cell_type": "code",
      "source": [
        "power['서비스업'].hist()"
      ],
      "execution_count": 173,
      "outputs": [
        {
          "output_type": "execute_result",
          "data": {
            "text/plain": [
              "<matplotlib.axes._subplots.AxesSubplot at 0x7fc198686c88>"
            ]
          },
          "metadata": {
            "tags": []
          },
          "execution_count": 173
        },
        {
          "output_type": "display_data",
          "data": {
            "image/png": "[encoded data removed]",
            "text/plain": [
              "<Figure size 432x288 with 1 Axes>"
            ]
          },
          "metadata": {
            "tags": []
          }
        }
      ]
    },
    {
      "metadata": {
        "id": "I_kRMakKA9xG",
        "colab_type": "text"
      },
      "cell_type": "markdown",
      "source": [
        "스캐터 플롯\n",
        "--"
      ]
    },
    {
      "metadata": {
        "id": "nZDfBMDqA9xH",
        "colab_type": "code",
        "outputId": "1a6bec63-cb0c-49ff-fd43-2109b81b4722",
        "colab": {
          "base_uri": "https://localhost:8080/",
          "height": 34
        }
      },
      "cell_type": "code",
      "source": [
        "print(power.shape)"
      ],
      "execution_count": 174,
      "outputs": [
        {
          "output_type": "stream",
          "text": [
            "(17, 2)\n"
          ],
          "name": "stdout"
        }
      ]
    },
    {
      "metadata": {
        "id": "6vQxxLt8A9xK",
        "colab_type": "code",
        "outputId": "c5478708-22ed-4d6a-9363-f93b6b497dd3",
        "colab": {
          "base_uri": "https://localhost:8080/",
          "height": 34
        }
      },
      "cell_type": "code",
      "source": [
        "n_samples = power.shape[0]\n",
        "n_samples"
      ],
      "execution_count": 175,
      "outputs": [
        {
          "output_type": "execute_result",
          "data": {
            "text/plain": [
              "17"
            ]
          },
          "metadata": {
            "tags": []
          },
          "execution_count": 175
        }
      ]
    },
    {
      "metadata": {
        "id": "e82tUmzsA9xN",
        "colab_type": "code",
        "outputId": "7e232d6e-c9d4-41b7-f80c-7520a8a6372e",
        "colab": {
          "base_uri": "https://localhost:8080/",
          "height": 34
        }
      },
      "cell_type": "code",
      "source": [
        "print(n_samples)"
      ],
      "execution_count": 176,
      "outputs": [
        {
          "output_type": "stream",
          "text": [
            "17\n"
          ],
          "name": "stdout"
        }
      ]
    },
    {
      "metadata": {
        "scrolled": true,
        "id": "XqzGK77kA9xQ",
        "colab_type": "code",
        "outputId": "c96dc7e6-2994-408c-b22f-91bcf4c9cf22",
        "colab": {
          "base_uri": "https://localhost:8080/",
          "height": 526
        }
      },
      "cell_type": "code",
      "source": [
        "plt.figure(figsize=(8,8))\n",
        "plt.scatter(power['서비스업'], power['제조업'])\n",
        "plt.xlabel('서비스업')\n",
        "plt.ylabel('제조업')"
      ],
      "execution_count": 177,
      "outputs": [
        {
          "output_type": "execute_result",
          "data": {
            "text/plain": [
              "Text(0, 0.5, '제조업')"
            ]
          },
          "metadata": {
            "tags": []
          },
          "execution_count": 177
        },
        {
          "output_type": "display_data",
          "data": {
            "image/png": "[encoded data removed]",
            "text/plain": [
              "<Figure size 576x576 with 1 Axes>"
            ]
          },
          "metadata": {
            "tags": []
          }
        }
      ]
    },
    {
      "metadata": {
        "id": "Cb2ljN0XA9xU",
        "colab_type": "code",
        "outputId": "12458eda-1515-4799-e156-5108f357f59f",
        "colab": {
          "base_uri": "https://localhost:8080/",
          "height": 509
        }
      },
      "cell_type": "code",
      "source": [
        "plt.figure(figsize=(8,8))\n",
        "plt.scatter(power['서비스업'], power['제조업'],c='k',marker='o')\n",
        "plt.xlabel('서비스업')\n",
        "plt.ylabel('제조업')\n",
        "\n",
        "for n in range(power.shape[0]):\n",
        "    plt.text(power['서비스업'][n]*1.03, power['제조업'][n]*0.98, power.index[n])"
      ],
      "execution_count": 178,
      "outputs": [
        {
          "output_type": "display_data",
          "data": {
            "image/png": "[encoded data removed]",
            "text/plain": [
              "<Figure size 576x576 with 1 Axes>"
            ]
          },
          "metadata": {
            "tags": []
          }
        }
      ]
    },
    {
      "metadata": {
        "id": "m1N8GsKRA9xY",
        "colab_type": "code",
        "colab": {}
      },
      "cell_type": "code",
      "source": [
        "power = power.drop(['경기', '서울'])"
      ],
      "execution_count": 0,
      "outputs": []
    },
    {
      "metadata": {
        "id": "MnPEgjMyA9xf",
        "colab_type": "code",
        "outputId": "06b09d24-f923-4376-baad-8556f03615ef",
        "colab": {
          "base_uri": "https://localhost:8080/",
          "height": 509
        }
      },
      "cell_type": "code",
      "source": [
        "plt.figure(figsize=(8,8))\n",
        "plt.scatter(power['서비스업'], power['제조업'],c='k',marker='o')\n",
        "plt.xlabel('서비스업')\n",
        "plt.ylabel('제조업')\n",
        "\n",
        "for n in range(power.shape[0]):\n",
        "    plt.text(power['서비스업'][n]*1.03, power['제조업'][n]*0.98, power.index[n])"
      ],
      "execution_count": 180,
      "outputs": [
        {
          "output_type": "display_data",
          "data": {
            "image/png": "[encoded data removed]",
            "text/plain": [
              "<Figure size 576x576 with 1 Axes>"
            ]
          },
          "metadata": {
            "tags": []
          }
        }
      ]
    },
    {
      "metadata": {
        "id": "lzUTPTFj5tY6",
        "colab_type": "code",
        "outputId": "a594c40b-9b19-42cf-8bb7-4c0562c3ca1a",
        "colab": {
          "base_uri": "https://localhost:8080/",
          "height": 332
        }
      },
      "cell_type": "code",
      "source": [
        "from scipy.cluster.hierarchy import dendrogram, linkage\n",
        "import matplotlib.pyplot as plt\n",
        "plt.figure(figsize=(10, 5))\n",
        "link_dist = linkage(power, metric='euclidean', method='ward')  \n",
        "dendrogram(link_dist, labels=power.index)\n",
        "plt.show()\n",
        "#y축은 반원의 크기"
      ],
      "execution_count": 181,
      "outputs": [
        {
          "output_type": "display_data",
          "data": {
            "image/png": "[encoded data removed]",
            "text/plain": [
              "<Figure size 720x360 with 1 Axes>"
            ]
          },
          "metadata": {
            "tags": []
          }
        }
      ]
    },
    {
      "metadata": {
        "id": "4jljxwRjbWij",
        "colab_type": "text"
      },
      "cell_type": "markdown",
      "source": [
        "\n",
        "##거리가 가깝다. 거리를 재는 방법은 유클리드거리, 등등 (3개정도 더 있다)\n",
        "##Kmeans \n",
        "### 몇개의 랜덤으로 점을 찍고(중점) 중점에서 거리가 가까운 순으로 클러스터를 나눔, 중점은 위치가 계속 변경이됨. 더이상 중점이 변경이없을땍까지 반복해준다.\n",
        "\n"
      ]
    },
    {
      "metadata": {
        "id": "-Hfz6T7t5tXM",
        "colab_type": "code",
        "outputId": "7880e192-8518-4357-e527-815ef6684069",
        "colab": {
          "base_uri": "https://localhost:8080/",
          "height": 34
        }
      },
      "cell_type": "code",
      "source": [
        "\n",
        "from sklearn.cluster import KMeans\n",
        "k = KMeans(n_clusters=6).fit(power)\n",
        "print(k.n_clusters)"
      ],
      "execution_count": 182,
      "outputs": [
        {
          "output_type": "stream",
          "text": [
            "6\n"
          ],
          "name": "stdout"
        }
      ]
    },
    {
      "metadata": {
        "id": "Rg6IvJ66c_mn",
        "colab_type": "code",
        "colab": {
          "base_uri": "https://localhost:8080/",
          "height": 34
        },
        "outputId": "08830207-a922-44ab-bdf2-1cf55c32fdd5"
      },
      "cell_type": "code",
      "source": [
        "k.labels_"
      ],
      "execution_count": 183,
      "outputs": [
        {
          "output_type": "execute_result",
          "data": {
            "text/plain": [
              "array([4, 2, 1, 0, 4, 0, 4, 0, 1, 3, 2, 3, 0, 5, 3], dtype=int32)"
            ]
          },
          "metadata": {
            "tags": []
          },
          "execution_count": 183
        }
      ]
    },
    {
      "metadata": {
        "id": "UrRuD0N05tUN",
        "colab_type": "code",
        "outputId": "06ecfbc9-3253-4a76-d797-3c8e00f6a3e6",
        "colab": {
          "base_uri": "https://localhost:8080/",
          "height": 390
        }
      },
      "cell_type": "code",
      "source": [
        "power['클러스터'] = k.labels_\n",
        "power.head(10)"
      ],
      "execution_count": 184,
      "outputs": [
        {
          "output_type": "execute_result",
          "data": {
            "text/html": [
              "<div>\n",
              "<style scoped>\n",
              "    .dataframe tbody tr th:only-of-type {\n",
              "        vertical-align: middle;\n",
              "    }\n",
              "\n",
              "    .dataframe tbody tr th {\n",
              "        vertical-align: top;\n",
              "    }\n",
              "\n",
              "    .dataframe thead th {\n",
              "        text-align: right;\n",
              "    }\n",
              "</style>\n",
              "<table border=\"1\" class=\"dataframe\">\n",
              "  <thead>\n",
              "    <tr style=\"text-align: right;\">\n",
              "      <th></th>\n",
              "      <th>서비스업</th>\n",
              "      <th>제조업</th>\n",
              "      <th>클러스터</th>\n",
              "    </tr>\n",
              "    <tr>\n",
              "      <th>구분</th>\n",
              "      <th></th>\n",
              "      <th></th>\n",
              "      <th></th>\n",
              "    </tr>\n",
              "  </thead>\n",
              "  <tbody>\n",
              "    <tr>\n",
              "      <th>강원</th>\n",
              "      <td>6203749</td>\n",
              "      <td>6002286</td>\n",
              "      <td>4</td>\n",
              "    </tr>\n",
              "    <tr>\n",
              "      <th>경남</th>\n",
              "      <td>8667737</td>\n",
              "      <td>18053778</td>\n",
              "      <td>2</td>\n",
              "    </tr>\n",
              "    <tr>\n",
              "      <th>경북</th>\n",
              "      <td>8487402</td>\n",
              "      <td>30115601</td>\n",
              "      <td>1</td>\n",
              "    </tr>\n",
              "    <tr>\n",
              "      <th>광주</th>\n",
              "      <td>3174973</td>\n",
              "      <td>2910768</td>\n",
              "      <td>0</td>\n",
              "    </tr>\n",
              "    <tr>\n",
              "      <th>대구</th>\n",
              "      <td>5470438</td>\n",
              "      <td>5862633</td>\n",
              "      <td>4</td>\n",
              "    </tr>\n",
              "    <tr>\n",
              "      <th>대전</th>\n",
              "      <td>3955921</td>\n",
              "      <td>2608343</td>\n",
              "      <td>0</td>\n",
              "    </tr>\n",
              "    <tr>\n",
              "      <th>부산</th>\n",
              "      <td>7582169</td>\n",
              "      <td>7512588</td>\n",
              "      <td>4</td>\n",
              "    </tr>\n",
              "    <tr>\n",
              "      <th>세종</th>\n",
              "      <td>645424</td>\n",
              "      <td>1502922</td>\n",
              "      <td>0</td>\n",
              "    </tr>\n",
              "    <tr>\n",
              "      <th>울산</th>\n",
              "      <td>3649386</td>\n",
              "      <td>25883132</td>\n",
              "      <td>1</td>\n",
              "    </tr>\n",
              "    <tr>\n",
              "      <th>인천</th>\n",
              "      <td>7154416</td>\n",
              "      <td>12367816</td>\n",
              "      <td>3</td>\n",
              "    </tr>\n",
              "  </tbody>\n",
              "</table>\n",
              "</div>"
            ],
            "text/plain": [
              "       서비스업       제조업  클러스터\n",
              "구분                         \n",
              "강원  6203749   6002286     4\n",
              "경남  8667737  18053778     2\n",
              "경북  8487402  30115601     1\n",
              "광주  3174973   2910768     0\n",
              "대구  5470438   5862633     4\n",
              "대전  3955921   2608343     0\n",
              "부산  7582169   7512588     4\n",
              "세종   645424   1502922     0\n",
              "울산  3649386  25883132     1\n",
              "인천  7154416  12367816     3"
            ]
          },
          "metadata": {
            "tags": []
          },
          "execution_count": 184
        }
      ]
    },
    {
      "metadata": {
        "id": "ohOwvqNC5tRV",
        "colab_type": "code",
        "outputId": "c0f1c214-4651-4416-d1d6-80c3d804b6a0",
        "colab": {
          "base_uri": "https://localhost:8080/",
          "height": 235
        }
      },
      "cell_type": "code",
      "source": [
        "power.drop('클러스터', axis = 1, inplace=True) ; power.head()"
      ],
      "execution_count": 185,
      "outputs": [
        {
          "output_type": "execute_result",
          "data": {
            "text/html": [
              "<div>\n",
              "<style scoped>\n",
              "    .dataframe tbody tr th:only-of-type {\n",
              "        vertical-align: middle;\n",
              "    }\n",
              "\n",
              "    .dataframe tbody tr th {\n",
              "        vertical-align: top;\n",
              "    }\n",
              "\n",
              "    .dataframe thead th {\n",
              "        text-align: right;\n",
              "    }\n",
              "</style>\n",
              "<table border=\"1\" class=\"dataframe\">\n",
              "  <thead>\n",
              "    <tr style=\"text-align: right;\">\n",
              "      <th></th>\n",
              "      <th>서비스업</th>\n",
              "      <th>제조업</th>\n",
              "    </tr>\n",
              "    <tr>\n",
              "      <th>구분</th>\n",
              "      <th></th>\n",
              "      <th></th>\n",
              "    </tr>\n",
              "  </thead>\n",
              "  <tbody>\n",
              "    <tr>\n",
              "      <th>강원</th>\n",
              "      <td>6203749</td>\n",
              "      <td>6002286</td>\n",
              "    </tr>\n",
              "    <tr>\n",
              "      <th>경남</th>\n",
              "      <td>8667737</td>\n",
              "      <td>18053778</td>\n",
              "    </tr>\n",
              "    <tr>\n",
              "      <th>경북</th>\n",
              "      <td>8487402</td>\n",
              "      <td>30115601</td>\n",
              "    </tr>\n",
              "    <tr>\n",
              "      <th>광주</th>\n",
              "      <td>3174973</td>\n",
              "      <td>2910768</td>\n",
              "    </tr>\n",
              "    <tr>\n",
              "      <th>대구</th>\n",
              "      <td>5470438</td>\n",
              "      <td>5862633</td>\n",
              "    </tr>\n",
              "  </tbody>\n",
              "</table>\n",
              "</div>"
            ],
            "text/plain": [
              "       서비스업       제조업\n",
              "구분                   \n",
              "강원  6203749   6002286\n",
              "경남  8667737  18053778\n",
              "경북  8487402  30115601\n",
              "광주  3174973   2910768\n",
              "대구  5470438   5862633"
            ]
          },
          "metadata": {
            "tags": []
          },
          "execution_count": 185
        }
      ]
    },
    {
      "metadata": {
        "id": "MXYzt5mR5tPH",
        "colab_type": "code",
        "outputId": "6d320e28-ba18-4780-f297-3cb059dd918e",
        "colab": {
          "base_uri": "https://localhost:8080/",
          "height": 119
        }
      },
      "cell_type": "code",
      "source": [
        "centers = k.cluster_centers_ ; centers"
      ],
      "execution_count": 186,
      "outputs": [
        {
          "output_type": "execute_result",
          "data": {
            "text/plain": [
              "array([[ 2521262.5       ,  1815892.5       ],\n",
              "       [ 6068394.        , 27999366.5       ],\n",
              "       [ 7179198.        , 19753852.        ],\n",
              "       [ 5623124.        , 13739046.33333333],\n",
              "       [ 6418785.33333333,  6459169.        ],\n",
              "       [ 7164439.        , 37057955.        ]])"
            ]
          },
          "metadata": {
            "tags": []
          },
          "execution_count": 186
        }
      ]
    },
    {
      "metadata": {
        "id": "uE7NjVNr5tMJ",
        "colab_type": "code",
        "outputId": "46af2b9a-6cf1-4315-b29d-32491e7c88ac",
        "colab": {
          "base_uri": "https://localhost:8080/",
          "height": 509
        }
      },
      "cell_type": "code",
      "source": [
        "my_markers=['*','^', 'o','^','.',',','1','2']\n",
        "my_color =['r','c','g','b','g','k','r','y']\n",
        "\n",
        "plt.figure(figsize=(10, 8))\n",
        "plt.xlabel('서비스업')\n",
        "plt.ylabel('제조업')\n",
        "for n in range(power.shape[0]):\n",
        "    label = k.labels_[n]\n",
        "    plt.scatter(power['서비스업'][n], power['제조업'][n], c=my_color[label], marker=my_markers[label], s=100)\n",
        "    plt.text(power['서비스업'][n]*1.03, power['제조업'][n]*0.98, power.index[n])\n",
        "    \n",
        "for i in range(k.n_clusters):\n",
        "    plt.scatter(centers[i][0], centers[i][1], c = 'r', s= 50)"
      ],
      "execution_count": 188,
      "outputs": [
        {
          "output_type": "display_data",
          "data": {
            "image/png": "[encoded data removed]",
            "text/plain": [
              "<Figure size 720x576 with 1 Axes>"
            ]
          },
          "metadata": {
            "tags": []
          }
        }
      ]
    },
    {
      "metadata": {
        "id": "QuLTAGEigW2T",
        "colab_type": "text"
      },
      "cell_type": "markdown",
      "source": [
        "위에서 인천과 부산이 가까운듯하지만. x,y축의 스케일이 서로 다름.\n",
        "\n",
        "그래서 데이터를 스케일링을 해줘야한다.\n",
        "스케일링의 종류는 4가지 정도 있음\n",
        "\n",
        "\n",
        "---\n",
        "\n",
        "1.   표준 스케일링\n",
        "2.   항목 추가\n",
        "3.   항목 추가\n",
        "4.   항목 추가\n",
        "\n",
        "\n",
        "\n",
        "\n",
        "\n",
        "\n"
      ]
    },
    {
      "metadata": {
        "id": "qUUN3aHP5tJP",
        "colab_type": "code",
        "outputId": "30886937-2fff-4c81-ad6e-17a4807f17a5",
        "colab": {
          "base_uri": "https://localhost:8080/",
          "height": 545
        }
      },
      "cell_type": "code",
      "source": [
        "from sklearn.preprocessing import StandardScaler\n",
        "scaler = StandardScaler()\n",
        "power[['서비스업', '제조업']] = scaler.fit_transform(power[['서비스업', '제조업']])\n",
        "power"
      ],
      "execution_count": 190,
      "outputs": [
        {
          "output_type": "execute_result",
          "data": {
            "text/html": [
              "<div>\n",
              "<style scoped>\n",
              "    .dataframe tbody tr th:only-of-type {\n",
              "        vertical-align: middle;\n",
              "    }\n",
              "\n",
              "    .dataframe tbody tr th {\n",
              "        vertical-align: top;\n",
              "    }\n",
              "\n",
              "    .dataframe thead th {\n",
              "        text-align: right;\n",
              "    }\n",
              "</style>\n",
              "<table border=\"1\" class=\"dataframe\">\n",
              "  <thead>\n",
              "    <tr style=\"text-align: right;\">\n",
              "      <th></th>\n",
              "      <th>서비스업</th>\n",
              "      <th>제조업</th>\n",
              "    </tr>\n",
              "    <tr>\n",
              "      <th>구분</th>\n",
              "      <th></th>\n",
              "      <th></th>\n",
              "    </tr>\n",
              "  </thead>\n",
              "  <tbody>\n",
              "    <tr>\n",
              "      <th>강원</th>\n",
              "      <td>0.393992</td>\n",
              "      <td>-0.676282</td>\n",
              "    </tr>\n",
              "    <tr>\n",
              "      <th>경남</th>\n",
              "      <td>1.498349</td>\n",
              "      <td>0.431200</td>\n",
              "    </tr>\n",
              "    <tr>\n",
              "      <th>경북</th>\n",
              "      <td>1.417523</td>\n",
              "      <td>1.539632</td>\n",
              "    </tr>\n",
              "    <tr>\n",
              "      <th>광주</th>\n",
              "      <td>-0.963503</td>\n",
              "      <td>-0.960380</td>\n",
              "    </tr>\n",
              "    <tr>\n",
              "      <th>대구</th>\n",
              "      <td>0.065323</td>\n",
              "      <td>-0.689116</td>\n",
              "    </tr>\n",
              "    <tr>\n",
              "      <th>대전</th>\n",
              "      <td>-0.613482</td>\n",
              "      <td>-0.988171</td>\n",
              "    </tr>\n",
              "    <tr>\n",
              "      <th>부산</th>\n",
              "      <td>1.011798</td>\n",
              "      <td>-0.537491</td>\n",
              "    </tr>\n",
              "    <tr>\n",
              "      <th>세종</th>\n",
              "      <td>-2.097244</td>\n",
              "      <td>-1.089755</td>\n",
              "    </tr>\n",
              "    <tr>\n",
              "      <th>울산</th>\n",
              "      <td>-0.750871</td>\n",
              "      <td>1.150686</td>\n",
              "    </tr>\n",
              "    <tr>\n",
              "      <th>인천</th>\n",
              "      <td>0.820080</td>\n",
              "      <td>-0.091316</td>\n",
              "    </tr>\n",
              "    <tr>\n",
              "      <th>전남</th>\n",
              "      <td>0.164025</td>\n",
              "      <td>0.743660</td>\n",
              "    </tr>\n",
              "    <tr>\n",
              "      <th>전북</th>\n",
              "      <td>-0.185723</td>\n",
              "      <td>-0.036357</td>\n",
              "    </tr>\n",
              "    <tr>\n",
              "      <th>제주</th>\n",
              "      <td>-1.351751</td>\n",
              "      <td>-1.205671</td>\n",
              "    </tr>\n",
              "    <tr>\n",
              "      <th>충남</th>\n",
              "      <td>0.824572</td>\n",
              "      <td>2.177606</td>\n",
              "    </tr>\n",
              "    <tr>\n",
              "      <th>충북</th>\n",
              "      <td>-0.233088</td>\n",
              "      <td>0.231756</td>\n",
              "    </tr>\n",
              "  </tbody>\n",
              "</table>\n",
              "</div>"
            ],
            "text/plain": [
              "        서비스업       제조업\n",
              "구분                    \n",
              "강원  0.393992 -0.676282\n",
              "경남  1.498349  0.431200\n",
              "경북  1.417523  1.539632\n",
              "광주 -0.963503 -0.960380\n",
              "대구  0.065323 -0.689116\n",
              "대전 -0.613482 -0.988171\n",
              "부산  1.011798 -0.537491\n",
              "세종 -2.097244 -1.089755\n",
              "울산 -0.750871  1.150686\n",
              "인천  0.820080 -0.091316\n",
              "전남  0.164025  0.743660\n",
              "전북 -0.185723 -0.036357\n",
              "제주 -1.351751 -1.205671\n",
              "충남  0.824572  2.177606\n",
              "충북 -0.233088  0.231756"
            ]
          },
          "metadata": {
            "tags": []
          },
          "execution_count": 190
        }
      ]
    },
    {
      "metadata": {
        "id": "EF2VICbi7aIp",
        "colab_type": "code",
        "outputId": "cc00c24e-6fd6-44d1-fad8-602a8db845f7",
        "colab": {
          "base_uri": "https://localhost:8080/",
          "height": 337
        }
      },
      "cell_type": "code",
      "source": [
        "Z = linkage(power, metric='euclidean', method='ward') \n",
        "# 유클리드 거리를 이용해 Linkage Matrix를 생성\n",
        "plt.figure(figsize=(10, 5))\n",
        "plt.title('덴드로그램')\n",
        "dendrogram(Z, labels=power.index)\n",
        "plt.show()"
      ],
      "execution_count": 191,
      "outputs": [
        {
          "output_type": "display_data",
          "data": {
            "image/png": "[encoded data removed]",
            "text/plain": [
              "<Figure size 720x360 with 1 Axes>"
            ]
          },
          "metadata": {
            "tags": []
          }
        }
      ]
    },
    {
      "metadata": {
        "id": "yFTeta3oil_4",
        "colab_type": "code",
        "colab": {
          "base_uri": "https://localhost:8080/",
          "height": 255
        },
        "outputId": "eeec91ef-0dca-4e1b-fcf0-463eeb6e8745"
      },
      "cell_type": "code",
      "source": [
        "Z"
      ],
      "execution_count": 193,
      "outputs": [
        {
          "output_type": "execute_result",
          "data": {
            "text/plain": [
              "array([[11.        , 14.        ,  0.27226464,  2.        ],\n",
              "       [ 0.        ,  4.        ,  0.32891974,  2.        ],\n",
              "       [ 3.        ,  5.        ,  0.35112173,  2.        ],\n",
              "       [ 6.        ,  9.        ,  0.48562172,  2.        ],\n",
              "       [12.        , 17.        ,  0.70313959,  3.        ],\n",
              "       [10.        , 15.        ,  0.86156093,  3.        ],\n",
              "       [ 2.        , 13.        ,  0.870977  ,  2.        ],\n",
              "       [ 1.        , 18.        ,  1.09247524,  3.        ],\n",
              "       [ 8.        , 20.        ,  1.31062802,  4.        ],\n",
              "       [ 7.        , 19.        ,  1.37374046,  4.        ],\n",
              "       [16.        , 22.        ,  1.66537606,  5.        ],\n",
              "       [23.        , 25.        ,  2.76165718,  9.        ],\n",
              "       [21.        , 26.        ,  3.57227167, 11.        ],\n",
              "       [24.        , 27.        ,  5.43171353, 15.        ]])"
            ]
          },
          "metadata": {
            "tags": []
          },
          "execution_count": 193
        }
      ]
    },
    {
      "metadata": {
        "id": "cWWcu8Up7aHC",
        "colab_type": "code",
        "colab": {}
      },
      "cell_type": "code",
      "source": [
        "k = KMeans(n_clusters= 4).fit(power)\n",
        "centers = k.cluster_centers_"
      ],
      "execution_count": 0,
      "outputs": []
    },
    {
      "metadata": {
        "id": "0EMmFM-d7aDl",
        "colab_type": "code",
        "outputId": "43c61836-524b-416d-eda6-ad151f169373",
        "colab": {
          "base_uri": "https://localhost:8080/",
          "height": 516
        }
      },
      "cell_type": "code",
      "source": [
        "plt.clf()\n",
        "plt.figure(figsize=(10, 8))\n",
        "plt.xlabel('서비스업')\n",
        "plt.ylabel('제조업')\n",
        "\n",
        "for n in range(power.shape[0]):\n",
        "    label = k.labels_[n]\n",
        "    plt.scatter(power['서비스업'][n], power['제조업'][n], c=my_color[label], marker=my_markers[label], s=100)\n",
        "    plt.text(power['서비스업'][n]*1.05, power['제조업'][n]*0.99, power.index[n])\n",
        "    \n",
        "for i in range(k.n_clusters):\n",
        "    plt.scatter(centers[i][0], centers[i][1], c = 'r', s= 50)"
      ],
      "execution_count": 195,
      "outputs": [
        {
          "output_type": "display_data",
          "data": {
            "text/plain": [
              "<Figure size 432x288 with 0 Axes>"
            ]
          },
          "metadata": {
            "tags": []
          }
        },
        {
          "output_type": "display_data",
          "data": {
            "image/png": "[encoded data removed]",
            "text/plain": [
              "<Figure size 720x576 with 1 Axes>"
            ]
          },
          "metadata": {
            "tags": []
          }
        }
      ]
    },
    {
      "metadata": {
        "id": "z4VHTxfi7aBR",
        "colab_type": "code",
        "outputId": "f585ebd5-cd80-4c44-9604-0b65beb8b05c",
        "colab": {
          "base_uri": "https://localhost:8080/",
          "height": 917
        }
      },
      "cell_type": "code",
      "source": [
        "# 모든 특성 고려\n",
        "power_data.head().T"
      ],
      "execution_count": 196,
      "outputs": [
        {
          "output_type": "execute_result",
          "data": {
            "text/html": [
              "<div>\n",
              "<style scoped>\n",
              "    .dataframe tbody tr th:only-of-type {\n",
              "        vertical-align: middle;\n",
              "    }\n",
              "\n",
              "    .dataframe tbody tr th {\n",
              "        vertical-align: top;\n",
              "    }\n",
              "\n",
              "    .dataframe thead th {\n",
              "        text-align: right;\n",
              "    }\n",
              "</style>\n",
              "<table border=\"1\" class=\"dataframe\">\n",
              "  <thead>\n",
              "    <tr style=\"text-align: right;\">\n",
              "      <th></th>\n",
              "      <th>0</th>\n",
              "      <th>1</th>\n",
              "      <th>2</th>\n",
              "      <th>3</th>\n",
              "      <th>4</th>\n",
              "    </tr>\n",
              "  </thead>\n",
              "  <tbody>\n",
              "    <tr>\n",
              "      <th>구분</th>\n",
              "      <td>강원</td>\n",
              "      <td>개성</td>\n",
              "      <td>경기</td>\n",
              "      <td>경남</td>\n",
              "      <td>경북</td>\n",
              "    </tr>\n",
              "    <tr>\n",
              "      <th>주거용</th>\n",
              "      <td>1940933</td>\n",
              "      <td>0</td>\n",
              "      <td>16587710</td>\n",
              "      <td>4260988</td>\n",
              "      <td>3302463</td>\n",
              "    </tr>\n",
              "    <tr>\n",
              "      <th>공공용</th>\n",
              "      <td>1400421</td>\n",
              "      <td>0</td>\n",
              "      <td>5533662</td>\n",
              "      <td>1427560</td>\n",
              "      <td>1578115</td>\n",
              "    </tr>\n",
              "    <tr>\n",
              "      <th>서비스업</th>\n",
              "      <td>6203749</td>\n",
              "      <td>0</td>\n",
              "      <td>33434551</td>\n",
              "      <td>8667737</td>\n",
              "      <td>8487402</td>\n",
              "    </tr>\n",
              "    <tr>\n",
              "      <th>업무용합계</th>\n",
              "      <td>7604170</td>\n",
              "      <td>0</td>\n",
              "      <td>38968213</td>\n",
              "      <td>10095297</td>\n",
              "      <td>10065517</td>\n",
              "    </tr>\n",
              "    <tr>\n",
              "      <th>농림어업</th>\n",
              "      <td>607139</td>\n",
              "      <td>0</td>\n",
              "      <td>2371347</td>\n",
              "      <td>2141813</td>\n",
              "      <td>1747462</td>\n",
              "    </tr>\n",
              "    <tr>\n",
              "      <th>광업</th>\n",
              "      <td>398287</td>\n",
              "      <td>0</td>\n",
              "      <td>317263</td>\n",
              "      <td>95989</td>\n",
              "      <td>224568</td>\n",
              "    </tr>\n",
              "    <tr>\n",
              "      <th>제조업</th>\n",
              "      <td>6002286</td>\n",
              "      <td>0</td>\n",
              "      <td>56603327</td>\n",
              "      <td>18053778</td>\n",
              "      <td>30115601</td>\n",
              "    </tr>\n",
              "    <tr>\n",
              "      <th>식료품제조</th>\n",
              "      <td>546621</td>\n",
              "      <td>0</td>\n",
              "      <td>2544420</td>\n",
              "      <td>932743</td>\n",
              "      <td>566071</td>\n",
              "    </tr>\n",
              "    <tr>\n",
              "      <th>섬유,의류</th>\n",
              "      <td>13027</td>\n",
              "      <td>0</td>\n",
              "      <td>2109963</td>\n",
              "      <td>346974</td>\n",
              "      <td>3780171</td>\n",
              "    </tr>\n",
              "    <tr>\n",
              "      <th>목재,나무</th>\n",
              "      <td>19147</td>\n",
              "      <td>0</td>\n",
              "      <td>529274</td>\n",
              "      <td>60160</td>\n",
              "      <td>72680</td>\n",
              "    </tr>\n",
              "    <tr>\n",
              "      <th>펄프,종이</th>\n",
              "      <td>24382</td>\n",
              "      <td>0</td>\n",
              "      <td>1917458</td>\n",
              "      <td>817685</td>\n",
              "      <td>361772</td>\n",
              "    </tr>\n",
              "    <tr>\n",
              "      <th>출판,인쇄</th>\n",
              "      <td>7727</td>\n",
              "      <td>0</td>\n",
              "      <td>731348</td>\n",
              "      <td>28486</td>\n",
              "      <td>44402</td>\n",
              "    </tr>\n",
              "    <tr>\n",
              "      <th>석유,화확</th>\n",
              "      <td>175323</td>\n",
              "      <td>0</td>\n",
              "      <td>6881775</td>\n",
              "      <td>1865583</td>\n",
              "      <td>3653665</td>\n",
              "    </tr>\n",
              "    <tr>\n",
              "      <th>의료,광학</th>\n",
              "      <td>84397</td>\n",
              "      <td>0</td>\n",
              "      <td>1336390</td>\n",
              "      <td>178498</td>\n",
              "      <td>217771</td>\n",
              "    </tr>\n",
              "    <tr>\n",
              "      <th>요업</th>\n",
              "      <td>3695776</td>\n",
              "      <td>0</td>\n",
              "      <td>1728379</td>\n",
              "      <td>429920</td>\n",
              "      <td>1269917</td>\n",
              "    </tr>\n",
              "    <tr>\n",
              "      <th>1차금속</th>\n",
              "      <td>1038913</td>\n",
              "      <td>0</td>\n",
              "      <td>2020196</td>\n",
              "      <td>3809547</td>\n",
              "      <td>10874970</td>\n",
              "    </tr>\n",
              "    <tr>\n",
              "      <th>조립금속</th>\n",
              "      <td>39477</td>\n",
              "      <td>0</td>\n",
              "      <td>2302355</td>\n",
              "      <td>1699879</td>\n",
              "      <td>933178</td>\n",
              "    </tr>\n",
              "    <tr>\n",
              "      <th>기타기계</th>\n",
              "      <td>35063</td>\n",
              "      <td>0</td>\n",
              "      <td>3613798</td>\n",
              "      <td>1902913</td>\n",
              "      <td>782570</td>\n",
              "    </tr>\n",
              "    <tr>\n",
              "      <th>사무기기</th>\n",
              "      <td>2019</td>\n",
              "      <td>0</td>\n",
              "      <td>317244</td>\n",
              "      <td>8070</td>\n",
              "      <td>14468</td>\n",
              "    </tr>\n",
              "    <tr>\n",
              "      <th>전기기기</th>\n",
              "      <td>38062</td>\n",
              "      <td>0</td>\n",
              "      <td>1040171</td>\n",
              "      <td>924235</td>\n",
              "      <td>750786</td>\n",
              "    </tr>\n",
              "    <tr>\n",
              "      <th>영상,음향</th>\n",
              "      <td>43986</td>\n",
              "      <td>0</td>\n",
              "      <td>24519644</td>\n",
              "      <td>534196</td>\n",
              "      <td>4174971</td>\n",
              "    </tr>\n",
              "    <tr>\n",
              "      <th>자동차</th>\n",
              "      <td>113448</td>\n",
              "      <td>0</td>\n",
              "      <td>2977165</td>\n",
              "      <td>2156059</td>\n",
              "      <td>2356890</td>\n",
              "    </tr>\n",
              "    <tr>\n",
              "      <th>기타운송</th>\n",
              "      <td>108629</td>\n",
              "      <td>0</td>\n",
              "      <td>67594</td>\n",
              "      <td>2048646</td>\n",
              "      <td>123935</td>\n",
              "    </tr>\n",
              "    <tr>\n",
              "      <th>가구및기타</th>\n",
              "      <td>12872</td>\n",
              "      <td>0</td>\n",
              "      <td>1833112</td>\n",
              "      <td>262523</td>\n",
              "      <td>60280</td>\n",
              "    </tr>\n",
              "    <tr>\n",
              "      <th>재생재료</th>\n",
              "      <td>3418</td>\n",
              "      <td>0</td>\n",
              "      <td>133041</td>\n",
              "      <td>47662</td>\n",
              "      <td>77104</td>\n",
              "    </tr>\n",
              "    <tr>\n",
              "      <th>산업용합계</th>\n",
              "      <td>7007712</td>\n",
              "      <td>0</td>\n",
              "      <td>59291937</td>\n",
              "      <td>20291580</td>\n",
              "      <td>32087631</td>\n",
              "    </tr>\n",
              "    <tr>\n",
              "      <th>합계</th>\n",
              "      <td>16552816</td>\n",
              "      <td>0</td>\n",
              "      <td>114847859</td>\n",
              "      <td>34647864</td>\n",
              "      <td>45455611</td>\n",
              "    </tr>\n",
              "  </tbody>\n",
              "</table>\n",
              "</div>"
            ],
            "text/plain": [
              "              0   1          2         3         4\n",
              "구분           강원  개성         경기        경남        경북\n",
              "주거용     1940933   0   16587710   4260988   3302463\n",
              "공공용     1400421   0    5533662   1427560   1578115\n",
              "서비스업    6203749   0   33434551   8667737   8487402\n",
              "업무용합계   7604170   0   38968213  10095297  10065517\n",
              "농림어업     607139   0    2371347   2141813   1747462\n",
              "광업       398287   0     317263     95989    224568\n",
              "제조업     6002286   0   56603327  18053778  30115601\n",
              "식료품제조    546621   0    2544420    932743    566071\n",
              "섬유,의류     13027   0    2109963    346974   3780171\n",
              "목재,나무     19147   0     529274     60160     72680\n",
              "펄프,종이     24382   0    1917458    817685    361772\n",
              "출판,인쇄      7727   0     731348     28486     44402\n",
              "석유,화확    175323   0    6881775   1865583   3653665\n",
              "의료,광학     84397   0    1336390    178498    217771\n",
              "요업      3695776   0    1728379    429920   1269917\n",
              "1차금속    1038913   0    2020196   3809547  10874970\n",
              "조립금속      39477   0    2302355   1699879    933178\n",
              "기타기계      35063   0    3613798   1902913    782570\n",
              "사무기기       2019   0     317244      8070     14468\n",
              "전기기기      38062   0    1040171    924235    750786\n",
              "영상,음향     43986   0   24519644    534196   4174971\n",
              "자동차      113448   0    2977165   2156059   2356890\n",
              "기타운송     108629   0      67594   2048646    123935\n",
              "가구및기타     12872   0    1833112    262523     60280\n",
              "재생재료       3418   0     133041     47662     77104\n",
              "산업용합계   7007712   0   59291937  20291580  32087631\n",
              "합계     16552816   0  114847859  34647864  45455611"
            ]
          },
          "metadata": {
            "tags": []
          },
          "execution_count": 196
        }
      ]
    },
    {
      "metadata": {
        "id": "5EonxtZi7Z-q",
        "colab_type": "code",
        "colab": {}
      },
      "cell_type": "code",
      "source": [
        "power2 = power_data.set_index('구분')\n",
        "power2.drop(['업무용합계', '산업용합계', '합계'], axis=1, \n",
        "           inplace=True, errors='ignore')\n",
        "power2.drop(['합계','개성','경기','서울'], inplace=True,errors='ignore')"
      ],
      "execution_count": 0,
      "outputs": []
    },
    {
      "metadata": {
        "id": "3IXpKQY4AEwq",
        "colab_type": "code",
        "outputId": "82057c35-c773-4129-8fa2-1ac399f8e511",
        "colab": {
          "base_uri": "https://localhost:8080/",
          "height": 574
        }
      },
      "cell_type": "code",
      "source": [
        "power2"
      ],
      "execution_count": 198,
      "outputs": [
        {
          "output_type": "execute_result",
          "data": {
            "text/html": [
              "<div>\n",
              "<style scoped>\n",
              "    .dataframe tbody tr th:only-of-type {\n",
              "        vertical-align: middle;\n",
              "    }\n",
              "\n",
              "    .dataframe tbody tr th {\n",
              "        vertical-align: top;\n",
              "    }\n",
              "\n",
              "    .dataframe thead th {\n",
              "        text-align: right;\n",
              "    }\n",
              "</style>\n",
              "<table border=\"1\" class=\"dataframe\">\n",
              "  <thead>\n",
              "    <tr style=\"text-align: right;\">\n",
              "      <th></th>\n",
              "      <th>주거용</th>\n",
              "      <th>공공용</th>\n",
              "      <th>서비스업</th>\n",
              "      <th>농림어업</th>\n",
              "      <th>광업</th>\n",
              "      <th>제조업</th>\n",
              "      <th>식료품제조</th>\n",
              "      <th>섬유,의류</th>\n",
              "      <th>목재,나무</th>\n",
              "      <th>펄프,종이</th>\n",
              "      <th>...</th>\n",
              "      <th>1차금속</th>\n",
              "      <th>조립금속</th>\n",
              "      <th>기타기계</th>\n",
              "      <th>사무기기</th>\n",
              "      <th>전기기기</th>\n",
              "      <th>영상,음향</th>\n",
              "      <th>자동차</th>\n",
              "      <th>기타운송</th>\n",
              "      <th>가구및기타</th>\n",
              "      <th>재생재료</th>\n",
              "    </tr>\n",
              "    <tr>\n",
              "      <th>구분</th>\n",
              "      <th></th>\n",
              "      <th></th>\n",
              "      <th></th>\n",
              "      <th></th>\n",
              "      <th></th>\n",
              "      <th></th>\n",
              "      <th></th>\n",
              "      <th></th>\n",
              "      <th></th>\n",
              "      <th></th>\n",
              "      <th></th>\n",
              "      <th></th>\n",
              "      <th></th>\n",
              "      <th></th>\n",
              "      <th></th>\n",
              "      <th></th>\n",
              "      <th></th>\n",
              "      <th></th>\n",
              "      <th></th>\n",
              "      <th></th>\n",
              "      <th></th>\n",
              "    </tr>\n",
              "  </thead>\n",
              "  <tbody>\n",
              "    <tr>\n",
              "      <th>강원</th>\n",
              "      <td>1940933</td>\n",
              "      <td>1400421</td>\n",
              "      <td>6203749</td>\n",
              "      <td>607139</td>\n",
              "      <td>398287</td>\n",
              "      <td>6002286</td>\n",
              "      <td>546621</td>\n",
              "      <td>13027</td>\n",
              "      <td>19147</td>\n",
              "      <td>24382</td>\n",
              "      <td>...</td>\n",
              "      <td>1038913</td>\n",
              "      <td>39477</td>\n",
              "      <td>35063</td>\n",
              "      <td>2019</td>\n",
              "      <td>38062</td>\n",
              "      <td>43986</td>\n",
              "      <td>113448</td>\n",
              "      <td>108629</td>\n",
              "      <td>12872</td>\n",
              "      <td>3418</td>\n",
              "    </tr>\n",
              "    <tr>\n",
              "      <th>경남</th>\n",
              "      <td>4260988</td>\n",
              "      <td>1427560</td>\n",
              "      <td>8667737</td>\n",
              "      <td>2141813</td>\n",
              "      <td>95989</td>\n",
              "      <td>18053778</td>\n",
              "      <td>932743</td>\n",
              "      <td>346974</td>\n",
              "      <td>60160</td>\n",
              "      <td>817685</td>\n",
              "      <td>...</td>\n",
              "      <td>3809547</td>\n",
              "      <td>1699879</td>\n",
              "      <td>1902913</td>\n",
              "      <td>8070</td>\n",
              "      <td>924235</td>\n",
              "      <td>534196</td>\n",
              "      <td>2156059</td>\n",
              "      <td>2048646</td>\n",
              "      <td>262523</td>\n",
              "      <td>47662</td>\n",
              "    </tr>\n",
              "    <tr>\n",
              "      <th>경북</th>\n",
              "      <td>3302463</td>\n",
              "      <td>1578115</td>\n",
              "      <td>8487402</td>\n",
              "      <td>1747462</td>\n",
              "      <td>224568</td>\n",
              "      <td>30115601</td>\n",
              "      <td>566071</td>\n",
              "      <td>3780171</td>\n",
              "      <td>72680</td>\n",
              "      <td>361772</td>\n",
              "      <td>...</td>\n",
              "      <td>10874970</td>\n",
              "      <td>933178</td>\n",
              "      <td>782570</td>\n",
              "      <td>14468</td>\n",
              "      <td>750786</td>\n",
              "      <td>4174971</td>\n",
              "      <td>2356890</td>\n",
              "      <td>123935</td>\n",
              "      <td>60280</td>\n",
              "      <td>77104</td>\n",
              "    </tr>\n",
              "    <tr>\n",
              "      <th>광주</th>\n",
              "      <td>1954876</td>\n",
              "      <td>565527</td>\n",
              "      <td>3174973</td>\n",
              "      <td>74608</td>\n",
              "      <td>2898</td>\n",
              "      <td>2910768</td>\n",
              "      <td>161072</td>\n",
              "      <td>295922</td>\n",
              "      <td>6782</td>\n",
              "      <td>41827</td>\n",
              "      <td>...</td>\n",
              "      <td>75702</td>\n",
              "      <td>156396</td>\n",
              "      <td>198847</td>\n",
              "      <td>5967</td>\n",
              "      <td>236622</td>\n",
              "      <td>723764</td>\n",
              "      <td>512148</td>\n",
              "      <td>5140</td>\n",
              "      <td>13392</td>\n",
              "      <td>16049</td>\n",
              "    </tr>\n",
              "    <tr>\n",
              "      <th>대구</th>\n",
              "      <td>3151904</td>\n",
              "      <td>826396</td>\n",
              "      <td>5470438</td>\n",
              "      <td>69142</td>\n",
              "      <td>5858</td>\n",
              "      <td>5862633</td>\n",
              "      <td>212626</td>\n",
              "      <td>1057342</td>\n",
              "      <td>16215</td>\n",
              "      <td>445646</td>\n",
              "      <td>...</td>\n",
              "      <td>317580</td>\n",
              "      <td>661307</td>\n",
              "      <td>516493</td>\n",
              "      <td>58446</td>\n",
              "      <td>180189</td>\n",
              "      <td>252662</td>\n",
              "      <td>1381273</td>\n",
              "      <td>68127</td>\n",
              "      <td>41814</td>\n",
              "      <td>33616</td>\n",
              "    </tr>\n",
              "    <tr>\n",
              "      <th>대전</th>\n",
              "      <td>1872890</td>\n",
              "      <td>954681</td>\n",
              "      <td>3955921</td>\n",
              "      <td>28643</td>\n",
              "      <td>3326</td>\n",
              "      <td>2608343</td>\n",
              "      <td>204171</td>\n",
              "      <td>41687</td>\n",
              "      <td>4311</td>\n",
              "      <td>539332</td>\n",
              "      <td>...</td>\n",
              "      <td>56535</td>\n",
              "      <td>69342</td>\n",
              "      <td>77970</td>\n",
              "      <td>2949</td>\n",
              "      <td>83609</td>\n",
              "      <td>474561</td>\n",
              "      <td>218191</td>\n",
              "      <td>5439</td>\n",
              "      <td>31657</td>\n",
              "      <td>2252</td>\n",
              "    </tr>\n",
              "    <tr>\n",
              "      <th>부산</th>\n",
              "      <td>4473510</td>\n",
              "      <td>1305876</td>\n",
              "      <td>7582169</td>\n",
              "      <td>107927</td>\n",
              "      <td>25289</td>\n",
              "      <td>7512588</td>\n",
              "      <td>532943</td>\n",
              "      <td>528513</td>\n",
              "      <td>51980</td>\n",
              "      <td>27240</td>\n",
              "      <td>...</td>\n",
              "      <td>2426694</td>\n",
              "      <td>872952</td>\n",
              "      <td>904149</td>\n",
              "      <td>4913</td>\n",
              "      <td>107717</td>\n",
              "      <td>90644</td>\n",
              "      <td>1046529</td>\n",
              "      <td>231141</td>\n",
              "      <td>49733</td>\n",
              "      <td>13104</td>\n",
              "    </tr>\n",
              "    <tr>\n",
              "      <th>세종</th>\n",
              "      <td>384903</td>\n",
              "      <td>299675</td>\n",
              "      <td>645424</td>\n",
              "      <td>69469</td>\n",
              "      <td>16364</td>\n",
              "      <td>1502922</td>\n",
              "      <td>110211</td>\n",
              "      <td>70617</td>\n",
              "      <td>1324</td>\n",
              "      <td>350896</td>\n",
              "      <td>...</td>\n",
              "      <td>32345</td>\n",
              "      <td>11390</td>\n",
              "      <td>26185</td>\n",
              "      <td>14319</td>\n",
              "      <td>33539</td>\n",
              "      <td>170366</td>\n",
              "      <td>79009</td>\n",
              "      <td>0</td>\n",
              "      <td>5132</td>\n",
              "      <td>2603</td>\n",
              "    </tr>\n",
              "    <tr>\n",
              "      <th>울산</th>\n",
              "      <td>1487143</td>\n",
              "      <td>489865</td>\n",
              "      <td>3649386</td>\n",
              "      <td>80221</td>\n",
              "      <td>20103</td>\n",
              "      <td>25883132</td>\n",
              "      <td>187738</td>\n",
              "      <td>943299</td>\n",
              "      <td>12286</td>\n",
              "      <td>620457</td>\n",
              "      <td>...</td>\n",
              "      <td>4671005</td>\n",
              "      <td>393469</td>\n",
              "      <td>169132</td>\n",
              "      <td>5053</td>\n",
              "      <td>381602</td>\n",
              "      <td>24165</td>\n",
              "      <td>2367150</td>\n",
              "      <td>1020610</td>\n",
              "      <td>4984</td>\n",
              "      <td>1626</td>\n",
              "    </tr>\n",
              "    <tr>\n",
              "      <th>인천</th>\n",
              "      <td>3856852</td>\n",
              "      <td>921748</td>\n",
              "      <td>7154416</td>\n",
              "      <td>142953</td>\n",
              "      <td>71529</td>\n",
              "      <td>12367816</td>\n",
              "      <td>641088</td>\n",
              "      <td>75895</td>\n",
              "      <td>639429</td>\n",
              "      <td>57159</td>\n",
              "      <td>...</td>\n",
              "      <td>2346232</td>\n",
              "      <td>750654</td>\n",
              "      <td>942801</td>\n",
              "      <td>7853</td>\n",
              "      <td>178502</td>\n",
              "      <td>1124564</td>\n",
              "      <td>612898</td>\n",
              "      <td>54225</td>\n",
              "      <td>360778</td>\n",
              "      <td>32538</td>\n",
              "    </tr>\n",
              "    <tr>\n",
              "      <th>전남</th>\n",
              "      <td>2284124</td>\n",
              "      <td>964024</td>\n",
              "      <td>5690659</td>\n",
              "      <td>3096126</td>\n",
              "      <td>73217</td>\n",
              "      <td>21453926</td>\n",
              "      <td>511361</td>\n",
              "      <td>160506</td>\n",
              "      <td>27998</td>\n",
              "      <td>145685</td>\n",
              "      <td>...</td>\n",
              "      <td>5036891</td>\n",
              "      <td>123651</td>\n",
              "      <td>66431</td>\n",
              "      <td>1061</td>\n",
              "      <td>149939</td>\n",
              "      <td>42399</td>\n",
              "      <td>72132</td>\n",
              "      <td>481592</td>\n",
              "      <td>14670</td>\n",
              "      <td>31932</td>\n",
              "    </tr>\n",
              "    <tr>\n",
              "      <th>전북</th>\n",
              "      <td>2326183</td>\n",
              "      <td>1096968</td>\n",
              "      <td>4910318</td>\n",
              "      <td>1415004</td>\n",
              "      <td>85300</td>\n",
              "      <td>12965875</td>\n",
              "      <td>1459217</td>\n",
              "      <td>731651</td>\n",
              "      <td>291729</td>\n",
              "      <td>1282937</td>\n",
              "      <td>...</td>\n",
              "      <td>2158438</td>\n",
              "      <td>137635</td>\n",
              "      <td>159699</td>\n",
              "      <td>7240</td>\n",
              "      <td>130692</td>\n",
              "      <td>420005</td>\n",
              "      <td>859741</td>\n",
              "      <td>70980</td>\n",
              "      <td>16175</td>\n",
              "      <td>99003</td>\n",
              "    </tr>\n",
              "    <tr>\n",
              "      <th>제주</th>\n",
              "      <td>782601</td>\n",
              "      <td>301727</td>\n",
              "      <td>2308732</td>\n",
              "      <td>1364930</td>\n",
              "      <td>14019</td>\n",
              "      <td>241537</td>\n",
              "      <td>155987</td>\n",
              "      <td>3497</td>\n",
              "      <td>1524</td>\n",
              "      <td>20864</td>\n",
              "      <td>...</td>\n",
              "      <td>993</td>\n",
              "      <td>3331</td>\n",
              "      <td>1167</td>\n",
              "      <td>0</td>\n",
              "      <td>771</td>\n",
              "      <td>0</td>\n",
              "      <td>773</td>\n",
              "      <td>532</td>\n",
              "      <td>1743</td>\n",
              "      <td>743</td>\n",
              "    </tr>\n",
              "    <tr>\n",
              "      <th>충남</th>\n",
              "      <td>2691823</td>\n",
              "      <td>1089613</td>\n",
              "      <td>7164439</td>\n",
              "      <td>1928066</td>\n",
              "      <td>248313</td>\n",
              "      <td>37057955</td>\n",
              "      <td>1137035</td>\n",
              "      <td>269998</td>\n",
              "      <td>134109</td>\n",
              "      <td>809760</td>\n",
              "      <td>...</td>\n",
              "      <td>9976454</td>\n",
              "      <td>565003</td>\n",
              "      <td>611925</td>\n",
              "      <td>12208</td>\n",
              "      <td>428906</td>\n",
              "      <td>10953811</td>\n",
              "      <td>2526658</td>\n",
              "      <td>33766</td>\n",
              "      <td>53804</td>\n",
              "      <td>19725</td>\n",
              "    </tr>\n",
              "    <tr>\n",
              "      <th>충북</th>\n",
              "      <td>2027281</td>\n",
              "      <td>1267140</td>\n",
              "      <td>4804638</td>\n",
              "      <td>721131</td>\n",
              "      <td>139856</td>\n",
              "      <td>15883448</td>\n",
              "      <td>1152073</td>\n",
              "      <td>333846</td>\n",
              "      <td>51682</td>\n",
              "      <td>880020</td>\n",
              "      <td>...</td>\n",
              "      <td>469546</td>\n",
              "      <td>738699</td>\n",
              "      <td>366871</td>\n",
              "      <td>23076</td>\n",
              "      <td>1125141</td>\n",
              "      <td>4103832</td>\n",
              "      <td>603349</td>\n",
              "      <td>82496</td>\n",
              "      <td>513501</td>\n",
              "      <td>46038</td>\n",
              "    </tr>\n",
              "  </tbody>\n",
              "</table>\n",
              "<p>15 rows × 24 columns</p>\n",
              "</div>"
            ],
            "text/plain": [
              "        주거용      공공용     서비스업     농림어업      광업       제조업    식료품제조    섬유,의류  \\\n",
              "구분                                                                           \n",
              "강원  1940933  1400421  6203749   607139  398287   6002286   546621    13027   \n",
              "경남  4260988  1427560  8667737  2141813   95989  18053778   932743   346974   \n",
              "경북  3302463  1578115  8487402  1747462  224568  30115601   566071  3780171   \n",
              "광주  1954876   565527  3174973    74608    2898   2910768   161072   295922   \n",
              "대구  3151904   826396  5470438    69142    5858   5862633   212626  1057342   \n",
              "대전  1872890   954681  3955921    28643    3326   2608343   204171    41687   \n",
              "부산  4473510  1305876  7582169   107927   25289   7512588   532943   528513   \n",
              "세종   384903   299675   645424    69469   16364   1502922   110211    70617   \n",
              "울산  1487143   489865  3649386    80221   20103  25883132   187738   943299   \n",
              "인천  3856852   921748  7154416   142953   71529  12367816   641088    75895   \n",
              "전남  2284124   964024  5690659  3096126   73217  21453926   511361   160506   \n",
              "전북  2326183  1096968  4910318  1415004   85300  12965875  1459217   731651   \n",
              "제주   782601   301727  2308732  1364930   14019    241537   155987     3497   \n",
              "충남  2691823  1089613  7164439  1928066  248313  37057955  1137035   269998   \n",
              "충북  2027281  1267140  4804638   721131  139856  15883448  1152073   333846   \n",
              "\n",
              "     목재,나무    펄프,종이  ...        1차금속     조립금속     기타기계   사무기기     전기기기  \\\n",
              "구분                   ...                                                 \n",
              "강원   19147    24382  ...     1038913    39477    35063   2019    38062   \n",
              "경남   60160   817685  ...     3809547  1699879  1902913   8070   924235   \n",
              "경북   72680   361772  ...    10874970   933178   782570  14468   750786   \n",
              "광주    6782    41827  ...       75702   156396   198847   5967   236622   \n",
              "대구   16215   445646  ...      317580   661307   516493  58446   180189   \n",
              "대전    4311   539332  ...       56535    69342    77970   2949    83609   \n",
              "부산   51980    27240  ...     2426694   872952   904149   4913   107717   \n",
              "세종    1324   350896  ...       32345    11390    26185  14319    33539   \n",
              "울산   12286   620457  ...     4671005   393469   169132   5053   381602   \n",
              "인천  639429    57159  ...     2346232   750654   942801   7853   178502   \n",
              "전남   27998   145685  ...     5036891   123651    66431   1061   149939   \n",
              "전북  291729  1282937  ...     2158438   137635   159699   7240   130692   \n",
              "제주    1524    20864  ...         993     3331     1167      0      771   \n",
              "충남  134109   809760  ...     9976454   565003   611925  12208   428906   \n",
              "충북   51682   880020  ...      469546   738699   366871  23076  1125141   \n",
              "\n",
              "       영상,음향      자동차     기타운송   가구및기타   재생재료  \n",
              "구분                                             \n",
              "강원     43986   113448   108629   12872   3418  \n",
              "경남    534196  2156059  2048646  262523  47662  \n",
              "경북   4174971  2356890   123935   60280  77104  \n",
              "광주    723764   512148     5140   13392  16049  \n",
              "대구    252662  1381273    68127   41814  33616  \n",
              "대전    474561   218191     5439   31657   2252  \n",
              "부산     90644  1046529   231141   49733  13104  \n",
              "세종    170366    79009        0    5132   2603  \n",
              "울산     24165  2367150  1020610    4984   1626  \n",
              "인천   1124564   612898    54225  360778  32538  \n",
              "전남     42399    72132   481592   14670  31932  \n",
              "전북    420005   859741    70980   16175  99003  \n",
              "제주         0      773      532    1743    743  \n",
              "충남  10953811  2526658    33766   53804  19725  \n",
              "충북   4103832   603349    82496  513501  46038  \n",
              "\n",
              "[15 rows x 24 columns]"
            ]
          },
          "metadata": {
            "tags": []
          },
          "execution_count": 198
        }
      ]
    },
    {
      "metadata": {
        "id": "pMk6cpXX7Z8R",
        "colab_type": "code",
        "outputId": "3b25ea4e-49c1-4654-bbfe-04e39b494eb6",
        "colab": {
          "base_uri": "https://localhost:8080/",
          "height": 405
        }
      },
      "cell_type": "code",
      "source": [
        "power3 = pd.DataFrame(scaler.fit_transform(power2), columns=power2.columns,\n",
        "                      index=power2.index)\n",
        "\n",
        "Z = linkage(power3, metric='euclidean', method='ward') \n",
        "# 유클리드 거리를 이용해 Linkage Matrix를 생성\n",
        "plt.figure(figsize=(10, 5))\n",
        "plt.title('덴드로그램')\n",
        "dendrogram(Z, labels=power3.index)\n",
        "plt.show()"
      ],
      "execution_count": 199,
      "outputs": [
        {
          "output_type": "stream",
          "text": [
            "/usr/local/lib/python3.6/dist-packages/sklearn/preprocessing/data.py:645: DataConversionWarning: Data with input dtype int64 were all converted to float64 by StandardScaler.\n",
            "  return self.partial_fit(X, y)\n",
            "/usr/local/lib/python3.6/dist-packages/sklearn/base.py:464: DataConversionWarning: Data with input dtype int64 were all converted to float64 by StandardScaler.\n",
            "  return self.fit(X, **fit_params).transform(X)\n"
          ],
          "name": "stderr"
        },
        {
          "output_type": "display_data",
          "data": {
            "image/png": "[encoded data removed]",
            "text/plain": [
              "<Figure size 720x360 with 1 Axes>"
            ]
          },
          "metadata": {
            "tags": []
          }
        }
      ]
    },
    {
      "metadata": {
        "id": "njMiY3Q-7Z5F",
        "colab_type": "code",
        "outputId": "754dc6b7-7db4-4044-b325-91c711359bb7",
        "colab": {
          "base_uri": "https://localhost:8080/",
          "height": 516
        }
      },
      "cell_type": "code",
      "source": [
        "k = KMeans(n_clusters=8).fit(power3)\n",
        "n_samples = power3.shape[0]\n",
        "print(n_samples)\n",
        "\n",
        "plt.figure(figsize=(10, 8))\n",
        "plt.xlabel('서비스업')\n",
        "plt.ylabel('제조업')\n",
        "\n",
        "for n in range(n_samples):\n",
        "    label = k.labels_[n]\n",
        "    plt.scatter(power3['서비스업'][n], power3['제조업'][n], c=my_color[label], marker=my_markers[label], s=100)\n",
        "    plt.text(power3['서비스업'][n]*1.05, power3['제조업'][n]*0.99, power3.index[n])\n",
        "    "
      ],
      "execution_count": 200,
      "outputs": [
        {
          "output_type": "stream",
          "text": [
            "15\n"
          ],
          "name": "stdout"
        },
        {
          "output_type": "display_data",
          "data": {
            "image/png": "[encoded data removed]",
            "text/plain": [
              "<Figure size 720x576 with 1 Axes>"
            ]
          },
          "metadata": {
            "tags": []
          }
        }
      ]
    },
    {
      "metadata": {
        "id": "_FTPalhJ7Z2N",
        "colab_type": "code",
        "outputId": "1dfe2391-a3b2-418f-fde7-c5481c85d06f",
        "colab": {
          "base_uri": "https://localhost:8080/",
          "height": 866
        }
      },
      "cell_type": "code",
      "source": [
        "power3"
      ],
      "execution_count": 201,
      "outputs": [
        {
          "output_type": "execute_result",
          "data": {
            "text/html": [
              "<div>\n",
              "<style scoped>\n",
              "    .dataframe tbody tr th:only-of-type {\n",
              "        vertical-align: middle;\n",
              "    }\n",
              "\n",
              "    .dataframe tbody tr th {\n",
              "        vertical-align: top;\n",
              "    }\n",
              "\n",
              "    .dataframe thead th {\n",
              "        text-align: right;\n",
              "    }\n",
              "</style>\n",
              "<table border=\"1\" class=\"dataframe\">\n",
              "  <thead>\n",
              "    <tr style=\"text-align: right;\">\n",
              "      <th></th>\n",
              "      <th>주거용</th>\n",
              "      <th>공공용</th>\n",
              "      <th>서비스업</th>\n",
              "      <th>농림어업</th>\n",
              "      <th>광업</th>\n",
              "      <th>제조업</th>\n",
              "      <th>식료품제조</th>\n",
              "      <th>섬유,의류</th>\n",
              "      <th>목재,나무</th>\n",
              "      <th>펄프,종이</th>\n",
              "      <th>...</th>\n",
              "      <th>1차금속</th>\n",
              "      <th>조립금속</th>\n",
              "      <th>기타기계</th>\n",
              "      <th>사무기기</th>\n",
              "      <th>전기기기</th>\n",
              "      <th>영상,음향</th>\n",
              "      <th>자동차</th>\n",
              "      <th>기타운송</th>\n",
              "      <th>가구및기타</th>\n",
              "      <th>재생재료</th>\n",
              "    </tr>\n",
              "    <tr>\n",
              "      <th>구분</th>\n",
              "      <th></th>\n",
              "      <th></th>\n",
              "      <th></th>\n",
              "      <th></th>\n",
              "      <th></th>\n",
              "      <th></th>\n",
              "      <th></th>\n",
              "      <th></th>\n",
              "      <th></th>\n",
              "      <th></th>\n",
              "      <th></th>\n",
              "      <th></th>\n",
              "      <th></th>\n",
              "      <th></th>\n",
              "      <th></th>\n",
              "      <th></th>\n",
              "      <th></th>\n",
              "      <th></th>\n",
              "      <th></th>\n",
              "      <th></th>\n",
              "      <th></th>\n",
              "    </tr>\n",
              "  </thead>\n",
              "  <tbody>\n",
              "    <tr>\n",
              "      <th>강원</th>\n",
              "      <td>-0.447461</td>\n",
              "      <td>1.107363</td>\n",
              "      <td>0.393992</td>\n",
              "      <td>-0.316151</td>\n",
              "      <td>2.742496</td>\n",
              "      <td>-0.676282</td>\n",
              "      <td>-0.050383</td>\n",
              "      <td>-0.616388</td>\n",
              "      <td>-0.451440</td>\n",
              "      <td>-1.067457</td>\n",
              "      <td>...</td>\n",
              "      <td>-0.545482</td>\n",
              "      <td>-0.948359</td>\n",
              "      <td>-0.828941</td>\n",
              "      <td>-0.656697</td>\n",
              "      <td>-0.830062</td>\n",
              "      <td>-0.527178</td>\n",
              "      <td>-0.976346</td>\n",
              "      <td>-0.336181</td>\n",
              "      <td>-0.556318</td>\n",
              "      <td>-0.886117</td>\n",
              "    </tr>\n",
              "    <tr>\n",
              "      <th>경남</th>\n",
              "      <td>1.578961</td>\n",
              "      <td>1.176534</td>\n",
              "      <td>1.498349</td>\n",
              "      <td>1.305632</td>\n",
              "      <td>0.008994</td>\n",
              "      <td>0.431200</td>\n",
              "      <td>0.885979</td>\n",
              "      <td>-0.251316</td>\n",
              "      <td>-0.199913</td>\n",
              "      <td>1.028648</td>\n",
              "      <td>...</td>\n",
              "      <td>0.272688</td>\n",
              "      <td>2.649920</td>\n",
              "      <td>2.895248</td>\n",
              "      <td>-0.222754</td>\n",
              "      <td>1.809963</td>\n",
              "      <td>-0.354695</td>\n",
              "      <td>1.289121</td>\n",
              "      <td>3.279342</td>\n",
              "      <td>1.110336</td>\n",
              "      <td>0.677332</td>\n",
              "    </tr>\n",
              "    <tr>\n",
              "      <th>경북</th>\n",
              "      <td>0.741750</td>\n",
              "      <td>1.560268</td>\n",
              "      <td>1.417523</td>\n",
              "      <td>0.888898</td>\n",
              "      <td>1.171658</td>\n",
              "      <td>1.539632</td>\n",
              "      <td>-0.003216</td>\n",
              "      <td>3.501870</td>\n",
              "      <td>-0.123130</td>\n",
              "      <td>-0.175988</td>\n",
              "      <td>...</td>\n",
              "      <td>2.359112</td>\n",
              "      <td>0.988392</td>\n",
              "      <td>0.661467</td>\n",
              "      <td>0.236074</td>\n",
              "      <td>1.293236</td>\n",
              "      <td>0.926336</td>\n",
              "      <td>1.511864</td>\n",
              "      <td>-0.307656</td>\n",
              "      <td>-0.239826</td>\n",
              "      <td>1.717722</td>\n",
              "    </tr>\n",
              "    <tr>\n",
              "      <th>광주</th>\n",
              "      <td>-0.435282</td>\n",
              "      <td>-1.020610</td>\n",
              "      <td>-0.963503</td>\n",
              "      <td>-0.878909</td>\n",
              "      <td>-0.832773</td>\n",
              "      <td>-0.960380</td>\n",
              "      <td>-0.985356</td>\n",
              "      <td>-0.307126</td>\n",
              "      <td>-0.527273</td>\n",
              "      <td>-1.021363</td>\n",
              "      <td>...</td>\n",
              "      <td>-0.829919</td>\n",
              "      <td>-0.694982</td>\n",
              "      <td>-0.502382</td>\n",
              "      <td>-0.373569</td>\n",
              "      <td>-0.238525</td>\n",
              "      <td>-0.287994</td>\n",
              "      <td>-0.534146</td>\n",
              "      <td>-0.529049</td>\n",
              "      <td>-0.552847</td>\n",
              "      <td>-0.439775</td>\n",
              "    </tr>\n",
              "    <tr>\n",
              "      <th>대구</th>\n",
              "      <td>0.610246</td>\n",
              "      <td>-0.355709</td>\n",
              "      <td>0.065323</td>\n",
              "      <td>-0.884685</td>\n",
              "      <td>-0.806008</td>\n",
              "      <td>-0.689116</td>\n",
              "      <td>-0.860335</td>\n",
              "      <td>0.525262</td>\n",
              "      <td>-0.469421</td>\n",
              "      <td>0.045628</td>\n",
              "      <td>...</td>\n",
              "      <td>-0.758493</td>\n",
              "      <td>0.399217</td>\n",
              "      <td>0.130952</td>\n",
              "      <td>3.389922</td>\n",
              "      <td>-0.406647</td>\n",
              "      <td>-0.453754</td>\n",
              "      <td>0.429803</td>\n",
              "      <td>-0.411663</td>\n",
              "      <td>-0.363103</td>\n",
              "      <td>0.180989</td>\n",
              "    </tr>\n",
              "    <tr>\n",
              "      <th>대전</th>\n",
              "      <td>-0.506892</td>\n",
              "      <td>-0.028737</td>\n",
              "      <td>-0.613482</td>\n",
              "      <td>-0.927483</td>\n",
              "      <td>-0.828903</td>\n",
              "      <td>-0.988171</td>\n",
              "      <td>-0.880839</td>\n",
              "      <td>-0.585057</td>\n",
              "      <td>-0.542427</td>\n",
              "      <td>0.293170</td>\n",
              "      <td>...</td>\n",
              "      <td>-0.835579</td>\n",
              "      <td>-0.883638</td>\n",
              "      <td>-0.743391</td>\n",
              "      <td>-0.590002</td>\n",
              "      <td>-0.694371</td>\n",
              "      <td>-0.375678</td>\n",
              "      <td>-0.860175</td>\n",
              "      <td>-0.528492</td>\n",
              "      <td>-0.430911</td>\n",
              "      <td>-0.927319</td>\n",
              "    </tr>\n",
              "    <tr>\n",
              "      <th>부산</th>\n",
              "      <td>1.764586</td>\n",
              "      <td>0.866387</td>\n",
              "      <td>1.011798</td>\n",
              "      <td>-0.843699</td>\n",
              "      <td>-0.630305</td>\n",
              "      <td>-0.537491</td>\n",
              "      <td>-0.083553</td>\n",
              "      <td>-0.052856</td>\n",
              "      <td>-0.250080</td>\n",
              "      <td>-1.059906</td>\n",
              "      <td>...</td>\n",
              "      <td>-0.135670</td>\n",
              "      <td>0.857876</td>\n",
              "      <td>0.903875</td>\n",
              "      <td>-0.449156</td>\n",
              "      <td>-0.622550</td>\n",
              "      <td>-0.510761</td>\n",
              "      <td>0.058538</td>\n",
              "      <td>-0.107861</td>\n",
              "      <td>-0.310237</td>\n",
              "      <td>-0.543843</td>\n",
              "    </tr>\n",
              "    <tr>\n",
              "      <th>세종</th>\n",
              "      <td>-1.806555</td>\n",
              "      <td>-1.698213</td>\n",
              "      <td>-2.097244</td>\n",
              "      <td>-0.884340</td>\n",
              "      <td>-0.711008</td>\n",
              "      <td>-1.089755</td>\n",
              "      <td>-1.108696</td>\n",
              "      <td>-0.553430</td>\n",
              "      <td>-0.560746</td>\n",
              "      <td>-0.204725</td>\n",
              "      <td>...</td>\n",
              "      <td>-0.842723</td>\n",
              "      <td>-1.009226</td>\n",
              "      <td>-0.846642</td>\n",
              "      <td>0.225388</td>\n",
              "      <td>-0.843536</td>\n",
              "      <td>-0.482711</td>\n",
              "      <td>-1.014542</td>\n",
              "      <td>-0.538628</td>\n",
              "      <td>-0.607990</td>\n",
              "      <td>-0.914916</td>\n",
              "    </tr>\n",
              "    <tr>\n",
              "      <th>울산</th>\n",
              "      <td>-0.843818</td>\n",
              "      <td>-1.213457</td>\n",
              "      <td>-0.750871</td>\n",
              "      <td>-0.872977</td>\n",
              "      <td>-0.677199</td>\n",
              "      <td>1.150686</td>\n",
              "      <td>-0.920690</td>\n",
              "      <td>0.400589</td>\n",
              "      <td>-0.493517</td>\n",
              "      <td>0.507522</td>\n",
              "      <td>...</td>\n",
              "      <td>0.527077</td>\n",
              "      <td>-0.181218</td>\n",
              "      <td>-0.561629</td>\n",
              "      <td>-0.439116</td>\n",
              "      <td>0.193389</td>\n",
              "      <td>-0.534153</td>\n",
              "      <td>1.523243</td>\n",
              "      <td>1.363437</td>\n",
              "      <td>-0.608978</td>\n",
              "      <td>-0.949440</td>\n",
              "    </tr>\n",
              "    <tr>\n",
              "      <th>인천</th>\n",
              "      <td>1.225974</td>\n",
              "      <td>-0.112676</td>\n",
              "      <td>0.820080</td>\n",
              "      <td>-0.806685</td>\n",
              "      <td>-0.212184</td>\n",
              "      <td>-0.091316</td>\n",
              "      <td>0.178704</td>\n",
              "      <td>-0.547660</td>\n",
              "      <td>3.352659</td>\n",
              "      <td>-0.980852</td>\n",
              "      <td>...</td>\n",
              "      <td>-0.159430</td>\n",
              "      <td>0.592842</td>\n",
              "      <td>0.980941</td>\n",
              "      <td>-0.238316</td>\n",
              "      <td>-0.411673</td>\n",
              "      <td>-0.146970</td>\n",
              "      <td>-0.422404</td>\n",
              "      <td>-0.437572</td>\n",
              "      <td>1.766281</td>\n",
              "      <td>0.142896</td>\n",
              "    </tr>\n",
              "    <tr>\n",
              "      <th>전남</th>\n",
              "      <td>-0.147705</td>\n",
              "      <td>-0.004924</td>\n",
              "      <td>0.164025</td>\n",
              "      <td>2.314113</td>\n",
              "      <td>-0.196920</td>\n",
              "      <td>0.743660</td>\n",
              "      <td>-0.135890</td>\n",
              "      <td>-0.455163</td>\n",
              "      <td>-0.397158</td>\n",
              "      <td>-0.746944</td>\n",
              "      <td>...</td>\n",
              "      <td>0.635123</td>\n",
              "      <td>-0.765944</td>\n",
              "      <td>-0.766398</td>\n",
              "      <td>-0.725399</td>\n",
              "      <td>-0.496765</td>\n",
              "      <td>-0.527737</td>\n",
              "      <td>-1.022170</td>\n",
              "      <td>0.358893</td>\n",
              "      <td>-0.544315</td>\n",
              "      <td>0.121481</td>\n",
              "    </tr>\n",
              "    <tr>\n",
              "      <th>전북</th>\n",
              "      <td>-0.110969</td>\n",
              "      <td>0.333923</td>\n",
              "      <td>-0.185723</td>\n",
              "      <td>0.537569</td>\n",
              "      <td>-0.087661</td>\n",
              "      <td>-0.036357</td>\n",
              "      <td>2.162702</td>\n",
              "      <td>0.169215</td>\n",
              "      <td>1.220266</td>\n",
              "      <td>2.257960</td>\n",
              "      <td>...</td>\n",
              "      <td>-0.214886</td>\n",
              "      <td>-0.735639</td>\n",
              "      <td>-0.580437</td>\n",
              "      <td>-0.282277</td>\n",
              "      <td>-0.554105</td>\n",
              "      <td>-0.394874</td>\n",
              "      <td>-0.148630</td>\n",
              "      <td>-0.406346</td>\n",
              "      <td>-0.534268</td>\n",
              "      <td>2.491566</td>\n",
              "    </tr>\n",
              "    <tr>\n",
              "      <th>제주</th>\n",
              "      <td>-1.459191</td>\n",
              "      <td>-1.692982</td>\n",
              "      <td>-1.351751</td>\n",
              "      <td>0.484653</td>\n",
              "      <td>-0.732213</td>\n",
              "      <td>-1.205671</td>\n",
              "      <td>-0.997687</td>\n",
              "      <td>-0.626806</td>\n",
              "      <td>-0.559519</td>\n",
              "      <td>-1.076753</td>\n",
              "      <td>...</td>\n",
              "      <td>-0.851981</td>\n",
              "      <td>-1.026691</td>\n",
              "      <td>-0.896524</td>\n",
              "      <td>-0.801488</td>\n",
              "      <td>-0.941156</td>\n",
              "      <td>-0.542655</td>\n",
              "      <td>-1.101314</td>\n",
              "      <td>-0.537637</td>\n",
              "      <td>-0.630615</td>\n",
              "      <td>-0.980643</td>\n",
              "    </tr>\n",
              "    <tr>\n",
              "      <th>충남</th>\n",
              "      <td>0.208395</td>\n",
              "      <td>0.315177</td>\n",
              "      <td>0.824572</td>\n",
              "      <td>1.079753</td>\n",
              "      <td>1.386370</td>\n",
              "      <td>2.177606</td>\n",
              "      <td>1.381396</td>\n",
              "      <td>-0.335466</td>\n",
              "      <td>0.253605</td>\n",
              "      <td>1.007708</td>\n",
              "      <td>...</td>\n",
              "      <td>2.093780</td>\n",
              "      <td>0.190516</td>\n",
              "      <td>0.321228</td>\n",
              "      <td>0.074000</td>\n",
              "      <td>0.334314</td>\n",
              "      <td>3.311517</td>\n",
              "      <td>1.700154</td>\n",
              "      <td>-0.475700</td>\n",
              "      <td>-0.283059</td>\n",
              "      <td>-0.309877</td>\n",
              "    </tr>\n",
              "    <tr>\n",
              "      <th>충북</th>\n",
              "      <td>-0.372041</td>\n",
              "      <td>0.767657</td>\n",
              "      <td>-0.233088</td>\n",
              "      <td>-0.195689</td>\n",
              "      <td>0.405657</td>\n",
              "      <td>0.231756</td>\n",
              "      <td>1.417864</td>\n",
              "      <td>-0.265667</td>\n",
              "      <td>-0.251907</td>\n",
              "      <td>1.193353</td>\n",
              "      <td>...</td>\n",
              "      <td>-0.713617</td>\n",
              "      <td>0.566934</td>\n",
              "      <td>-0.167369</td>\n",
              "      <td>0.853390</td>\n",
              "      <td>2.408489</td>\n",
              "      <td>0.901306</td>\n",
              "      <td>-0.432995</td>\n",
              "      <td>-0.384884</td>\n",
              "      <td>2.785850</td>\n",
              "      <td>0.619944</td>\n",
              "    </tr>\n",
              "  </tbody>\n",
              "</table>\n",
              "<p>15 rows × 24 columns</p>\n",
              "</div>"
            ],
            "text/plain": [
              "         주거용       공공용      서비스업      농림어업        광업       제조업     식료품제조  \\\n",
              "구분                                                                         \n",
              "강원 -0.447461  1.107363  0.393992 -0.316151  2.742496 -0.676282 -0.050383   \n",
              "경남  1.578961  1.176534  1.498349  1.305632  0.008994  0.431200  0.885979   \n",
              "경북  0.741750  1.560268  1.417523  0.888898  1.171658  1.539632 -0.003216   \n",
              "광주 -0.435282 -1.020610 -0.963503 -0.878909 -0.832773 -0.960380 -0.985356   \n",
              "대구  0.610246 -0.355709  0.065323 -0.884685 -0.806008 -0.689116 -0.860335   \n",
              "대전 -0.506892 -0.028737 -0.613482 -0.927483 -0.828903 -0.988171 -0.880839   \n",
              "부산  1.764586  0.866387  1.011798 -0.843699 -0.630305 -0.537491 -0.083553   \n",
              "세종 -1.806555 -1.698213 -2.097244 -0.884340 -0.711008 -1.089755 -1.108696   \n",
              "울산 -0.843818 -1.213457 -0.750871 -0.872977 -0.677199  1.150686 -0.920690   \n",
              "인천  1.225974 -0.112676  0.820080 -0.806685 -0.212184 -0.091316  0.178704   \n",
              "전남 -0.147705 -0.004924  0.164025  2.314113 -0.196920  0.743660 -0.135890   \n",
              "전북 -0.110969  0.333923 -0.185723  0.537569 -0.087661 -0.036357  2.162702   \n",
              "제주 -1.459191 -1.692982 -1.351751  0.484653 -0.732213 -1.205671 -0.997687   \n",
              "충남  0.208395  0.315177  0.824572  1.079753  1.386370  2.177606  1.381396   \n",
              "충북 -0.372041  0.767657 -0.233088 -0.195689  0.405657  0.231756  1.417864   \n",
              "\n",
              "       섬유,의류     목재,나무     펄프,종이    ...         1차금속      조립금속      기타기계  \\\n",
              "구분                                  ...                                    \n",
              "강원 -0.616388 -0.451440 -1.067457    ...    -0.545482 -0.948359 -0.828941   \n",
              "경남 -0.251316 -0.199913  1.028648    ...     0.272688  2.649920  2.895248   \n",
              "경북  3.501870 -0.123130 -0.175988    ...     2.359112  0.988392  0.661467   \n",
              "광주 -0.307126 -0.527273 -1.021363    ...    -0.829919 -0.694982 -0.502382   \n",
              "대구  0.525262 -0.469421  0.045628    ...    -0.758493  0.399217  0.130952   \n",
              "대전 -0.585057 -0.542427  0.293170    ...    -0.835579 -0.883638 -0.743391   \n",
              "부산 -0.052856 -0.250080 -1.059906    ...    -0.135670  0.857876  0.903875   \n",
              "세종 -0.553430 -0.560746 -0.204725    ...    -0.842723 -1.009226 -0.846642   \n",
              "울산  0.400589 -0.493517  0.507522    ...     0.527077 -0.181218 -0.561629   \n",
              "인천 -0.547660  3.352659 -0.980852    ...    -0.159430  0.592842  0.980941   \n",
              "전남 -0.455163 -0.397158 -0.746944    ...     0.635123 -0.765944 -0.766398   \n",
              "전북  0.169215  1.220266  2.257960    ...    -0.214886 -0.735639 -0.580437   \n",
              "제주 -0.626806 -0.559519 -1.076753    ...    -0.851981 -1.026691 -0.896524   \n",
              "충남 -0.335466  0.253605  1.007708    ...     2.093780  0.190516  0.321228   \n",
              "충북 -0.265667 -0.251907  1.193353    ...    -0.713617  0.566934 -0.167369   \n",
              "\n",
              "        사무기기      전기기기     영상,음향       자동차      기타운송     가구및기타      재생재료  \n",
              "구분                                                                        \n",
              "강원 -0.656697 -0.830062 -0.527178 -0.976346 -0.336181 -0.556318 -0.886117  \n",
              "경남 -0.222754  1.809963 -0.354695  1.289121  3.279342  1.110336  0.677332  \n",
              "경북  0.236074  1.293236  0.926336  1.511864 -0.307656 -0.239826  1.717722  \n",
              "광주 -0.373569 -0.238525 -0.287994 -0.534146 -0.529049 -0.552847 -0.439775  \n",
              "대구  3.389922 -0.406647 -0.453754  0.429803 -0.411663 -0.363103  0.180989  \n",
              "대전 -0.590002 -0.694371 -0.375678 -0.860175 -0.528492 -0.430911 -0.927319  \n",
              "부산 -0.449156 -0.622550 -0.510761  0.058538 -0.107861 -0.310237 -0.543843  \n",
              "세종  0.225388 -0.843536 -0.482711 -1.014542 -0.538628 -0.607990 -0.914916  \n",
              "울산 -0.439116  0.193389 -0.534153  1.523243  1.363437 -0.608978 -0.949440  \n",
              "인천 -0.238316 -0.411673 -0.146970 -0.422404 -0.437572  1.766281  0.142896  \n",
              "전남 -0.725399 -0.496765 -0.527737 -1.022170  0.358893 -0.544315  0.121481  \n",
              "전북 -0.282277 -0.554105 -0.394874 -0.148630 -0.406346 -0.534268  2.491566  \n",
              "제주 -0.801488 -0.941156 -0.542655 -1.101314 -0.537637 -0.630615 -0.980643  \n",
              "충남  0.074000  0.334314  3.311517  1.700154 -0.475700 -0.283059 -0.309877  \n",
              "충북  0.853390  2.408489  0.901306 -0.432995 -0.384884  2.785850  0.619944  \n",
              "\n",
              "[15 rows x 24 columns]"
            ]
          },
          "metadata": {
            "tags": []
          },
          "execution_count": 201
        }
      ]
    },
    {
      "metadata": {
        "id": "y8LWWtqUnzNL",
        "colab_type": "text"
      },
      "cell_type": "markdown",
      "source": [
        "## DBSCAN"
      ]
    },
    {
      "metadata": {
        "id": "LANp3CTdnzNL",
        "colab_type": "code",
        "outputId": "2f2f02cc-c47c-4a67-b91a-7618c32a039c",
        "colab": {
          "base_uri": "https://localhost:8080/",
          "height": 265
        }
      },
      "cell_type": "code",
      "source": [
        "from sklearn.datasets import make_moons\n",
        "from sklearn.cluster import DBSCAN\n",
        "X, y = make_moons(n_samples=300, noise=0.05, random_state=11)\n",
        "plt.scatter(X[:,0], X[:,1])\n",
        "plt.show()"
      ],
      "execution_count": 202,
      "outputs": [
        {
          "output_type": "display_data",
          "data": {
            "image/png": "[encoded data removed]",
            "text/plain": [
              "<Figure size 432x288 with 1 Axes>"
            ]
          },
          "metadata": {
            "tags": []
          }
        }
      ]
    },
    {
      "metadata": {
        "id": "AR_rk6OAo7kj",
        "colab_type": "code",
        "colab": {
          "base_uri": "https://localhost:8080/",
          "height": 5117
        },
        "outputId": "e05995da-7aac-4b8a-8305-e7ad863a3254"
      },
      "cell_type": "code",
      "source": [
        "X"
      ],
      "execution_count": 206,
      "outputs": [
        {
          "output_type": "execute_result",
          "data": {
            "text/plain": [
              "array([[ 0.09999454, -0.06140157],\n",
              "       [-0.84634104,  0.72976933],\n",
              "       [-0.22592098,  0.99424568],\n",
              "       [ 1.2646073 , -0.39786026],\n",
              "       [ 0.98061929,  0.19150151],\n",
              "       [ 1.7194218 , -0.36355095],\n",
              "       [ 1.70027338, -0.22218852],\n",
              "       [ 0.64520759,  0.67619025],\n",
              "       [ 0.5632047 , -0.41436822],\n",
              "       [ 0.31995317,  0.90017433],\n",
              "       [-0.72008005,  0.55000735],\n",
              "       [ 1.83760498,  0.13244443],\n",
              "       [-0.85164728,  0.447588  ],\n",
              "       [ 0.34226246, -0.20122148],\n",
              "       [ 0.04018325,  0.47835229],\n",
              "       [ 0.34118132, -0.23214137],\n",
              "       [-0.90193319,  0.3902305 ],\n",
              "       [ 0.82061988, -0.47900711],\n",
              "       [ 0.11451512,  0.99912056],\n",
              "       [ 0.93815896,  0.32638422],\n",
              "       [ 1.96170113,  0.17226221],\n",
              "       [ 0.40273417, -0.16314217],\n",
              "       [ 1.02078445,  0.00211579],\n",
              "       [ 0.0397841 ,  0.43032628],\n",
              "       [ 1.931531  ,  0.10787329],\n",
              "       [-1.00685349,  0.33832601],\n",
              "       [ 0.99755243,  0.25684857],\n",
              "       [ 1.91363866,  0.00920975],\n",
              "       [ 0.61637236,  0.64854713],\n",
              "       [ 0.09152242,  0.37046258],\n",
              "       [ 2.01880066,  0.31452398],\n",
              "       [ 0.09147352,  0.09833024],\n",
              "       [ 0.47597291,  0.87057385],\n",
              "       [ 0.93632973,  0.34554661],\n",
              "       [ 0.32314261,  0.87155026],\n",
              "       [ 0.88563127,  0.42237998],\n",
              "       [-0.08259425,  0.47014513],\n",
              "       [ 0.83749431, -0.4022612 ],\n",
              "       [ 0.46431715, -0.34081006],\n",
              "       [ 0.3523448 , -0.36717513],\n",
              "       [-0.28260706,  0.93526344],\n",
              "       [ 1.16518881, -0.51735287],\n",
              "       [ 0.05062804,  0.28642573],\n",
              "       [-0.0344025 ,  0.9374327 ],\n",
              "       [ 1.8331724 , -0.12759872],\n",
              "       [ 1.55331519, -0.28027643],\n",
              "       [-0.58015449,  0.83662504],\n",
              "       [ 0.38815214,  0.82698744],\n",
              "       [ 0.49284932, -0.36998288],\n",
              "       [ 0.23887145,  0.95964699],\n",
              "       [ 0.82861338, -0.45155577],\n",
              "       [-0.83500947,  0.58478703],\n",
              "       [ 1.70078769, -0.05545717],\n",
              "       [-0.95724904,  0.31446583],\n",
              "       [ 0.65119822,  0.82997287],\n",
              "       [-0.72604657,  0.67176001],\n",
              "       [-0.02590222,  0.27416249],\n",
              "       [ 0.07578704,  0.17061488],\n",
              "       [ 1.94992324,  0.36966454],\n",
              "       [ 0.1505179 ,  0.98947514],\n",
              "       [ 0.9261179 , -0.44436061],\n",
              "       [ 0.44978654,  0.85804663],\n",
              "       [ 0.65053744, -0.47448582],\n",
              "       [ 0.89515581,  0.57380204],\n",
              "       [ 1.72694701, -0.24558869],\n",
              "       [ 1.54681027, -0.25038609],\n",
              "       [ 0.99673274,  0.01799881],\n",
              "       [ 0.47122987,  1.00709303],\n",
              "       [-1.005908  ,  0.34412022],\n",
              "       [ 0.86133568,  0.45171742],\n",
              "       [-0.49484167,  0.84401111],\n",
              "       [-0.44722054,  0.87881392],\n",
              "       [ 1.77079492, -0.11465777],\n",
              "       [ 0.41549789,  0.96099606],\n",
              "       [ 0.79944668,  0.72235695],\n",
              "       [ 1.03887373,  0.34105061],\n",
              "       [ 0.18702047, -0.09656862],\n",
              "       [ 0.24915096, -0.19698519],\n",
              "       [-0.52359798,  0.86018781],\n",
              "       [ 1.76565564,  0.04177749],\n",
              "       [ 1.7240481 , -0.21276942],\n",
              "       [ 0.8046138 ,  0.5826772 ],\n",
              "       [ 1.64579265, -0.3842148 ],\n",
              "       [ 0.87003815,  0.45328124],\n",
              "       [ 0.93925143,  0.14109216],\n",
              "       [ 1.22835069, -0.47160333],\n",
              "       [-0.40884142,  0.98745938],\n",
              "       [ 0.84279411,  0.37913749],\n",
              "       [-0.02185704,  0.40222585],\n",
              "       [ 0.56020818,  0.7421379 ],\n",
              "       [ 1.00848895, -0.49414296],\n",
              "       [ 0.76895934,  0.62085073],\n",
              "       [ 0.89999966,  0.45437439],\n",
              "       [-0.05340459,  0.1947039 ],\n",
              "       [-0.97730258, -0.02132012],\n",
              "       [-0.71028495,  0.69850462],\n",
              "       [-0.8187224 ,  0.62738747],\n",
              "       [ 1.23337582, -0.48369804],\n",
              "       [ 0.19069259,  0.0277981 ],\n",
              "       [ 0.8177182 ,  0.6091509 ],\n",
              "       [ 1.3920732 , -0.40418344],\n",
              "       [ 1.93472756,  0.34772486],\n",
              "       [ 0.30812212,  0.987959  ],\n",
              "       [-0.9052925 ,  0.55970999],\n",
              "       [ 0.91533936, -0.48020605],\n",
              "       [ 0.13270165,  0.9990686 ],\n",
              "       [ 0.48835158,  0.86388411],\n",
              "       [ 1.1637682 , -0.49399297],\n",
              "       [ 1.25355962, -0.5145673 ],\n",
              "       [ 2.00594632,  0.51341946],\n",
              "       [-0.90885769,  0.18677796],\n",
              "       [ 2.0772664 ,  0.49697607],\n",
              "       [ 0.90860311, -0.03652079],\n",
              "       [-0.46778222,  0.89295128],\n",
              "       [-0.85604226,  0.42299021],\n",
              "       [-0.17869054,  0.97581239],\n",
              "       [-0.60316921,  0.85117637],\n",
              "       [-0.9641242 ,  0.09123241],\n",
              "       [ 0.56301203, -0.41346805],\n",
              "       [-0.1150586 ,  1.01511207],\n",
              "       [ 0.23212585, -0.17666252],\n",
              "       [ 1.0833041 ,  0.06161997],\n",
              "       [ 2.03071164,  0.46069528],\n",
              "       [ 0.36420491,  0.95892658],\n",
              "       [ 0.8619477 , -0.45738653],\n",
              "       [-0.51561014,  0.91708361],\n",
              "       [ 0.25235059,  1.05857993],\n",
              "       [ 0.14296033, -0.17136062],\n",
              "       [ 1.84814614, -0.01861687],\n",
              "       [ 2.02732502,  0.38221006],\n",
              "       [ 1.94012406,  0.33540037],\n",
              "       [ 0.52912907,  0.77859672],\n",
              "       [ 0.51037874, -0.2532559 ],\n",
              "       [-0.82397237,  0.58754372],\n",
              "       [ 0.83316628,  0.56626369],\n",
              "       [ 1.10936248, -0.58826393],\n",
              "       [ 0.44618813,  0.92014446],\n",
              "       [ 0.25098984, -0.01760006],\n",
              "       [ 1.39581103, -0.41449532],\n",
              "       [ 0.09398758,  0.24034469],\n",
              "       [ 1.93329244,  0.06548556],\n",
              "       [-0.91809883,  0.38682866],\n",
              "       [ 1.07251614, -0.46362702],\n",
              "       [-0.95548439,  0.10539214],\n",
              "       [ 0.63438224,  0.79714113],\n",
              "       [ 1.48543068, -0.3488408 ],\n",
              "       [ 0.14131378, -0.04490472],\n",
              "       [-0.14116046,  1.03545022],\n",
              "       [ 0.56601297, -0.38435009],\n",
              "       [ 1.04347349,  0.05984342],\n",
              "       [ 0.05694259,  0.94874236],\n",
              "       [ 0.83646384, -0.50413073],\n",
              "       [ 0.79744659, -0.56132197],\n",
              "       [ 1.2709153 , -0.54291307],\n",
              "       [ 0.00967359,  0.44729192],\n",
              "       [ 0.84555953,  0.59044292],\n",
              "       [ 0.92733519,  0.26162644],\n",
              "       [-0.31384064,  0.88752073],\n",
              "       [-0.5628624 ,  0.85098704],\n",
              "       [ 1.32454174, -0.50396402],\n",
              "       [-0.95797268,  0.15173319],\n",
              "       [ 1.70068874, -0.17398321],\n",
              "       [ 0.76310575,  0.70960612],\n",
              "       [ 1.30566166, -0.42343874],\n",
              "       [-0.30397481,  0.93204246],\n",
              "       [ 0.64259461, -0.49856417],\n",
              "       [ 1.65884514, -0.28552531],\n",
              "       [ 0.04857257,  0.0973143 ],\n",
              "       [ 0.77954597, -0.45797441],\n",
              "       [ 0.51071207, -0.41792812],\n",
              "       [ 0.44528946, -0.25898132],\n",
              "       [ 1.99239079,  0.24810089],\n",
              "       [ 1.26042209, -0.49549863],\n",
              "       [ 1.72006768, -0.03406998],\n",
              "       [ 0.2233309 ,  0.95045609],\n",
              "       [ 1.00182049,  0.23737568],\n",
              "       [ 0.46713663, -0.3175206 ],\n",
              "       [ 1.94188053,  0.04746422],\n",
              "       [ 1.67155216, -0.25141802],\n",
              "       [-0.34501977,  0.93563684],\n",
              "       [ 1.93426001,  0.16010344],\n",
              "       [ 1.88471437,  0.07548745],\n",
              "       [ 0.94866206,  0.04602655],\n",
              "       [ 0.70301117, -0.40390541],\n",
              "       [ 0.43097254, -0.27029583],\n",
              "       [ 0.49815088, -0.36223381],\n",
              "       [ 0.25997273,  0.90603715],\n",
              "       [-0.5288595 ,  0.79893361],\n",
              "       [ 0.94721434, -0.47210677],\n",
              "       [ 0.96183009,  0.14353153],\n",
              "       [ 1.80114148,  0.04678393],\n",
              "       [-1.01078642, -0.01807209],\n",
              "       [ 0.09306613,  0.29250773],\n",
              "       [ 0.7916081 , -0.58623383],\n",
              "       [-0.0390756 ,  1.05316429],\n",
              "       [ 0.70265481, -0.35650974],\n",
              "       [ 0.30314767, -0.1843667 ],\n",
              "       [-0.78643821,  0.76741017],\n",
              "       [ 1.95702913,  0.41100593],\n",
              "       [-0.58495062,  0.80374895],\n",
              "       [-1.02723243, -0.01114472],\n",
              "       [ 2.03293971,  0.30224102],\n",
              "       [ 1.38027505, -0.47968948],\n",
              "       [ 0.23629718,  0.99794202],\n",
              "       [ 0.22209702, -0.11150808],\n",
              "       [-0.968069  ,  0.11975688],\n",
              "       [ 0.04549015,  0.44828636],\n",
              "       [-0.94477541,  0.39732184],\n",
              "       [-0.53572361,  0.94403403],\n",
              "       [ 0.74877416, -0.43377739],\n",
              "       [ 0.84171706,  0.65949474],\n",
              "       [-0.8267307 ,  0.59003482],\n",
              "       [-0.74334176,  0.52450422],\n",
              "       [ 1.98866177,  0.24176684],\n",
              "       [ 0.11397781,  0.08140521],\n",
              "       [ 0.62878208,  0.70704154],\n",
              "       [ 0.9822574 , -0.51668637],\n",
              "       [ 1.84469455, -0.01637586],\n",
              "       [-0.1391423 ,  0.98406942],\n",
              "       [ 0.45983183,  0.88788648],\n",
              "       [-0.15979044,  0.97488343],\n",
              "       [ 1.44277972, -0.49412612],\n",
              "       [ 1.42552675, -0.34688956],\n",
              "       [-0.07393611,  0.30733732],\n",
              "       [ 0.0404197 ,  1.04764024],\n",
              "       [-0.83824134,  0.47012397],\n",
              "       [-0.60545237,  0.79964667],\n",
              "       [ 1.86907849, -0.1352146 ],\n",
              "       [-0.9132062 ,  0.40026334],\n",
              "       [ 2.0805665 ,  0.3816589 ],\n",
              "       [ 0.42275042, -0.32965441],\n",
              "       [ 1.02184471,  0.19915819],\n",
              "       [ 0.57713338,  0.66379709],\n",
              "       [ 0.08888744,  0.06388811],\n",
              "       [ 1.51446322, -0.41971663],\n",
              "       [-0.75090743,  0.72429994],\n",
              "       [ 0.57756053,  0.82491004],\n",
              "       [ 1.8212276 , -0.07750092],\n",
              "       [ 0.60796456,  0.85284625],\n",
              "       [ 0.88779419,  0.40026262],\n",
              "       [ 0.61984461,  0.78624318],\n",
              "       [ 0.98709895,  0.40446616],\n",
              "       [ 1.72789858, -0.35869487],\n",
              "       [ 0.10063454,  0.1608055 ],\n",
              "       [-0.3786935 ,  0.87526112],\n",
              "       [-0.81587428,  0.56828019],\n",
              "       [ 0.05870244,  0.50242085],\n",
              "       [ 0.88665622,  0.38739065],\n",
              "       [-0.1502928 ,  0.9629855 ],\n",
              "       [-0.00411979,  0.25304288],\n",
              "       [-0.76836854,  0.7881103 ],\n",
              "       [ 0.07467399,  1.03018747],\n",
              "       [ 0.15293507,  1.04604231],\n",
              "       [ 0.62931393, -0.43488962],\n",
              "       [ 0.75080514, -0.44629065],\n",
              "       [-0.98137022,  0.3231259 ],\n",
              "       [-0.84875173,  0.42386345],\n",
              "       [ 1.0277822 ,  0.01203135],\n",
              "       [ 0.29705544, -0.13981325],\n",
              "       [ 1.03191318, -0.50531944],\n",
              "       [ 0.16975043, -0.10952494],\n",
              "       [ 0.13924307, -0.10001885],\n",
              "       [-0.93906516,  0.36051908],\n",
              "       [ 0.95199103, -0.47086939],\n",
              "       [ 1.50726475, -0.37063438],\n",
              "       [ 0.04185403,  0.19162498],\n",
              "       [ 1.71465316, -0.22383107],\n",
              "       [-0.94643305,  0.17733799],\n",
              "       [ 1.39540175, -0.43169544],\n",
              "       [ 0.77888451,  0.47899681],\n",
              "       [-1.01154504,  0.285482  ],\n",
              "       [-0.30795646,  0.9281057 ],\n",
              "       [ 0.83814417,  0.51972689],\n",
              "       [-0.41736166,  0.89040568],\n",
              "       [-0.03043503,  0.94435678],\n",
              "       [ 1.89486793,  0.19793902],\n",
              "       [ 0.42752471, -0.38975012],\n",
              "       [ 1.37115865, -0.35330486],\n",
              "       [ 0.1113612 ,  0.03020517],\n",
              "       [ 0.25259836,  1.04587082],\n",
              "       [-1.01012004,  0.22741554],\n",
              "       [ 2.01363844,  0.4144845 ],\n",
              "       [-0.15648743,  1.10782316],\n",
              "       [ 1.14624391, -0.35943801],\n",
              "       [ 0.60427754,  0.68756328],\n",
              "       [-0.96734649,  0.11430758],\n",
              "       [ 0.85735834,  0.65456332],\n",
              "       [-0.919693  ,  0.61254113],\n",
              "       [ 1.20823858, -0.38887395],\n",
              "       [ 1.54897705, -0.37249252],\n",
              "       [ 0.21170615, -0.04185034],\n",
              "       [-0.333863  ,  0.85617092],\n",
              "       [-0.69035271,  0.77608295],\n",
              "       [ 1.96081714,  0.13114605],\n",
              "       [ 0.0055538 ,  0.93005166],\n",
              "       [ 0.02604341,  0.2831384 ],\n",
              "       [ 1.85321072, -0.11326848],\n",
              "       [-0.46522395,  0.97729021],\n",
              "       [-0.08342804,  0.98825496],\n",
              "       [ 0.33545978, -0.19327053]])"
            ]
          },
          "metadata": {
            "tags": []
          },
          "execution_count": 206
        }
      ]
    },
    {
      "metadata": {
        "id": "MO9o2zGtpAf9",
        "colab_type": "code",
        "colab": {
          "base_uri": "https://localhost:8080/",
          "height": 255
        },
        "outputId": "987f382c-0832-4ece-b9f2-001cecc850ac"
      },
      "cell_type": "code",
      "source": [
        "y"
      ],
      "execution_count": 207,
      "outputs": [
        {
          "output_type": "execute_result",
          "data": {
            "text/plain": [
              "array([1, 0, 0, 1, 0, 1, 1, 0, 1, 0, 0, 1, 0, 1, 1, 1, 0, 1, 0, 0, 1, 1,\n",
              "       0, 1, 1, 0, 0, 1, 0, 1, 1, 1, 0, 0, 0, 0, 1, 1, 1, 1, 0, 1, 1, 0,\n",
              "       1, 1, 0, 0, 1, 0, 1, 0, 1, 0, 0, 0, 1, 1, 1, 0, 1, 0, 1, 0, 1, 1,\n",
              "       0, 0, 0, 0, 0, 0, 1, 0, 0, 0, 1, 1, 0, 1, 1, 0, 1, 0, 0, 1, 0, 0,\n",
              "       1, 0, 1, 0, 0, 1, 0, 0, 0, 1, 1, 0, 1, 1, 0, 0, 1, 0, 0, 1, 1, 1,\n",
              "       0, 1, 0, 0, 0, 0, 0, 0, 1, 0, 1, 0, 1, 0, 1, 0, 0, 1, 1, 1, 1, 0,\n",
              "       1, 0, 0, 1, 0, 1, 1, 1, 1, 0, 1, 0, 0, 1, 1, 0, 1, 0, 0, 1, 1, 1,\n",
              "       1, 0, 0, 0, 0, 1, 0, 1, 0, 1, 0, 1, 1, 1, 1, 1, 1, 1, 1, 1, 0, 0,\n",
              "       1, 1, 1, 0, 1, 1, 0, 1, 1, 1, 0, 0, 1, 0, 1, 0, 1, 1, 0, 1, 1, 0,\n",
              "       1, 0, 0, 1, 1, 0, 1, 0, 1, 0, 0, 1, 0, 0, 0, 1, 1, 0, 1, 1, 0, 0,\n",
              "       0, 1, 1, 1, 0, 0, 0, 1, 0, 1, 1, 0, 0, 1, 1, 0, 0, 1, 0, 0, 0, 0,\n",
              "       1, 1, 0, 0, 1, 0, 0, 1, 0, 0, 0, 1, 1, 0, 0, 0, 1, 1, 1, 1, 0, 1,\n",
              "       1, 1, 1, 0, 1, 0, 0, 0, 0, 0, 0, 1, 1, 1, 1, 0, 0, 1, 0, 1, 0, 0,\n",
              "       0, 0, 1, 1, 1, 0, 0, 1, 0, 1, 1, 0, 0, 1])"
            ]
          },
          "metadata": {
            "tags": []
          },
          "execution_count": 207
        }
      ]
    },
    {
      "metadata": {
        "id": "SFBHgV4QnzNO",
        "colab_type": "code",
        "outputId": "ec2949a3-9ebb-42bc-eed2-48e6482adb94",
        "colab": {
          "base_uri": "https://localhost:8080/",
          "height": 282
        }
      },
      "cell_type": "code",
      "source": [
        "kmeans = KMeans(n_clusters=2)\n",
        "predict = kmeans.fit_predict(X)\n",
        "plt.scatter(X[:,0], X[:,1],c=predict)"
      ],
      "execution_count": 205,
      "outputs": [
        {
          "output_type": "execute_result",
          "data": {
            "text/plain": [
              "<matplotlib.collections.PathCollection at 0x7fc197b00c88>"
            ]
          },
          "metadata": {
            "tags": []
          },
          "execution_count": 205
        },
        {
          "output_type": "display_data",
          "data": {
            "image/png": "[encoded data removed]",
            "text/plain": [
              "<Figure size 432x288 with 1 Axes>"
            ]
          },
          "metadata": {
            "tags": []
          }
        }
      ]
    },
    {
      "metadata": {
        "scrolled": true,
        "id": "D-28fBnunzNR",
        "colab_type": "code",
        "outputId": "ba06839f-a010-4b98-eb6c-006ddfaa98c4",
        "colab": {
          "base_uri": "https://localhost:8080/",
          "height": 282
        }
      },
      "cell_type": "code",
      "source": [
        "#eps : 입실론 = 반경\n",
        "#min_samples : 한그룹으로 인정할 최소 sample 수\n",
        "dbscan = DBSCAN(eps=0.2, min_samples=10, metric='euclidean')\n",
        "predict = dbscan.fit_predict(X)\n",
        "plt.scatter(X[:,0], X[:,1],c=predict)"
      ],
      "execution_count": 204,
      "outputs": [
        {
          "output_type": "execute_result",
          "data": {
            "text/plain": [
              "<matplotlib.collections.PathCollection at 0x7fc197ba5f60>"
            ]
          },
          "metadata": {
            "tags": []
          },
          "execution_count": 204
        },
        {
          "output_type": "display_data",
          "data": {
            "image/png": "[encoded data removed]",
            "text/plain": [
              "<Figure size 432x288 with 1 Axes>"
            ]
          },
          "metadata": {
            "tags": []
          }
        }
      ]
    },
    {
      "metadata": {
        "id": "L-ybc79ynzNV",
        "colab_type": "code",
        "outputId": "51f73f11-10fa-49b2-aaa6-a8370e5f9026",
        "colab": {
          "base_uri": "https://localhost:8080/",
          "height": 282
        }
      },
      "cell_type": "code",
      "source": [
        "dbscan = DBSCAN(eps=0.1, min_samples=5, metric='euclidean')\n",
        "predict = dbscan.fit_predict(X)\n",
        "plt.scatter(X[:,0], X[:,1],c=predict)"
      ],
      "execution_count": 213,
      "outputs": [
        {
          "output_type": "execute_result",
          "data": {
            "text/plain": [
              "<matplotlib.collections.PathCollection at 0x7fc1978b52b0>"
            ]
          },
          "metadata": {
            "tags": []
          },
          "execution_count": 213
        },
        {
          "output_type": "display_data",
          "data": {
            "image/png": "[encoded data removed]",
            "text/plain": [
              "<Figure size 432x288 with 1 Axes>"
            ]
          },
          "metadata": {
            "tags": []
          }
        }
      ]
    },
    {
      "metadata": {
        "id": "xbgjLhrDnzNa",
        "colab_type": "code",
        "outputId": "1d6d456a-3807-4b62-de71-dd414a23a551",
        "colab": {
          "base_uri": "https://localhost:8080/",
          "height": 282
        }
      },
      "cell_type": "code",
      "source": [
        "dbscan = DBSCAN(eps=0.1, min_samples=10, metric='euclidean')\n",
        "predict = dbscan.fit_predict(X)\n",
        "plt.scatter(X[:,0], X[:,1],c=predict)"
      ],
      "execution_count": 216,
      "outputs": [
        {
          "output_type": "execute_result",
          "data": {
            "text/plain": [
              "<matplotlib.collections.PathCollection at 0x7fc1977c2c88>"
            ]
          },
          "metadata": {
            "tags": []
          },
          "execution_count": 216
        },
        {
          "output_type": "display_data",
          "data": {
            "image/png": "[encoded data removed]",
            "text/plain": [
              "<Figure size 432x288 with 1 Axes>"
            ]
          },
          "metadata": {
            "tags": []
          }
        }
      ]
    },
    {
      "metadata": {
        "id": "nhkWioRAp3om",
        "colab_type": "code",
        "colab": {
          "base_uri": "https://localhost:8080/",
          "height": 323
        },
        "outputId": "19476ab1-379c-4266-e65c-03cd713f75c6"
      },
      "cell_type": "code",
      "source": [
        "predict\n",
        "#-1 : 은 어느 그룹에도 속하지 못한 데이터를 의미함.= outlier"
      ],
      "execution_count": 217,
      "outputs": [
        {
          "output_type": "execute_result",
          "data": {
            "text/plain": [
              "array([-1, -1, -1,  4, -1, -1, -1, -1,  1, -1, -1, -1,  2, -1, -1, -1,  2,\n",
              "        0, -1,  7, -1, -1, -1, -1, -1,  2, -1, -1, -1, -1,  5, -1, -1,  7,\n",
              "       -1,  7, -1,  0,  1, -1, -1,  4, -1,  9, -1, -1,  3, -1,  1, -1,  0,\n",
              "       -1, -1,  2, -1, -1, -1, -1,  5, -1,  0, -1, -1,  8, -1, -1, -1, -1,\n",
              "        2,  7,  3,  3, -1, -1, -1, -1,  6,  6,  3, -1, -1,  8, -1,  7, -1,\n",
              "        4, -1,  7, -1, -1,  0, -1,  7, -1, -1, -1, -1,  4, -1,  8,  4,  5,\n",
              "       -1, -1,  0, -1, -1,  4,  4, -1, -1, -1, -1,  3,  2,  9,  3, -1,  1,\n",
              "        9,  6, -1,  5, -1,  0,  3, -1,  6, -1,  5,  5, -1,  1, -1,  8, -1,\n",
              "       -1,  6,  4, -1, -1,  2, -1, -1, -1, -1, -1,  9,  1, -1, -1,  0,  0,\n",
              "        4, -1,  8, -1, -1,  3,  4, -1, -1, -1,  4, -1, -1, -1, -1,  0,  1,\n",
              "        1, -1,  4, -1, -1, -1,  1, -1, -1, -1, -1, -1, -1, -1,  1,  1, -1,\n",
              "        3,  0, -1, -1, -1, -1, -1,  9, -1, -1, -1,  5,  3, -1,  5,  4, -1,\n",
              "        6, -1, -1,  2,  3,  0, -1, -1, -1, -1, -1, -1,  0, -1,  9, -1,  9,\n",
              "       -1, -1, -1, -1, -1,  3, -1,  2,  5,  1, -1, -1, -1, -1, -1, -1, -1,\n",
              "       -1,  7, -1,  7, -1, -1, -1, -1, -1,  7,  9, -1, -1, -1, -1, -1,  0,\n",
              "        2,  2, -1,  6, -1,  6,  6,  2,  0, -1, -1, -1, -1,  4,  8,  2, -1,\n",
              "        8,  3,  9, -1,  1,  4, -1, -1, -1,  5, -1, -1, -1, -1, -1, -1,  4,\n",
              "       -1,  6, -1, -1, -1, -1, -1, -1, -1,  9, -1])"
            ]
          },
          "metadata": {
            "tags": []
          },
          "execution_count": 217
        }
      ]
    },
    {
      "metadata": {
        "id": "EdrUoVMgnzNg",
        "colab_type": "code",
        "outputId": "f102b578-2209-49dc-b603-9a22724c634c",
        "colab": {
          "base_uri": "https://localhost:8080/",
          "height": 282
        }
      },
      "cell_type": "code",
      "source": [
        "dbscan = DBSCAN(eps=0.5, min_samples=10, metric='euclidean')\n",
        "predict = dbscan.fit_predict(X)\n",
        "plt.scatter(X[:,0], X[:,1],c=predict)"
      ],
      "execution_count": 215,
      "outputs": [
        {
          "output_type": "execute_result",
          "data": {
            "text/plain": [
              "<matplotlib.collections.PathCollection at 0x7fc197867e80>"
            ]
          },
          "metadata": {
            "tags": []
          },
          "execution_count": 215
        },
        {
          "output_type": "display_data",
          "data": {
            "image/png": "[encoded data removed]",
            "text/plain": [
              "<Figure size 432x288 with 1 Axes>"
            ]
          },
          "metadata": {
            "tags": []
          }
        }
      ]
    },
    {
      "metadata": {
        "id": "3qBg3xmNnzNm",
        "colab_type": "code",
        "outputId": "76530bdd-6ecf-4b5a-dbcd-f26e135c6e0c",
        "colab": {}
      },
      "cell_type": "code",
      "source": [
        "dbscan = DBSCAN(eps=0.2, min_samples=6, metric='euclidean')\n",
        "predict = dbscan.fit_predict(X)\n",
        "plt.scatter(X[:,0], X[:,1],c=predict)"
      ],
      "execution_count": 0,
      "outputs": [
        {
          "output_type": "execute_result",
          "data": {
            "text/plain": [
              "<matplotlib.collections.PathCollection at 0x1a0a88e278>"
            ]
          },
          "metadata": {
            "tags": []
          },
          "execution_count": 36
        },
        {
          "output_type": "display_data",
          "data": {
            "image/png": "[encoded data removed]",
            "text/plain": [
              "<Figure size 432x288 with 1 Axes>"
            ]
          },
          "metadata": {
            "tags": [],
            "image/png": {
              "height": 250,
              "width": 386
            },
            "needs_background": "light"
          }
        }
      ]
    },
    {
      "metadata": {
        "id": "PTNe6FoPnzNo",
        "colab_type": "code",
        "outputId": "78e5b7b0-9f96-481d-b581-e41b6583a0cb",
        "colab": {}
      },
      "cell_type": "code",
      "source": [
        "dbscan = DBSCAN(eps=0.2, min_samples=15, metric='euclidean')\n",
        "predict = dbscan.fit_predict(X)\n",
        "plt.scatter(X[:,0], X[:,1],c=predict)"
      ],
      "execution_count": 0,
      "outputs": [
        {
          "output_type": "execute_result",
          "data": {
            "text/plain": [
              "<matplotlib.collections.PathCollection at 0x1a09e54e80>"
            ]
          },
          "metadata": {
            "tags": []
          },
          "execution_count": 37
        },
        {
          "output_type": "display_data",
          "data": {
            "image/png": "[encoded data removed]",
            "text/plain": [
              "<Figure size 432x288 with 1 Axes>"
            ]
          },
          "metadata": {
            "tags": [],
            "image/png": {
              "height": 250,
              "width": 386
            },
            "needs_background": "light"
          }
        }
      ]
    }
  ]
}