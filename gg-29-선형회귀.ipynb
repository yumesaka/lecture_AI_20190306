{
  "nbformat": 4,
  "nbformat_minor": 0,
  "metadata": {
    "colab": {
      "name": "gg-29-선형회귀.ipynb",
      "version": "0.3.2",
      "provenance": []
    },
    "kernelspec": {
      "name": "python3",
      "display_name": "Python 3"
    },
    "accelerator": "GPU"
  },
  "cells": [
    {
      "metadata": {
        "id": "gtFubIIEBQ1s",
        "colab_type": "text"
      },
      "cell_type": "markdown",
      "source": [
        "선형회귀\n",
        "==\n",
        "다루는 내용\n",
        "--\n",
        "- 머신러닝 개념\n",
        "- 경사하강법"
      ]
    },
    {
      "metadata": {
        "id": "HdLn8NptBQ1u",
        "colab_type": "code",
        "colab": {
          "base_uri": "https://localhost:8080/",
          "height": 282
        },
        "outputId": "c8f65fdf-97f1-4f62-8796-74f29735c6d7"
      },
      "cell_type": "code",
      "source": [
        "import numpy as np\n",
        "import pandas as pd\n",
        "import matplotlib.pyplot as plt\n",
        "%matplotlib inline\n",
        "\n",
        "n_samples = 200\n",
        "x = np.random.randn(n_samples)\n",
        "\n",
        "# 계수 및 절편\n",
        "w = 2\n",
        "b = 3\n",
        "# 노이지 \n",
        "y = w*x + b +  1 * np.random.randn(n_samples)\n",
        "plt.scatter(x,y, s=10)"
      ],
      "execution_count": 52,
      "outputs": [
        {
          "output_type": "execute_result",
          "data": {
            "text/plain": [
              "<matplotlib.collections.PathCollection at 0x7f1300397748>"
            ]
          },
          "metadata": {
            "tags": []
          },
          "execution_count": 52
        },
        {
          "output_type": "display_data",
          "data": {
            "image/png": "[encoded data removed]",
            "text/plain": [
              "<Figure size 432x288 with 1 Axes>"
            ]
          },
          "metadata": {
            "tags": []
          }
        }
      ]
    },
    {
      "metadata": {
        "id": "HoUMbzc1BQ10",
        "colab_type": "code",
        "colab": {
          "base_uri": "https://localhost:8080/",
          "height": 51
        },
        "outputId": "6810db39-1b35-487d-9a9b-15b3b7706df3"
      },
      "cell_type": "code",
      "source": [
        "#상관관계 \n",
        "np.corrcoef(x,y)"
      ],
      "execution_count": 53,
      "outputs": [
        {
          "output_type": "execute_result",
          "data": {
            "text/plain": [
              "array([[1.        , 0.88621839],\n",
              "       [0.88621839, 1.        ]])"
            ]
          },
          "metadata": {
            "tags": []
          },
          "execution_count": 53
        }
      ]
    },
    {
      "metadata": {
        "id": "LvvK7WD3BQ13",
        "colab_type": "code",
        "colab": {
          "base_uri": "https://localhost:8080/",
          "height": 51
        },
        "outputId": "aee7256f-f89e-467d-ae64-319d2b4c2df3"
      },
      "cell_type": "code",
      "source": [
        "from sklearn.linear_model import LinearRegression\n",
        "leg = LinearRegression()\n",
        "leg.fit(x.reshape(-1,1), y)\n",
        "\n",
        "print(leg.coef_)\n",
        "print(leg.intercept_)"
      ],
      "execution_count": 54,
      "outputs": [
        {
          "output_type": "stream",
          "text": [
            "[2.09992205]\n",
            "2.9964324772795603\n"
          ],
          "name": "stdout"
        }
      ]
    },
    {
      "metadata": {
        "id": "Td9eEv-AByvW",
        "colab_type": "code",
        "colab": {
          "base_uri": "https://localhost:8080/",
          "height": 34
        },
        "outputId": "a5aee29f-e9fc-45f0-a08a-c4f0c8dbce85"
      },
      "cell_type": "code",
      "source": [
        "x.reshape(-1,1).shape"
      ],
      "execution_count": 55,
      "outputs": [
        {
          "output_type": "execute_result",
          "data": {
            "text/plain": [
              "(200, 1)"
            ]
          },
          "metadata": {
            "tags": []
          },
          "execution_count": 55
        }
      ]
    },
    {
      "metadata": {
        "id": "HqTnji8WeSez",
        "colab_type": "code",
        "colab": {
          "base_uri": "https://localhost:8080/",
          "height": 34
        },
        "outputId": "07ca2e87-c65b-4711-9ada-c3c1b194c75f"
      },
      "cell_type": "code",
      "source": [
        "#R-squre 값을 표현\n",
        "leg.score(x.reshape(-1,1),y)"
      ],
      "execution_count": 56,
      "outputs": [
        {
          "output_type": "execute_result",
          "data": {
            "text/plain": [
              "0.785383033764713"
            ]
          },
          "metadata": {
            "tags": []
          },
          "execution_count": 56
        }
      ]
    },
    {
      "metadata": {
        "id": "QvPy30hgBQ16",
        "colab_type": "text"
      },
      "cell_type": "markdown",
      "source": [
        "변수가 2개인 경우\n",
        "--"
      ]
    },
    {
      "metadata": {
        "id": "of298xJhBQ17",
        "colab_type": "code",
        "colab": {
          "base_uri": "https://localhost:8080/",
          "height": 51
        },
        "outputId": "b9a57855-c236-44fd-c4b5-3b71b3359f66"
      },
      "cell_type": "code",
      "source": [
        "n_samples = 200\n",
        "x1 = np.random.randn(n_samples)\n",
        "x2 = np.random.randn(n_samples)\n",
        "\n",
        "y = 2000 * x1 + 3 * x2 + 4 + np.random.randn(n_samples)\n",
        "\n",
        "leg = LinearRegression()\n",
        "X = pd.DataFrame({'x1':x1, 'x2':x2})\n",
        "leg.fit(X, y)\n",
        "\n",
        "print(leg.coef_)\n",
        "print(leg.intercept_)"
      ],
      "execution_count": 44,
      "outputs": [
        {
          "output_type": "stream",
          "text": [
            "[1999.94816574    3.11082754]\n",
            "3.9240967042477877\n"
          ],
          "name": "stdout"
        }
      ]
    },
    {
      "metadata": {
        "id": "yFg2aDblBQ1-",
        "colab_type": "code",
        "colab": {
          "base_uri": "https://localhost:8080/",
          "height": 34
        },
        "outputId": "d5275a04-ac5a-4fcd-dd54-1501c4eb53dd"
      },
      "cell_type": "code",
      "source": [
        "#R-squre 값을 표현\n",
        "leg.score(X,y)"
      ],
      "execution_count": 43,
      "outputs": [
        {
          "output_type": "execute_result",
          "data": {
            "text/plain": [
              "0.9999974279797913"
            ]
          },
          "metadata": {
            "tags": []
          },
          "execution_count": 43
        }
      ]
    },
    {
      "metadata": {
        "id": "_juQ0-PvBQ2B",
        "colab_type": "text"
      },
      "cell_type": "markdown",
      "source": [
        "경사하강법\n",
        "--"
      ]
    },
    {
      "metadata": {
        "scrolled": false,
        "id": "SU_SiGDMBQ2C",
        "colab_type": "code",
        "colab": {
          "base_uri": "https://localhost:8080/",
          "height": 187
        },
        "outputId": "cca25b04-9cf8-4575-a085-c8fc11a5a6b6"
      },
      "cell_type": "code",
      "source": [
        "num_epoch = 10\n",
        "lr = 1\n",
        "\n",
        "w1 = np.random.uniform()\n",
        "w2 = np.random.uniform()\n",
        "b = np.random.uniform()\n",
        "\n",
        "for epoch in range(num_epoch):\n",
        "    y_pred = w1*x1 + w2*x2 + b\n",
        "    error = np.abs(y_pred - y).mean()\n",
        "    print(f\"{epoch:2} w1 = {w1:.6f},  w2 = {w2:.6f}, b = {b:.6f} , error = {error:.6f}\")\n",
        "\n",
        "    w1 = w1 - lr*((y_pred - y)* x1).mean()\n",
        "    w2 = w2 - lr*((y_pred - y)* x2).mean()\n",
        "    b = b - lr*((y_pred - y)).mean()"
      ],
      "execution_count": 28,
      "outputs": [
        {
          "output_type": "stream",
          "text": [
            " 0 w1 = 0.348532,  w2 = 0.833372, b = 0.886042 , error = 1685.597884\n",
            " 1 w1 = 2193.346902,  w2 = 210.908954, b = -156.304176 , error = 270.694881\n",
            " 2 w1 = 1946.901677,  w2 = -0.536264, b = 10.060350 , error = 45.577560\n",
            " 3 w1 = 2006.070690,  w2 = 7.937034, b = -0.015997 , error = 7.506272\n",
            " 4 w1 = 1998.661245,  w2 = 2.626244, b = 4.343936 , error = 1.435929\n",
            " 5 w1 = 2000.279816,  w2 = 2.957605, b = 3.992972 , error = 0.804281\n",
            " 6 w1 = 2000.060727,  w2 = 2.820272, b = 4.107669 , error = 0.788845\n",
            " 7 w1 = 2000.105395,  w2 = 2.831610, b = 4.096388 , error = 0.783511\n",
            " 8 w1 = 2000.098993,  w2 = 2.827992, b = 4.099452 , error = 0.784147\n",
            " 9 w1 = 2000.100234,  w2 = 2.828355, b = 4.099104 , error = 0.784030\n"
          ],
          "name": "stdout"
        }
      ]
    },
    {
      "metadata": {
        "id": "_03cw8TFBQ2G",
        "colab_type": "code",
        "colab": {
          "base_uri": "https://localhost:8080/",
          "height": 34
        },
        "outputId": "9de63926-9257-497c-8679-e2c8aec0d3d7"
      },
      "cell_type": "code",
      "source": [
        "leg.score(X,y)"
      ],
      "execution_count": 20,
      "outputs": [
        {
          "output_type": "execute_result",
          "data": {
            "text/plain": [
              "0.9319046467619889"
            ]
          },
          "metadata": {
            "tags": []
          },
          "execution_count": 20
        }
      ]
    },
    {
      "metadata": {
        "id": "atS0uWypBQ2J",
        "colab_type": "code",
        "colab": {}
      },
      "cell_type": "code",
      "source": [
        ""
      ],
      "execution_count": 0,
      "outputs": []
    },
    {
      "metadata": {
        "id": "qjYhKjmGBQ2O",
        "colab_type": "code",
        "colab": {}
      },
      "cell_type": "code",
      "source": [
        ""
      ],
      "execution_count": 0,
      "outputs": []
    }
  ]
}