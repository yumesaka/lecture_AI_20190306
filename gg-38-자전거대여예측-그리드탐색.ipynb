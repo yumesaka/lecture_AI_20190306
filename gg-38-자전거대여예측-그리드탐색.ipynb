{
  "nbformat": 4,
  "nbformat_minor": 0,
  "metadata": {
    "colab": {
      "name": "g-17-자전거대여예측-1.ipynb",
      "version": "0.3.2",
      "provenance": [],
      "toc_visible": true
    },
    "kernelspec": {
      "display_name": "Python 3",
      "language": "python",
      "name": "python3"
    },
    "accelerator": "GPU"
  },
  "cells": [
    {
      "metadata": {
        "colab_type": "text",
        "id": "z3sm3tO66_ul"
      },
      "cell_type": "markdown",
      "source": [
        "## colab에서 실행\n",
        "\n",
        "## 데이터 https://goo.gl/s8qSL5"
      ]
    },
    {
      "metadata": {
        "colab_type": "code",
        "id": "8pvv5VcZ6_un",
        "colab": {}
      },
      "cell_type": "code",
      "source": [
        "import numpy as np\n",
        "import pandas as pd\n",
        "import seaborn as sns\n",
        "import matplotlib.pyplot as plt\n",
        "from sklearn.ensemble import RandomForestRegressor\n",
        "from sklearn.linear_model import LinearRegression\n",
        "from sklearn.tree import DecisionTreeRegressor\n",
        "from sklearn import svm\n",
        "from sklearn.model_selection import cross_val_score, train_test_split\n",
        "from sklearn.metrics import make_scorer\n",
        "%matplotlib inline"
      ],
      "execution_count": 0,
      "outputs": []
    },
    {
      "metadata": {
        "id": "ucsKpGHOwzgD",
        "colab_type": "text"
      },
      "cell_type": "markdown",
      "source": [
        "## colab에서 실행하는 경우 필요한 코드"
      ]
    },
    {
      "metadata": {
        "colab_type": "code",
        "id": "8Czy7G2I7DnQ",
        "outputId": "9c1154ac-e3ec-48e0-f164-a9a7d5929627",
        "colab": {
          "base_uri": "https://localhost:8080/",
          "height": 462
        }
      },
      "cell_type": "code",
      "source": [
        "import os, os.path, shutil\n",
        "if not os.path.exists(\"./data\"):\n",
        "    os.makedirs(\"./data\")\n",
        "#     https://www.dropbox.com/s/x7igxpgnq669l7y/bike_train.csv\n",
        "!wget https://goo.gl/s8qSL5  -O ./data/bike_train.csv"
      ],
      "execution_count": 2,
      "outputs": [
        {
          "output_type": "stream",
          "text": [
            "--2019-03-08 00:48:11--  https://goo.gl/s8qSL5\n",
            "Resolving goo.gl (goo.gl)... 74.125.206.100, 74.125.206.113, 74.125.206.102, ...\n",
            "Connecting to goo.gl (goo.gl)|74.125.206.100|:443... connected.\n",
            "HTTP request sent, awaiting response... 302 Found\n",
            "Location: https://www.dropbox.com/s/x7igxpgnq669l7y/bike_train.csv [following]\n",
            "--2019-03-08 00:48:11--  https://www.dropbox.com/s/x7igxpgnq669l7y/bike_train.csv\n",
            "Resolving www.dropbox.com (www.dropbox.com)... 162.125.65.1, 2620:100:6021:1::a27d:4101\n",
            "Connecting to www.dropbox.com (www.dropbox.com)|162.125.65.1|:443... connected.\n",
            "HTTP request sent, awaiting response... 301 Moved Permanently\n",
            "Location: /s/raw/x7igxpgnq669l7y/bike_train.csv [following]\n",
            "--2019-03-08 00:48:12--  https://www.dropbox.com/s/raw/x7igxpgnq669l7y/bike_train.csv\n",
            "Reusing existing connection to www.dropbox.com:443.\n",
            "HTTP request sent, awaiting response... 302 Found\n",
            "Location: https://ucb0739e2d02915d0355af88a23a.dl.dropboxusercontent.com/cd/0/inline/Acp28EI1nSVd30psQ_aabDqfdQ5cZn5m0XHTeh4WQDOiXU4YOAtsvYs6NY26l9P1HPf8KlH_2YGAXFW2txKqiJSLRGbli6jzVRuqJBbwxzn-V4WfURSjr2QFi0kJ13sV9w0/file# [following]\n",
            "--2019-03-08 00:48:12--  https://ucb0739e2d02915d0355af88a23a.dl.dropboxusercontent.com/cd/0/inline/Acp28EI1nSVd30psQ_aabDqfdQ5cZn5m0XHTeh4WQDOiXU4YOAtsvYs6NY26l9P1HPf8KlH_2YGAXFW2txKqiJSLRGbli6jzVRuqJBbwxzn-V4WfURSjr2QFi0kJ13sV9w0/file\n",
            "Resolving ucb0739e2d02915d0355af88a23a.dl.dropboxusercontent.com (ucb0739e2d02915d0355af88a23a.dl.dropboxusercontent.com)... 162.125.65.6, 2620:100:6021:6::a27d:4106\n",
            "Connecting to ucb0739e2d02915d0355af88a23a.dl.dropboxusercontent.com (ucb0739e2d02915d0355af88a23a.dl.dropboxusercontent.com)|162.125.65.6|:443... connected.\n",
            "HTTP request sent, awaiting response... 200 OK\n",
            "Length: 659240 (644K) [text/plain]\n",
            "Saving to: ‘./data/bike_train.csv’\n",
            "\n",
            "./data/bike_train.c 100%[===================>] 643.79K  1.17MB/s    in 0.5s    \n",
            "\n",
            "2019-03-08 00:48:13 (1.17 MB/s) - ‘./data/bike_train.csv’ saved [659240/659240]\n",
            "\n"
          ],
          "name": "stdout"
        }
      ]
    },
    {
      "metadata": {
        "colab_type": "code",
        "id": "zP5_9eom6_ur",
        "outputId": "556a3d2e-715b-43a6-8c0e-25694eff5984",
        "colab": {
          "base_uri": "https://localhost:8080/",
          "height": 204
        }
      },
      "cell_type": "code",
      "source": [
        "train = pd.read_csv(\"data/bike_train.csv\", parse_dates=[\"datetime\"])\n",
        "train.head()"
      ],
      "execution_count": 3,
      "outputs": [
        {
          "output_type": "execute_result",
          "data": {
            "text/html": [
              "<div>\n",
              "<style scoped>\n",
              "    .dataframe tbody tr th:only-of-type {\n",
              "        vertical-align: middle;\n",
              "    }\n",
              "\n",
              "    .dataframe tbody tr th {\n",
              "        vertical-align: top;\n",
              "    }\n",
              "\n",
              "    .dataframe thead th {\n",
              "        text-align: right;\n",
              "    }\n",
              "</style>\n",
              "<table border=\"1\" class=\"dataframe\">\n",
              "  <thead>\n",
              "    <tr style=\"text-align: right;\">\n",
              "      <th></th>\n",
              "      <th>datetime</th>\n",
              "      <th>season</th>\n",
              "      <th>holiday</th>\n",
              "      <th>workingday</th>\n",
              "      <th>weather</th>\n",
              "      <th>temp</th>\n",
              "      <th>atemp</th>\n",
              "      <th>humidity</th>\n",
              "      <th>windspeed</th>\n",
              "      <th>casual</th>\n",
              "      <th>registered</th>\n",
              "      <th>count</th>\n",
              "    </tr>\n",
              "  </thead>\n",
              "  <tbody>\n",
              "    <tr>\n",
              "      <th>0</th>\n",
              "      <td>2011-01-01 00:00:00</td>\n",
              "      <td>1</td>\n",
              "      <td>0</td>\n",
              "      <td>0</td>\n",
              "      <td>1</td>\n",
              "      <td>9.84</td>\n",
              "      <td>14.395</td>\n",
              "      <td>81</td>\n",
              "      <td>0.0</td>\n",
              "      <td>3</td>\n",
              "      <td>13</td>\n",
              "      <td>16</td>\n",
              "    </tr>\n",
              "    <tr>\n",
              "      <th>1</th>\n",
              "      <td>2011-01-01 01:00:00</td>\n",
              "      <td>1</td>\n",
              "      <td>0</td>\n",
              "      <td>0</td>\n",
              "      <td>1</td>\n",
              "      <td>9.02</td>\n",
              "      <td>13.635</td>\n",
              "      <td>80</td>\n",
              "      <td>0.0</td>\n",
              "      <td>8</td>\n",
              "      <td>32</td>\n",
              "      <td>40</td>\n",
              "    </tr>\n",
              "    <tr>\n",
              "      <th>2</th>\n",
              "      <td>2011-01-01 02:00:00</td>\n",
              "      <td>1</td>\n",
              "      <td>0</td>\n",
              "      <td>0</td>\n",
              "      <td>1</td>\n",
              "      <td>9.02</td>\n",
              "      <td>13.635</td>\n",
              "      <td>80</td>\n",
              "      <td>0.0</td>\n",
              "      <td>5</td>\n",
              "      <td>27</td>\n",
              "      <td>32</td>\n",
              "    </tr>\n",
              "    <tr>\n",
              "      <th>3</th>\n",
              "      <td>2011-01-01 03:00:00</td>\n",
              "      <td>1</td>\n",
              "      <td>0</td>\n",
              "      <td>0</td>\n",
              "      <td>1</td>\n",
              "      <td>9.84</td>\n",
              "      <td>14.395</td>\n",
              "      <td>75</td>\n",
              "      <td>0.0</td>\n",
              "      <td>3</td>\n",
              "      <td>10</td>\n",
              "      <td>13</td>\n",
              "    </tr>\n",
              "    <tr>\n",
              "      <th>4</th>\n",
              "      <td>2011-01-01 04:00:00</td>\n",
              "      <td>1</td>\n",
              "      <td>0</td>\n",
              "      <td>0</td>\n",
              "      <td>1</td>\n",
              "      <td>9.84</td>\n",
              "      <td>14.395</td>\n",
              "      <td>75</td>\n",
              "      <td>0.0</td>\n",
              "      <td>0</td>\n",
              "      <td>1</td>\n",
              "      <td>1</td>\n",
              "    </tr>\n",
              "  </tbody>\n",
              "</table>\n",
              "</div>"
            ],
            "text/plain": [
              "             datetime  season  holiday  workingday  weather  temp   atemp  \\\n",
              "0 2011-01-01 00:00:00       1        0           0        1  9.84  14.395   \n",
              "1 2011-01-01 01:00:00       1        0           0        1  9.02  13.635   \n",
              "2 2011-01-01 02:00:00       1        0           0        1  9.02  13.635   \n",
              "3 2011-01-01 03:00:00       1        0           0        1  9.84  14.395   \n",
              "4 2011-01-01 04:00:00       1        0           0        1  9.84  14.395   \n",
              "\n",
              "   humidity  windspeed  casual  registered  count  \n",
              "0        81        0.0       3          13     16  \n",
              "1        80        0.0       8          32     40  \n",
              "2        80        0.0       5          27     32  \n",
              "3        75        0.0       3          10     13  \n",
              "4        75        0.0       0           1      1  "
            ]
          },
          "metadata": {
            "tags": []
          },
          "execution_count": 3
        }
      ]
    },
    {
      "metadata": {
        "colab_type": "code",
        "id": "RpDVzVSo6_ux",
        "outputId": "b2f196cc-eefd-4ec7-8d04-0583a9a7abad",
        "colab": {
          "base_uri": "https://localhost:8080/",
          "height": 306
        }
      },
      "cell_type": "code",
      "source": [
        "train.info()"
      ],
      "execution_count": 4,
      "outputs": [
        {
          "output_type": "stream",
          "text": [
            "<class 'pandas.core.frame.DataFrame'>\n",
            "RangeIndex: 10886 entries, 0 to 10885\n",
            "Data columns (total 12 columns):\n",
            "datetime      10886 non-null datetime64[ns]\n",
            "season        10886 non-null int64\n",
            "holiday       10886 non-null int64\n",
            "workingday    10886 non-null int64\n",
            "weather       10886 non-null int64\n",
            "temp          10886 non-null float64\n",
            "atemp         10886 non-null float64\n",
            "humidity      10886 non-null int64\n",
            "windspeed     10886 non-null float64\n",
            "casual        10886 non-null int64\n",
            "registered    10886 non-null int64\n",
            "count         10886 non-null int64\n",
            "dtypes: datetime64[ns](1), float64(3), int64(8)\n",
            "memory usage: 1020.6 KB\n"
          ],
          "name": "stdout"
        }
      ]
    },
    {
      "metadata": {
        "colab_type": "text",
        "id": "w9f22Ah36_u0"
      },
      "cell_type": "markdown",
      "source": [
        "## datetime 데이터 분해"
      ]
    },
    {
      "metadata": {
        "colab_type": "code",
        "id": "GMMzNEvZ6_u2",
        "outputId": "4da45865-9e55-43c3-8778-8fe1b768cee0",
        "colab": {
          "base_uri": "https://localhost:8080/",
          "height": 204
        }
      },
      "cell_type": "code",
      "source": [
        "train[\"d-year\"] = train[\"datetime\"].dt.year\n",
        "train[\"d-month\"] = train[\"datetime\"].dt.month\n",
        "train[\"d-day\"] = train[\"datetime\"].dt.day\n",
        "train[\"d-hour\"] = train[\"datetime\"].dt.hour\n",
        "train[\"d-minute\"] = train[\"datetime\"].dt.minute\n",
        "train[\"d-second\"] = train[\"datetime\"].dt.second\n",
        "\n",
        "train[[\"datetime\", \"d-year\", \"d-month\", \"d-day\", \"d-hour\", \"d-minute\", \"d-second\"]].head()"
      ],
      "execution_count": 5,
      "outputs": [
        {
          "output_type": "execute_result",
          "data": {
            "text/html": [
              "<div>\n",
              "<style scoped>\n",
              "    .dataframe tbody tr th:only-of-type {\n",
              "        vertical-align: middle;\n",
              "    }\n",
              "\n",
              "    .dataframe tbody tr th {\n",
              "        vertical-align: top;\n",
              "    }\n",
              "\n",
              "    .dataframe thead th {\n",
              "        text-align: right;\n",
              "    }\n",
              "</style>\n",
              "<table border=\"1\" class=\"dataframe\">\n",
              "  <thead>\n",
              "    <tr style=\"text-align: right;\">\n",
              "      <th></th>\n",
              "      <th>datetime</th>\n",
              "      <th>d-year</th>\n",
              "      <th>d-month</th>\n",
              "      <th>d-day</th>\n",
              "      <th>d-hour</th>\n",
              "      <th>d-minute</th>\n",
              "      <th>d-second</th>\n",
              "    </tr>\n",
              "  </thead>\n",
              "  <tbody>\n",
              "    <tr>\n",
              "      <th>0</th>\n",
              "      <td>2011-01-01 00:00:00</td>\n",
              "      <td>2011</td>\n",
              "      <td>1</td>\n",
              "      <td>1</td>\n",
              "      <td>0</td>\n",
              "      <td>0</td>\n",
              "      <td>0</td>\n",
              "    </tr>\n",
              "    <tr>\n",
              "      <th>1</th>\n",
              "      <td>2011-01-01 01:00:00</td>\n",
              "      <td>2011</td>\n",
              "      <td>1</td>\n",
              "      <td>1</td>\n",
              "      <td>1</td>\n",
              "      <td>0</td>\n",
              "      <td>0</td>\n",
              "    </tr>\n",
              "    <tr>\n",
              "      <th>2</th>\n",
              "      <td>2011-01-01 02:00:00</td>\n",
              "      <td>2011</td>\n",
              "      <td>1</td>\n",
              "      <td>1</td>\n",
              "      <td>2</td>\n",
              "      <td>0</td>\n",
              "      <td>0</td>\n",
              "    </tr>\n",
              "    <tr>\n",
              "      <th>3</th>\n",
              "      <td>2011-01-01 03:00:00</td>\n",
              "      <td>2011</td>\n",
              "      <td>1</td>\n",
              "      <td>1</td>\n",
              "      <td>3</td>\n",
              "      <td>0</td>\n",
              "      <td>0</td>\n",
              "    </tr>\n",
              "    <tr>\n",
              "      <th>4</th>\n",
              "      <td>2011-01-01 04:00:00</td>\n",
              "      <td>2011</td>\n",
              "      <td>1</td>\n",
              "      <td>1</td>\n",
              "      <td>4</td>\n",
              "      <td>0</td>\n",
              "      <td>0</td>\n",
              "    </tr>\n",
              "  </tbody>\n",
              "</table>\n",
              "</div>"
            ],
            "text/plain": [
              "             datetime  d-year  d-month  d-day  d-hour  d-minute  d-second\n",
              "0 2011-01-01 00:00:00    2011        1      1       0         0         0\n",
              "1 2011-01-01 01:00:00    2011        1      1       1         0         0\n",
              "2 2011-01-01 02:00:00    2011        1      1       2         0         0\n",
              "3 2011-01-01 03:00:00    2011        1      1       3         0         0\n",
              "4 2011-01-01 04:00:00    2011        1      1       4         0         0"
            ]
          },
          "metadata": {
            "tags": []
          },
          "execution_count": 5
        }
      ]
    },
    {
      "metadata": {
        "colab_type": "code",
        "id": "-7aRyOMs6_u6",
        "outputId": "8b211f04-ea82-4259-f59e-7d0e31f4db72",
        "scrolled": true,
        "colab": {
          "base_uri": "https://localhost:8080/",
          "height": 439
        }
      },
      "cell_type": "code",
      "source": [
        "figure, ((ax1, ax2), (ax3, ax4)) = plt.subplots(nrows=2, ncols=2)\n",
        "figure.set_size_inches(12, 6)\n",
        "\n",
        "sns.barplot(data=train, x=\"d-year\", y=\"count\", ax=ax1)\n",
        "sns.barplot(data=train, x=\"d-month\", y=\"count\", ax=ax2)\n",
        "sns.barplot(data=train, x=\"d-day\", y=\"count\", ax=ax3)\n",
        "sns.barplot(data=train, x=\"d-hour\", y=\"count\", ax=ax4)"
      ],
      "execution_count": 6,
      "outputs": [
        {
          "output_type": "stream",
          "text": [
            "/usr/local/lib/python3.6/dist-packages/seaborn/categorical.py:1428: FutureWarning: remove_na is deprecated and is a private function. Do not use.\n",
            "  stat_data = remove_na(group_data)\n"
          ],
          "name": "stderr"
        },
        {
          "output_type": "execute_result",
          "data": {
            "text/plain": [
              "<matplotlib.axes._subplots.AxesSubplot at 0x7fcbe4bf92b0>"
            ]
          },
          "metadata": {
            "tags": []
          },
          "execution_count": 6
        },
        {
          "output_type": "display_data",
          "data": {
            "image/png": "[encoded data removed]",
            "text/plain": [
              "<Figure size 864x432 with 4 Axes>"
            ]
          },
          "metadata": {
            "tags": []
          }
        }
      ]
    },
    {
      "metadata": {
        "colab_type": "text",
        "id": "VkaLS0mH6_u9"
      },
      "cell_type": "markdown",
      "source": [
        "## 시간대별 평균 대여수 (주중, 주말 구분)"
      ]
    },
    {
      "metadata": {
        "colab_type": "code",
        "id": "YSlHZAMd6_u-",
        "outputId": "9f28e93c-ec05-4198-d8f9-f7989ebbe465",
        "colab": {
          "base_uri": "https://localhost:8080/",
          "height": 330
        }
      },
      "cell_type": "code",
      "source": [
        "plt.figure(figsize=(12,4))\n",
        "sns.pointplot(data=train, x=\"d-hour\", y=\"count\", hue=\"workingday\")"
      ],
      "execution_count": 7,
      "outputs": [
        {
          "output_type": "stream",
          "text": [
            "/usr/local/lib/python3.6/dist-packages/seaborn/categorical.py:1468: FutureWarning: remove_na is deprecated and is a private function. Do not use.\n",
            "  stat_data = remove_na(group_data[hue_mask])\n"
          ],
          "name": "stderr"
        },
        {
          "output_type": "execute_result",
          "data": {
            "text/plain": [
              "<matplotlib.axes._subplots.AxesSubplot at 0x7fcbe9555a90>"
            ]
          },
          "metadata": {
            "tags": []
          },
          "execution_count": 7
        },
        {
          "output_type": "display_data",
          "data": {
            "image/png": "[encoded data removed]",
            "text/plain": [
              "<Figure size 864x288 with 1 Axes>"
            ]
          },
          "metadata": {
            "tags": []
          }
        }
      ]
    },
    {
      "metadata": {
        "id": "Z6QvjSTezs-5",
        "colab_type": "code",
        "colab": {
          "base_uri": "https://localhost:8080/",
          "height": 330
        },
        "outputId": "c54d2e2f-b6e0-4dcd-d86a-8274b2511c1b"
      },
      "cell_type": "code",
      "source": [
        "plt.figure(figsize=(12,4))\n",
        "sns.pointplot(data=train, x=\"d-hour\", y=\"count\", hue=\"weather\")"
      ],
      "execution_count": 9,
      "outputs": [
        {
          "output_type": "stream",
          "text": [
            "/usr/local/lib/python3.6/dist-packages/seaborn/categorical.py:1468: FutureWarning: remove_na is deprecated and is a private function. Do not use.\n",
            "  stat_data = remove_na(group_data[hue_mask])\n"
          ],
          "name": "stderr"
        },
        {
          "output_type": "execute_result",
          "data": {
            "text/plain": [
              "<matplotlib.axes._subplots.AxesSubplot at 0x7fcbe297a2b0>"
            ]
          },
          "metadata": {
            "tags": []
          },
          "execution_count": 9
        },
        {
          "output_type": "display_data",
          "data": {
            "image/png": "[encoded data removed]",
            "text/plain": [
              "<Figure size 864x288 with 1 Axes>"
            ]
          },
          "metadata": {
            "tags": []
          }
        }
      ]
    },
    {
      "metadata": {
        "colab_type": "text",
        "id": "SVydGWER6_vB"
      },
      "cell_type": "markdown",
      "source": [
        "## 시간대별 대여수 - 요일 구분"
      ]
    },
    {
      "metadata": {
        "colab_type": "code",
        "id": "d7PJftHE6_vC",
        "outputId": "07db3e93-7151-4a4e-fbfb-b4563d73ee1d",
        "colab": {
          "base_uri": "https://localhost:8080/",
          "height": 221
        }
      },
      "cell_type": "code",
      "source": [
        "train[\"d-dayofweek\"] = train[\"datetime\"].dt.dayofweek\n",
        "\n",
        "print(train.shape)\n",
        "train[[\"datetime\", \"d-dayofweek\"]].head()"
      ],
      "execution_count": 11,
      "outputs": [
        {
          "output_type": "stream",
          "text": [
            "(10886, 19)\n"
          ],
          "name": "stdout"
        },
        {
          "output_type": "execute_result",
          "data": {
            "text/html": [
              "<div>\n",
              "<style scoped>\n",
              "    .dataframe tbody tr th:only-of-type {\n",
              "        vertical-align: middle;\n",
              "    }\n",
              "\n",
              "    .dataframe tbody tr th {\n",
              "        vertical-align: top;\n",
              "    }\n",
              "\n",
              "    .dataframe thead th {\n",
              "        text-align: right;\n",
              "    }\n",
              "</style>\n",
              "<table border=\"1\" class=\"dataframe\">\n",
              "  <thead>\n",
              "    <tr style=\"text-align: right;\">\n",
              "      <th></th>\n",
              "      <th>datetime</th>\n",
              "      <th>d-dayofweek</th>\n",
              "    </tr>\n",
              "  </thead>\n",
              "  <tbody>\n",
              "    <tr>\n",
              "      <th>0</th>\n",
              "      <td>2011-01-01 00:00:00</td>\n",
              "      <td>5</td>\n",
              "    </tr>\n",
              "    <tr>\n",
              "      <th>1</th>\n",
              "      <td>2011-01-01 01:00:00</td>\n",
              "      <td>5</td>\n",
              "    </tr>\n",
              "    <tr>\n",
              "      <th>2</th>\n",
              "      <td>2011-01-01 02:00:00</td>\n",
              "      <td>5</td>\n",
              "    </tr>\n",
              "    <tr>\n",
              "      <th>3</th>\n",
              "      <td>2011-01-01 03:00:00</td>\n",
              "      <td>5</td>\n",
              "    </tr>\n",
              "    <tr>\n",
              "      <th>4</th>\n",
              "      <td>2011-01-01 04:00:00</td>\n",
              "      <td>5</td>\n",
              "    </tr>\n",
              "  </tbody>\n",
              "</table>\n",
              "</div>"
            ],
            "text/plain": [
              "             datetime  d-dayofweek\n",
              "0 2011-01-01 00:00:00            5\n",
              "1 2011-01-01 01:00:00            5\n",
              "2 2011-01-01 02:00:00            5\n",
              "3 2011-01-01 03:00:00            5\n",
              "4 2011-01-01 04:00:00            5"
            ]
          },
          "metadata": {
            "tags": []
          },
          "execution_count": 11
        }
      ]
    },
    {
      "metadata": {
        "colab_type": "code",
        "id": "U7Mmk7j-6_vF",
        "outputId": "ac10d841-fa9b-4099-df60-bb160ebc3b66",
        "colab": {
          "base_uri": "https://localhost:8080/",
          "height": 548
        }
      },
      "cell_type": "code",
      "source": [
        "figure, (ax1, ax2) = plt.subplots(nrows=2, ncols=1)\n",
        "figure.set_size_inches(18, 8)\n",
        "\n",
        "sns.pointplot(data=train, x=\"d-hour\", y=\"count\", hue=\"workingday\", ax=ax1)\n",
        "sns.pointplot(data=train, x=\"d-hour\", y=\"count\", hue=\"d-dayofweek\", ax=ax2)"
      ],
      "execution_count": 12,
      "outputs": [
        {
          "output_type": "stream",
          "text": [
            "/usr/local/lib/python3.6/dist-packages/seaborn/categorical.py:1468: FutureWarning: remove_na is deprecated and is a private function. Do not use.\n",
            "  stat_data = remove_na(group_data[hue_mask])\n"
          ],
          "name": "stderr"
        },
        {
          "output_type": "execute_result",
          "data": {
            "text/plain": [
              "<matplotlib.axes._subplots.AxesSubplot at 0x7fcbe2567128>"
            ]
          },
          "metadata": {
            "tags": []
          },
          "execution_count": 12
        },
        {
          "output_type": "display_data",
          "data": {
            "image/png": "[encoded data removed]",
            "text/plain": [
              "<Figure size 1296x576 with 2 Axes>"
            ]
          },
          "metadata": {
            "tags": []
          }
        }
      ]
    },
    {
      "metadata": {
        "colab_type": "text",
        "id": "ygGV3bOS6_vI"
      },
      "cell_type": "markdown",
      "source": [
        "## 연도와 월을 합한 특성 변수 생성"
      ]
    },
    {
      "metadata": {
        "colab_type": "code",
        "id": "QDR3zmN96_vJ",
        "outputId": "aa3a4814-c258-4f92-f152-ce4a3e3f363d",
        "colab": {
          "base_uri": "https://localhost:8080/",
          "height": 221
        }
      },
      "cell_type": "code",
      "source": [
        "def concatenate_year_month(datetime):\n",
        "    return \"{0}-{1}\".format(datetime.year, datetime.month)\n",
        "\n",
        "train[\"d-year_month\"] = train[\"datetime\"].apply(concatenate_year_month)\n",
        "\n",
        "print(train.shape)\n",
        "train[[\"datetime\", \"d-year_month\"]].head()"
      ],
      "execution_count": 13,
      "outputs": [
        {
          "output_type": "stream",
          "text": [
            "(10886, 20)\n"
          ],
          "name": "stdout"
        },
        {
          "output_type": "execute_result",
          "data": {
            "text/html": [
              "<div>\n",
              "<style scoped>\n",
              "    .dataframe tbody tr th:only-of-type {\n",
              "        vertical-align: middle;\n",
              "    }\n",
              "\n",
              "    .dataframe tbody tr th {\n",
              "        vertical-align: top;\n",
              "    }\n",
              "\n",
              "    .dataframe thead th {\n",
              "        text-align: right;\n",
              "    }\n",
              "</style>\n",
              "<table border=\"1\" class=\"dataframe\">\n",
              "  <thead>\n",
              "    <tr style=\"text-align: right;\">\n",
              "      <th></th>\n",
              "      <th>datetime</th>\n",
              "      <th>d-year_month</th>\n",
              "    </tr>\n",
              "  </thead>\n",
              "  <tbody>\n",
              "    <tr>\n",
              "      <th>0</th>\n",
              "      <td>2011-01-01 00:00:00</td>\n",
              "      <td>2011-1</td>\n",
              "    </tr>\n",
              "    <tr>\n",
              "      <th>1</th>\n",
              "      <td>2011-01-01 01:00:00</td>\n",
              "      <td>2011-1</td>\n",
              "    </tr>\n",
              "    <tr>\n",
              "      <th>2</th>\n",
              "      <td>2011-01-01 02:00:00</td>\n",
              "      <td>2011-1</td>\n",
              "    </tr>\n",
              "    <tr>\n",
              "      <th>3</th>\n",
              "      <td>2011-01-01 03:00:00</td>\n",
              "      <td>2011-1</td>\n",
              "    </tr>\n",
              "    <tr>\n",
              "      <th>4</th>\n",
              "      <td>2011-01-01 04:00:00</td>\n",
              "      <td>2011-1</td>\n",
              "    </tr>\n",
              "  </tbody>\n",
              "</table>\n",
              "</div>"
            ],
            "text/plain": [
              "             datetime d-year_month\n",
              "0 2011-01-01 00:00:00       2011-1\n",
              "1 2011-01-01 01:00:00       2011-1\n",
              "2 2011-01-01 02:00:00       2011-1\n",
              "3 2011-01-01 03:00:00       2011-1\n",
              "4 2011-01-01 04:00:00       2011-1"
            ]
          },
          "metadata": {
            "tags": []
          },
          "execution_count": 13
        }
      ]
    },
    {
      "metadata": {
        "colab_type": "code",
        "id": "3ykQv12B6_vN",
        "outputId": "4692fb29-2a5d-4e20-d7f3-3dd92995dbd7",
        "scrolled": false,
        "colab": {
          "base_uri": "https://localhost:8080/",
          "height": 592
        }
      },
      "cell_type": "code",
      "source": [
        "figure, (ax1, ax2) = plt.subplots(nrows=1, ncols=2)\n",
        "figure.set_size_inches(18, 4)\n",
        "\n",
        "sns.barplot(data=train, x=\"d-year\", y=\"count\", ax=ax1)\n",
        "sns.barplot(data=train, x=\"d-month\", y=\"count\", ax=ax2)\n",
        "\n",
        "figure, ax3 = plt.subplots(nrows=1, ncols=1)\n",
        "figure.set_size_inches(18, 4)\n",
        "\n",
        "sns.barplot(data=train, x=\"d-year_month\", y=\"count\", ax=ax3)"
      ],
      "execution_count": 14,
      "outputs": [
        {
          "output_type": "stream",
          "text": [
            "/usr/local/lib/python3.6/dist-packages/seaborn/categorical.py:1428: FutureWarning: remove_na is deprecated and is a private function. Do not use.\n",
            "  stat_data = remove_na(group_data)\n"
          ],
          "name": "stderr"
        },
        {
          "output_type": "execute_result",
          "data": {
            "text/plain": [
              "<matplotlib.axes._subplots.AxesSubplot at 0x7fcbe0966240>"
            ]
          },
          "metadata": {
            "tags": []
          },
          "execution_count": 14
        },
        {
          "output_type": "display_data",
          "data": {
            "image/png": "[encoded data removed]",
            "text/plain": [
              "<Figure size 1296x288 with 2 Axes>"
            ]
          },
          "metadata": {
            "tags": []
          }
        },
        {
          "output_type": "display_data",
          "data": {
            "image/png": "[encoded data removed]",
            "text/plain": [
              "<Figure size 1296x288 with 1 Axes>"
            ]
          },
          "metadata": {
            "tags": []
          }
        }
      ]
    },
    {
      "metadata": {
        "colab_type": "text",
        "id": "Ty7wbQ0L6_vS"
      },
      "cell_type": "markdown",
      "source": [
        "## 훈련에 사용할 특성 선택"
      ]
    },
    {
      "metadata": {
        "colab_type": "code",
        "id": "2JZAxjE56_vT",
        "outputId": "30f29297-343d-4d61-c16e-3a3e4cafa262",
        "colab": {
          "base_uri": "https://localhost:8080/",
          "height": 102
        }
      },
      "cell_type": "code",
      "source": [
        "train.columns"
      ],
      "execution_count": 15,
      "outputs": [
        {
          "output_type": "execute_result",
          "data": {
            "text/plain": [
              "Index(['datetime', 'season', 'holiday', 'workingday', 'weather', 'temp',\n",
              "       'atemp', 'humidity', 'windspeed', 'casual', 'registered', 'count',\n",
              "       'd-year', 'd-month', 'd-day', 'd-hour', 'd-minute', 'd-second',\n",
              "       'd-dayofweek', 'd-year_month'],\n",
              "      dtype='object')"
            ]
          },
          "metadata": {
            "tags": []
          },
          "execution_count": 15
        }
      ]
    },
    {
      "metadata": {
        "colab_type": "code",
        "id": "wzKGw40W6_vX",
        "colab": {}
      },
      "cell_type": "code",
      "source": [
        "features = [\"season\", \"holiday\", \"workingday\", \"weather\",\n",
        "                 \"temp\", \"atemp\", \"humidity\", \"windspeed\",\n",
        "                 \"d-year\", \"d-hour\", \"d-dayofweek\"]"
      ],
      "execution_count": 0,
      "outputs": []
    },
    {
      "metadata": {
        "colab_type": "code",
        "id": "QoSBlvzZ6_vb",
        "outputId": "3ce7173b-eab1-4b55-8ad2-f80cecd239c5",
        "colab": {
          "base_uri": "https://localhost:8080/",
          "height": 221
        }
      },
      "cell_type": "code",
      "source": [
        "X = train[features]\n",
        "print(X.shape)\n",
        "X.head()"
      ],
      "execution_count": 17,
      "outputs": [
        {
          "output_type": "stream",
          "text": [
            "(10886, 11)\n"
          ],
          "name": "stdout"
        },
        {
          "output_type": "execute_result",
          "data": {
            "text/html": [
              "<div>\n",
              "<style scoped>\n",
              "    .dataframe tbody tr th:only-of-type {\n",
              "        vertical-align: middle;\n",
              "    }\n",
              "\n",
              "    .dataframe tbody tr th {\n",
              "        vertical-align: top;\n",
              "    }\n",
              "\n",
              "    .dataframe thead th {\n",
              "        text-align: right;\n",
              "    }\n",
              "</style>\n",
              "<table border=\"1\" class=\"dataframe\">\n",
              "  <thead>\n",
              "    <tr style=\"text-align: right;\">\n",
              "      <th></th>\n",
              "      <th>season</th>\n",
              "      <th>holiday</th>\n",
              "      <th>workingday</th>\n",
              "      <th>weather</th>\n",
              "      <th>temp</th>\n",
              "      <th>atemp</th>\n",
              "      <th>humidity</th>\n",
              "      <th>windspeed</th>\n",
              "      <th>d-year</th>\n",
              "      <th>d-hour</th>\n",
              "      <th>d-dayofweek</th>\n",
              "    </tr>\n",
              "  </thead>\n",
              "  <tbody>\n",
              "    <tr>\n",
              "      <th>0</th>\n",
              "      <td>1</td>\n",
              "      <td>0</td>\n",
              "      <td>0</td>\n",
              "      <td>1</td>\n",
              "      <td>9.84</td>\n",
              "      <td>14.395</td>\n",
              "      <td>81</td>\n",
              "      <td>0.0</td>\n",
              "      <td>2011</td>\n",
              "      <td>0</td>\n",
              "      <td>5</td>\n",
              "    </tr>\n",
              "    <tr>\n",
              "      <th>1</th>\n",
              "      <td>1</td>\n",
              "      <td>0</td>\n",
              "      <td>0</td>\n",
              "      <td>1</td>\n",
              "      <td>9.02</td>\n",
              "      <td>13.635</td>\n",
              "      <td>80</td>\n",
              "      <td>0.0</td>\n",
              "      <td>2011</td>\n",
              "      <td>1</td>\n",
              "      <td>5</td>\n",
              "    </tr>\n",
              "    <tr>\n",
              "      <th>2</th>\n",
              "      <td>1</td>\n",
              "      <td>0</td>\n",
              "      <td>0</td>\n",
              "      <td>1</td>\n",
              "      <td>9.02</td>\n",
              "      <td>13.635</td>\n",
              "      <td>80</td>\n",
              "      <td>0.0</td>\n",
              "      <td>2011</td>\n",
              "      <td>2</td>\n",
              "      <td>5</td>\n",
              "    </tr>\n",
              "    <tr>\n",
              "      <th>3</th>\n",
              "      <td>1</td>\n",
              "      <td>0</td>\n",
              "      <td>0</td>\n",
              "      <td>1</td>\n",
              "      <td>9.84</td>\n",
              "      <td>14.395</td>\n",
              "      <td>75</td>\n",
              "      <td>0.0</td>\n",
              "      <td>2011</td>\n",
              "      <td>3</td>\n",
              "      <td>5</td>\n",
              "    </tr>\n",
              "    <tr>\n",
              "      <th>4</th>\n",
              "      <td>1</td>\n",
              "      <td>0</td>\n",
              "      <td>0</td>\n",
              "      <td>1</td>\n",
              "      <td>9.84</td>\n",
              "      <td>14.395</td>\n",
              "      <td>75</td>\n",
              "      <td>0.0</td>\n",
              "      <td>2011</td>\n",
              "      <td>4</td>\n",
              "      <td>5</td>\n",
              "    </tr>\n",
              "  </tbody>\n",
              "</table>\n",
              "</div>"
            ],
            "text/plain": [
              "   season  holiday  workingday  weather  temp   atemp  humidity  windspeed  \\\n",
              "0       1        0           0        1  9.84  14.395        81        0.0   \n",
              "1       1        0           0        1  9.02  13.635        80        0.0   \n",
              "2       1        0           0        1  9.02  13.635        80        0.0   \n",
              "3       1        0           0        1  9.84  14.395        75        0.0   \n",
              "4       1        0           0        1  9.84  14.395        75        0.0   \n",
              "\n",
              "   d-year  d-hour  d-dayofweek  \n",
              "0    2011       0            5  \n",
              "1    2011       1            5  \n",
              "2    2011       2            5  \n",
              "3    2011       3            5  \n",
              "4    2011       4            5  "
            ]
          },
          "metadata": {
            "tags": []
          },
          "execution_count": 17
        }
      ]
    },
    {
      "metadata": {
        "colab_type": "code",
        "id": "pBV4ysWe6_vf",
        "outputId": "15fc6bb9-a6e7-4f92-9825-b6f258ae30cc",
        "colab": {
          "base_uri": "https://localhost:8080/",
          "height": 34
        }
      },
      "cell_type": "code",
      "source": [
        "y = train[\"count\"]\n",
        "print(y.shape)"
      ],
      "execution_count": 18,
      "outputs": [
        {
          "output_type": "stream",
          "text": [
            "(10886,)\n"
          ],
          "name": "stdout"
        }
      ]
    },
    {
      "metadata": {
        "id": "k2PpMz602cC8",
        "colab_type": "code",
        "colab": {}
      },
      "cell_type": "code",
      "source": [
        "import numpy as np\n",
        "X_train,X_test,  y_train,  y_test = train_test_split(X, y, test_size = 0.2)"
      ],
      "execution_count": 0,
      "outputs": []
    },
    {
      "metadata": {
        "id": "bHGk_-UR3MJX",
        "colab_type": "code",
        "colab": {
          "base_uri": "https://localhost:8080/",
          "height": 1071
        },
        "outputId": "75a4646f-1e2f-4d17-e30a-85d2bec47dfb"
      },
      "cell_type": "code",
      "source": [
        "y_train"
      ],
      "execution_count": 26,
      "outputs": [
        {
          "output_type": "execute_result",
          "data": {
            "text/plain": [
              "4077      70\n",
              "8350     230\n",
              "6515     597\n",
              "1081      71\n",
              "7018     704\n",
              "5230      20\n",
              "10125    118\n",
              "3482      25\n",
              "1004       9\n",
              "4801      28\n",
              "6586     498\n",
              "3522     303\n",
              "10110    272\n",
              "826      124\n",
              "1868     396\n",
              "1212     119\n",
              "4496     123\n",
              "10400    276\n",
              "3330     282\n",
              "522       46\n",
              "3217      56\n",
              "6029     129\n",
              "5326      72\n",
              "6104     146\n",
              "5520       4\n",
              "624        7\n",
              "2813       6\n",
              "9738       6\n",
              "7751     140\n",
              "3380     559\n",
              "        ... \n",
              "73         4\n",
              "9484     114\n",
              "9862     476\n",
              "3474     292\n",
              "3427     516\n",
              "8625     891\n",
              "1461     325\n",
              "6404      80\n",
              "51        30\n",
              "8448     414\n",
              "1598      92\n",
              "1317     217\n",
              "4302     352\n",
              "6124     166\n",
              "2599      25\n",
              "9656     610\n",
              "100      115\n",
              "10718     32\n",
              "2288     106\n",
              "5593       6\n",
              "5235      21\n",
              "10791     96\n",
              "9817     347\n",
              "4925     216\n",
              "6191      22\n",
              "5196     293\n",
              "6727     690\n",
              "6702     260\n",
              "1854       3\n",
              "6776     286\n",
              "Name: count, Length: 8708, dtype: int64"
            ]
          },
          "metadata": {
            "tags": []
          },
          "execution_count": 26
        }
      ]
    },
    {
      "metadata": {
        "id": "qNdL7ISQ2b0G",
        "colab_type": "code",
        "colab": {
          "base_uri": "https://localhost:8080/",
          "height": 34
        },
        "outputId": "e58da711-c60f-4a1d-bb47-350f5ecca787"
      },
      "cell_type": "code",
      "source": [
        "model = RandomForestRegressor(n_estimators = 30)\n",
        "model.fit(X_train, y_train)\n",
        "model.score(X_test, y_test)\n"
      ],
      "execution_count": 29,
      "outputs": [
        {
          "output_type": "execute_result",
          "data": {
            "text/plain": [
              "0.9383378679107286"
            ]
          },
          "metadata": {
            "tags": []
          },
          "execution_count": 29
        }
      ]
    },
    {
      "metadata": {
        "id": "p-E8k2-d3eh7",
        "colab_type": "code",
        "colab": {
          "base_uri": "https://localhost:8080/",
          "height": 34
        },
        "outputId": "5528aea5-6fa4-4b8c-82a8-960391bd0695"
      },
      "cell_type": "code",
      "source": [
        "model2 = LinearRegression()\n",
        "model2.fit(X_train, y_train)\n",
        "model2.score(X_test, y_test)"
      ],
      "execution_count": 28,
      "outputs": [
        {
          "output_type": "execute_result",
          "data": {
            "text/plain": [
              "0.3882936440164091"
            ]
          },
          "metadata": {
            "tags": []
          },
          "execution_count": 28
        }
      ]
    },
    {
      "metadata": {
        "id": "7gZep3mq3vjZ",
        "colab_type": "code",
        "colab": {
          "base_uri": "https://localhost:8080/",
          "height": 252
        },
        "outputId": "179f589e-0f1d-41f5-8876-042e82845643"
      },
      "cell_type": "code",
      "source": [
        "model3 = svm.LinearSVR()\n",
        "model3.fit(X_train, y_train)\n",
        "model3.scroe(X_test, y_test)\n",
        "\n"
      ],
      "execution_count": 32,
      "outputs": [
        {
          "output_type": "stream",
          "text": [
            "/usr/local/lib/python3.6/dist-packages/sklearn/svm/base.py:931: ConvergenceWarning: Liblinear failed to converge, increase the number of iterations.\n",
            "  \"the number of iterations.\", ConvergenceWarning)\n"
          ],
          "name": "stderr"
        },
        {
          "output_type": "error",
          "ename": "AttributeError",
          "evalue": "ignored",
          "traceback": [
            "\u001b[0;31m---------------------------------------------------------------------------\u001b[0m",
            "\u001b[0;31mAttributeError\u001b[0m                            Traceback (most recent call last)",
            "\u001b[0;32m<ipython-input-32-c1aa9e7fd1a8>\u001b[0m in \u001b[0;36m<module>\u001b[0;34m()\u001b[0m\n\u001b[1;32m      1\u001b[0m \u001b[0mmodel3\u001b[0m \u001b[0;34m=\u001b[0m \u001b[0msvm\u001b[0m\u001b[0;34m.\u001b[0m\u001b[0mLinearSVR\u001b[0m\u001b[0;34m(\u001b[0m\u001b[0;34m)\u001b[0m\u001b[0;34m\u001b[0m\u001b[0;34m\u001b[0m\u001b[0m\n\u001b[1;32m      2\u001b[0m \u001b[0mmodel3\u001b[0m\u001b[0;34m.\u001b[0m\u001b[0mfit\u001b[0m\u001b[0;34m(\u001b[0m\u001b[0mX_train\u001b[0m\u001b[0;34m,\u001b[0m \u001b[0my_train\u001b[0m\u001b[0;34m)\u001b[0m\u001b[0;34m\u001b[0m\u001b[0;34m\u001b[0m\u001b[0m\n\u001b[0;32m----> 3\u001b[0;31m \u001b[0mmodel3\u001b[0m\u001b[0;34m.\u001b[0m\u001b[0mscroe\u001b[0m\u001b[0;34m(\u001b[0m\u001b[0mX_test\u001b[0m\u001b[0;34m,\u001b[0m \u001b[0my_test\u001b[0m\u001b[0;34m)\u001b[0m\u001b[0;34m\u001b[0m\u001b[0;34m\u001b[0m\u001b[0m\n\u001b[0m",
            "\u001b[0;31mAttributeError\u001b[0m: 'LinearSVR' object has no attribute 'scroe'"
          ]
        }
      ]
    },
    {
      "metadata": {
        "id": "1lkmM02R2SoY",
        "colab_type": "text"
      },
      "cell_type": "markdown",
      "source": [
        "로그를 씌우는 이유\n",
        "큰값을 약화시키겠다\n",
        "5대를 빌려가고 3대로 예측\n",
        "1000대를 빌려가고 950대로 예측 50대라는 예측이 클수 있음.\n",
        "\n",
        "볼륨이 클때 약화를 시킴\n",
        "ex) 신호처리에서 다이나믹 레인지와 유사함."
      ]
    },
    {
      "metadata": {
        "colab_type": "code",
        "id": "Ib0kFRjp6_vl",
        "outputId": "045b1e40-4bc0-493c-8d7d-810f1fdcb7a8",
        "colab": {
          "base_uri": "https://localhost:8080/",
          "height": 136
        }
      },
      "cell_type": "code",
      "source": [
        "import numpy as np\n",
        "y_log = np.log(y + 1)\n",
        "\n",
        "print(y_log.shape)\n",
        "y_log.head()"
      ],
      "execution_count": 33,
      "outputs": [
        {
          "output_type": "stream",
          "text": [
            "(10886,)\n"
          ],
          "name": "stdout"
        },
        {
          "output_type": "execute_result",
          "data": {
            "text/plain": [
              "0    2.833213\n",
              "1    3.713572\n",
              "2    3.496508\n",
              "3    2.639057\n",
              "4    0.693147\n",
              "Name: count, dtype: float64"
            ]
          },
          "metadata": {
            "tags": []
          },
          "execution_count": 33
        }
      ]
    },
    {
      "metadata": {
        "colab_type": "text",
        "id": "lDY_6y7p6_vs"
      },
      "cell_type": "markdown",
      "source": [
        "## 간단한 예측 모델"
      ]
    },
    {
      "metadata": {
        "colab_type": "code",
        "id": "QUjiGWgC6_vz",
        "colab": {}
      },
      "cell_type": "code",
      "source": [
        "np.random.seed(11)\n",
        "X_train, X_test, y_train, y_test = train_test_split(X, y_log, test_size = 0.2)"
      ],
      "execution_count": 0,
      "outputs": []
    },
    {
      "metadata": {
        "colab_type": "code",
        "id": "SFN3S-Oe6_v2",
        "outputId": "46186d5e-d5fa-48bc-e60f-1bfe6c979d29",
        "colab": {
          "base_uri": "https://localhost:8080/",
          "height": 34
        }
      },
      "cell_type": "code",
      "source": [
        "model = RandomForestRegressor(n_estimators= 30)\n",
        "model.fit(X_train, y_train)\n",
        "model.score(X_test, y_test)"
      ],
      "execution_count": 35,
      "outputs": [
        {
          "output_type": "execute_result",
          "data": {
            "text/plain": [
              "0.9580883210969734"
            ]
          },
          "metadata": {
            "tags": []
          },
          "execution_count": 35
        }
      ]
    },
    {
      "metadata": {
        "colab_type": "code",
        "id": "gv2k__Dh6_v6",
        "outputId": "fc6e7639-796a-4d30-f842-cd9d39a0e851",
        "scrolled": true,
        "colab": {
          "base_uri": "https://localhost:8080/",
          "height": 187
        }
      },
      "cell_type": "code",
      "source": [
        "list(zip(y_test, model.predict(X_test)))[:10]"
      ],
      "execution_count": 36,
      "outputs": [
        {
          "output_type": "execute_result",
          "data": {
            "text/plain": [
              "[(1.9459101490553132, 2.0403146519508772),\n",
              " (3.7612001156935624, 3.7669927593559467),\n",
              " (6.415096959171596, 6.302535786676932),\n",
              " (2.833213344056216, 2.824032746730312),\n",
              " (4.2626798770413155, 4.443539522423507),\n",
              " (2.70805020110221, 3.2117684044501233),\n",
              " (6.030685260261263, 5.914215047904423),\n",
              " (5.4510384535657, 5.41472429655433),\n",
              " (5.472270673671475, 5.697741213725065),\n",
              " (5.673323267171493, 5.595541299114385)]"
            ]
          },
          "metadata": {
            "tags": []
          },
          "execution_count": 36
        }
      ]
    },
    {
      "metadata": {
        "colab_type": "code",
        "id": "JXk1pJyW6_v9",
        "outputId": "c2693d86-0802-49c4-e87f-35bf9867e616",
        "colab": {
          "base_uri": "https://localhost:8080/",
          "height": 204
        }
      },
      "cell_type": "code",
      "source": [
        "X_train[:5]"
      ],
      "execution_count": 37,
      "outputs": [
        {
          "output_type": "execute_result",
          "data": {
            "text/html": [
              "<div>\n",
              "<style scoped>\n",
              "    .dataframe tbody tr th:only-of-type {\n",
              "        vertical-align: middle;\n",
              "    }\n",
              "\n",
              "    .dataframe tbody tr th {\n",
              "        vertical-align: top;\n",
              "    }\n",
              "\n",
              "    .dataframe thead th {\n",
              "        text-align: right;\n",
              "    }\n",
              "</style>\n",
              "<table border=\"1\" class=\"dataframe\">\n",
              "  <thead>\n",
              "    <tr style=\"text-align: right;\">\n",
              "      <th></th>\n",
              "      <th>season</th>\n",
              "      <th>holiday</th>\n",
              "      <th>workingday</th>\n",
              "      <th>weather</th>\n",
              "      <th>temp</th>\n",
              "      <th>atemp</th>\n",
              "      <th>humidity</th>\n",
              "      <th>windspeed</th>\n",
              "      <th>d-year</th>\n",
              "      <th>d-hour</th>\n",
              "      <th>d-dayofweek</th>\n",
              "    </tr>\n",
              "  </thead>\n",
              "  <tbody>\n",
              "    <tr>\n",
              "      <th>7560</th>\n",
              "      <td>2</td>\n",
              "      <td>0</td>\n",
              "      <td>1</td>\n",
              "      <td>3</td>\n",
              "      <td>22.14</td>\n",
              "      <td>25.760</td>\n",
              "      <td>88</td>\n",
              "      <td>19.0012</td>\n",
              "      <td>2012</td>\n",
              "      <td>9</td>\n",
              "      <td>0</td>\n",
              "    </tr>\n",
              "    <tr>\n",
              "      <th>8090</th>\n",
              "      <td>2</td>\n",
              "      <td>0</td>\n",
              "      <td>0</td>\n",
              "      <td>1</td>\n",
              "      <td>25.42</td>\n",
              "      <td>31.060</td>\n",
              "      <td>57</td>\n",
              "      <td>7.0015</td>\n",
              "      <td>2012</td>\n",
              "      <td>11</td>\n",
              "      <td>6</td>\n",
              "    </tr>\n",
              "    <tr>\n",
              "      <th>30</th>\n",
              "      <td>1</td>\n",
              "      <td>0</td>\n",
              "      <td>0</td>\n",
              "      <td>2</td>\n",
              "      <td>16.40</td>\n",
              "      <td>20.455</td>\n",
              "      <td>76</td>\n",
              "      <td>12.9980</td>\n",
              "      <td>2011</td>\n",
              "      <td>7</td>\n",
              "      <td>6</td>\n",
              "    </tr>\n",
              "    <tr>\n",
              "      <th>7290</th>\n",
              "      <td>2</td>\n",
              "      <td>0</td>\n",
              "      <td>1</td>\n",
              "      <td>2</td>\n",
              "      <td>18.86</td>\n",
              "      <td>22.725</td>\n",
              "      <td>88</td>\n",
              "      <td>0.0000</td>\n",
              "      <td>2012</td>\n",
              "      <td>3</td>\n",
              "      <td>3</td>\n",
              "    </tr>\n",
              "    <tr>\n",
              "      <th>8665</th>\n",
              "      <td>3</td>\n",
              "      <td>0</td>\n",
              "      <td>1</td>\n",
              "      <td>2</td>\n",
              "      <td>32.80</td>\n",
              "      <td>37.120</td>\n",
              "      <td>52</td>\n",
              "      <td>12.9980</td>\n",
              "      <td>2012</td>\n",
              "      <td>10</td>\n",
              "      <td>4</td>\n",
              "    </tr>\n",
              "  </tbody>\n",
              "</table>\n",
              "</div>"
            ],
            "text/plain": [
              "      season  holiday  workingday  weather   temp   atemp  humidity  \\\n",
              "7560       2        0           1        3  22.14  25.760        88   \n",
              "8090       2        0           0        1  25.42  31.060        57   \n",
              "30         1        0           0        2  16.40  20.455        76   \n",
              "7290       2        0           1        2  18.86  22.725        88   \n",
              "8665       3        0           1        2  32.80  37.120        52   \n",
              "\n",
              "      windspeed  d-year  d-hour  d-dayofweek  \n",
              "7560    19.0012    2012       9            0  \n",
              "8090     7.0015    2012      11            6  \n",
              "30      12.9980    2011       7            6  \n",
              "7290     0.0000    2012       3            3  \n",
              "8665    12.9980    2012      10            4  "
            ]
          },
          "metadata": {
            "tags": []
          },
          "execution_count": 37
        }
      ]
    },
    {
      "metadata": {
        "colab_type": "text",
        "id": "rYV_3yZW6_wA"
      },
      "cell_type": "markdown",
      "source": [
        "## 선형회귀"
      ]
    },
    {
      "metadata": {
        "colab_type": "code",
        "id": "RSrOtZyJ6_wB",
        "outputId": "2db061a4-7ddd-4dc1-e5f1-6e07a790ad19",
        "colab": {
          "base_uri": "https://localhost:8080/",
          "height": 34
        }
      },
      "cell_type": "code",
      "source": [
        "model = LinearRegression()\n",
        "model.fit(X_train, y_train)\n",
        "model.score(X_test, y_test)"
      ],
      "execution_count": 38,
      "outputs": [
        {
          "output_type": "execute_result",
          "data": {
            "text/plain": [
              "0.47259501985060887"
            ]
          },
          "metadata": {
            "tags": []
          },
          "execution_count": 38
        }
      ]
    },
    {
      "metadata": {
        "colab_type": "code",
        "id": "YngvuL3s6_wE",
        "outputId": "68df1b9a-1571-4417-cb8f-fb9800f1259d",
        "colab": {
          "base_uri": "https://localhost:8080/",
          "height": 34
        }
      },
      "cell_type": "code",
      "source": [
        "model = DecisionTreeRegressor()\n",
        "model.fit(X_train, y_train)\n",
        "model.score(X_test, y_test)"
      ],
      "execution_count": 39,
      "outputs": [
        {
          "output_type": "execute_result",
          "data": {
            "text/plain": [
              "0.915749021768606"
            ]
          },
          "metadata": {
            "tags": []
          },
          "execution_count": 39
        }
      ]
    },
    {
      "metadata": {
        "colab_type": "text",
        "id": "Yzq_C7NE6_wI"
      },
      "cell_type": "markdown",
      "source": [
        "## 성능 지표( score) 함수 변경"
      ]
    },
    {
      "metadata": {
        "id": "AbfFU_4LAt8X",
        "colab_type": "text"
      },
      "cell_type": "markdown",
      "source": [
        "root mean squre log error\n",
        " -> 이 성능지표는 작을 수록 좋다."
      ]
    },
    {
      "metadata": {
        "colab_type": "code",
        "id": "e0kRQgIC6_wK",
        "outputId": "8a9a5c9d-ba91-41a1-fce6-cb3bee384a6e",
        "colab": {
          "base_uri": "https://localhost:8080/",
          "height": 34
        }
      },
      "cell_type": "code",
      "source": [
        "def rmsle(predict, actual):\n",
        "    predict = np.array(predict)\n",
        "    actual = np.array(actual)\n",
        "    \n",
        "    log_predict = predict + 1\n",
        "    log_actual = actual + 1\n",
        "    \n",
        "    difference = log_predict - log_actual\n",
        "    difference = np.square(difference)\n",
        "    \n",
        "    mean_difference = difference.mean()    \n",
        "    score = np.sqrt(mean_difference)\n",
        "    return score\n",
        "\n",
        "rmsle_scorer = make_scorer(rmsle)\n",
        "rmsle_scorer\n"
      ],
      "execution_count": 40,
      "outputs": [
        {
          "output_type": "execute_result",
          "data": {
            "text/plain": [
              "make_scorer(rmsle)"
            ]
          },
          "metadata": {
            "tags": []
          },
          "execution_count": 40
        }
      ]
    },
    {
      "metadata": {
        "colab_type": "text",
        "id": "jb9NOYEZ6_wN"
      },
      "cell_type": "markdown",
      "source": [
        "## 하이퍼파라미터 선택"
      ]
    },
    {
      "metadata": {
        "colab_type": "text",
        "id": "KiEphT7a6_wN"
      },
      "cell_type": "markdown",
      "source": [
        "### 그리드 탐색"
      ]
    },
    {
      "metadata": {
        "id": "l9mN7H3-C82R",
        "colab_type": "text"
      },
      "cell_type": "markdown",
      "source": [
        "그리드 탐색을 통해 하이퍼 파라미터를 검색한다.\n",
        "결과를 보고 하이퍼 파라미터를 선택한다.\n"
      ]
    },
    {
      "metadata": {
        "id": "Z9Md9ygzMEb3",
        "colab_type": "code",
        "colab": {}
      },
      "cell_type": "code",
      "source": [
        "n_estimators = 30\n",
        "\n",
        "max_depth_list = [10, 20, 30]\n",
        "max_features_list = [0.3, 0.5, 0.9]\n",
        "\n",
        "hyperparameters_list = []\n",
        "\n",
        "for max_depth in max_depth_list:\n",
        "    for max_features in max_features_list:\n",
        "        model = RandomForestRegressor(n_estimators=n_estimators,\n",
        "                                      max_depth=max_depth,\n",
        "                                      #결정트리에서 몇단계까지 질문을 해야하는가?\n",
        "                                      #depth를 적게주는게 더좋기도 함.\n",
        "                                      max_features=max_features,\n",
        "                                      random_state=11,\n",
        "                                      #CPU 수를 제한, -1 : 모두사용\n",
        "                                      n_jobs=-1)\n",
        "\n",
        "        score = cross_val_score(model, X_train, y_train, cv=5,\n",
        "                                scoring=rmsle_scorer).mean()\n",
        "\n",
        "        hyperparameters_list.append({\n",
        "            'score': score,\n",
        "            'n_estimators': n_estimators,\n",
        "            'max_depth': max_depth,\n",
        "            'max_features': max_features,\n",
        "        })\n",
        "\n",
        "        print(\"Score = {0:.5f}\".format(score))\n",
        "\n",
        "hyperparameters_list"
      ],
      "execution_count": 0,
      "outputs": []
    },
    {
      "metadata": {
        "colab_type": "code",
        "id": "Najht9c66_wP",
        "outputId": "8d9bc76d-6710-4e7a-cbd2-34fea8dba386",
        "colab": {
          "base_uri": "https://localhost:8080/",
          "height": 5372
        }
      },
      "cell_type": "code",
      "source": [
        "n_estimators = 30\n",
        "\n",
        "max_depth_list = np.arange(10,100,10)\n",
        "max_features_list = np.arange(0.3, 1, 0.1)\n",
        "\n",
        "\n",
        "hyperparameters_list = []\n",
        "\n",
        "for max_depth in max_depth_list:\n",
        "    for max_features in max_features_list:\n",
        "        model = RandomForestRegressor(n_estimators=n_estimators,\n",
        "                                      max_depth=max_depth,\n",
        "                                      #결정트리에서 몇단계까지 질문을 해야하는가?\n",
        "                                      #depth를 적게주는게 더좋기도 함.\n",
        "                                      max_features=max_features,\n",
        "                                      random_state=11,\n",
        "                                      #CPU 수를 제한, -1 : 모두사용\n",
        "                                      n_jobs=-1)\n",
        "\n",
        "        score = cross_val_score(model, X_train, y_train, cv=5,\n",
        "                                scoring=rmsle_scorer).mean()\n",
        "\n",
        "        hyperparameters_list.append({\n",
        "            'score': score,\n",
        "            'n_estimators': n_estimators,\n",
        "            'max_depth': max_depth,\n",
        "            'max_features': max_features,\n",
        "        })\n",
        "\n",
        "        print(\"Score = {0:.5f}\".format(score))\n",
        "\n",
        "hyperparameters_list"
      ],
      "execution_count": 49,
      "outputs": [
        {
          "output_type": "stream",
          "text": [
            "Score = 0.49337\n",
            "Score = 0.43597\n",
            "Score = 0.40474\n",
            "Score = 0.38421\n",
            "Score = 0.37285\n",
            "Score = 0.36282\n",
            "Score = 0.35616\n",
            "Score = 0.40958\n",
            "Score = 0.37416\n",
            "Score = 0.34844\n",
            "Score = 0.33595\n",
            "Score = 0.33053\n",
            "Score = 0.32617\n",
            "Score = 0.32684\n",
            "Score = 0.41321\n",
            "Score = 0.37369\n",
            "Score = 0.34933\n",
            "Score = 0.33545\n",
            "Score = 0.33213\n",
            "Score = 0.32627\n",
            "Score = 0.32768\n",
            "Score = 0.41311\n",
            "Score = 0.37377\n",
            "Score = 0.34923\n",
            "Score = 0.33523\n",
            "Score = 0.33229\n",
            "Score = 0.32657\n",
            "Score = 0.32753\n",
            "Score = 0.41311\n",
            "Score = 0.37377\n",
            "Score = 0.34923\n",
            "Score = 0.33523\n",
            "Score = 0.33229\n",
            "Score = 0.32657\n",
            "Score = 0.32753\n",
            "Score = 0.41311\n",
            "Score = 0.37377\n",
            "Score = 0.34923\n",
            "Score = 0.33523\n",
            "Score = 0.33229\n",
            "Score = 0.32657\n",
            "Score = 0.32753\n",
            "Score = 0.41311\n",
            "Score = 0.37377\n",
            "Score = 0.34923\n",
            "Score = 0.33523\n",
            "Score = 0.33229\n",
            "Score = 0.32657\n",
            "Score = 0.32753\n",
            "Score = 0.41311\n",
            "Score = 0.37377\n",
            "Score = 0.34923\n",
            "Score = 0.33523\n",
            "Score = 0.33229\n",
            "Score = 0.32657\n",
            "Score = 0.32753\n",
            "Score = 0.41311\n",
            "Score = 0.37377\n",
            "Score = 0.34923\n",
            "Score = 0.33523\n",
            "Score = 0.33229\n",
            "Score = 0.32657\n",
            "Score = 0.32753\n"
          ],
          "name": "stdout"
        },
        {
          "output_type": "execute_result",
          "data": {
            "text/plain": [
              "[{'max_depth': 10,\n",
              "  'max_features': 0.3,\n",
              "  'n_estimators': 30,\n",
              "  'score': 0.4933716623103215},\n",
              " {'max_depth': 10,\n",
              "  'max_features': 0.4,\n",
              "  'n_estimators': 30,\n",
              "  'score': 0.4359680376703928},\n",
              " {'max_depth': 10,\n",
              "  'max_features': 0.5,\n",
              "  'n_estimators': 30,\n",
              "  'score': 0.4047436481972948},\n",
              " {'max_depth': 10,\n",
              "  'max_features': 0.6000000000000001,\n",
              "  'n_estimators': 30,\n",
              "  'score': 0.38420546694536795},\n",
              " {'max_depth': 10,\n",
              "  'max_features': 0.7000000000000002,\n",
              "  'n_estimators': 30,\n",
              "  'score': 0.3728485660906101},\n",
              " {'max_depth': 10,\n",
              "  'max_features': 0.8000000000000003,\n",
              "  'n_estimators': 30,\n",
              "  'score': 0.3628242452081004},\n",
              " {'max_depth': 10,\n",
              "  'max_features': 0.9000000000000001,\n",
              "  'n_estimators': 30,\n",
              "  'score': 0.35616225270175655},\n",
              " {'max_depth': 20,\n",
              "  'max_features': 0.3,\n",
              "  'n_estimators': 30,\n",
              "  'score': 0.40957527563664387},\n",
              " {'max_depth': 20,\n",
              "  'max_features': 0.4,\n",
              "  'n_estimators': 30,\n",
              "  'score': 0.37415959880562616},\n",
              " {'max_depth': 20,\n",
              "  'max_features': 0.5,\n",
              "  'n_estimators': 30,\n",
              "  'score': 0.34843550497543835},\n",
              " {'max_depth': 20,\n",
              "  'max_features': 0.6000000000000001,\n",
              "  'n_estimators': 30,\n",
              "  'score': 0.33595277693006065},\n",
              " {'max_depth': 20,\n",
              "  'max_features': 0.7000000000000002,\n",
              "  'n_estimators': 30,\n",
              "  'score': 0.33052713836467545},\n",
              " {'max_depth': 20,\n",
              "  'max_features': 0.8000000000000003,\n",
              "  'n_estimators': 30,\n",
              "  'score': 0.3261683077273453},\n",
              " {'max_depth': 20,\n",
              "  'max_features': 0.9000000000000001,\n",
              "  'n_estimators': 30,\n",
              "  'score': 0.3268438131004311},\n",
              " {'max_depth': 30,\n",
              "  'max_features': 0.3,\n",
              "  'n_estimators': 30,\n",
              "  'score': 0.4132067623268488},\n",
              " {'max_depth': 30,\n",
              "  'max_features': 0.4,\n",
              "  'n_estimators': 30,\n",
              "  'score': 0.3736860170434443},\n",
              " {'max_depth': 30,\n",
              "  'max_features': 0.5,\n",
              "  'n_estimators': 30,\n",
              "  'score': 0.3493330277052885},\n",
              " {'max_depth': 30,\n",
              "  'max_features': 0.6000000000000001,\n",
              "  'n_estimators': 30,\n",
              "  'score': 0.3354479232086323},\n",
              " {'max_depth': 30,\n",
              "  'max_features': 0.7000000000000002,\n",
              "  'n_estimators': 30,\n",
              "  'score': 0.3321260023761468},\n",
              " {'max_depth': 30,\n",
              "  'max_features': 0.8000000000000003,\n",
              "  'n_estimators': 30,\n",
              "  'score': 0.32627332000876946},\n",
              " {'max_depth': 30,\n",
              "  'max_features': 0.9000000000000001,\n",
              "  'n_estimators': 30,\n",
              "  'score': 0.32768237093321617},\n",
              " {'max_depth': 40,\n",
              "  'max_features': 0.3,\n",
              "  'n_estimators': 30,\n",
              "  'score': 0.41310858639138426},\n",
              " {'max_depth': 40,\n",
              "  'max_features': 0.4,\n",
              "  'n_estimators': 30,\n",
              "  'score': 0.37376744680876844},\n",
              " {'max_depth': 40,\n",
              "  'max_features': 0.5,\n",
              "  'n_estimators': 30,\n",
              "  'score': 0.3492262278061452},\n",
              " {'max_depth': 40,\n",
              "  'max_features': 0.6000000000000001,\n",
              "  'n_estimators': 30,\n",
              "  'score': 0.33522822184897255},\n",
              " {'max_depth': 40,\n",
              "  'max_features': 0.7000000000000002,\n",
              "  'n_estimators': 30,\n",
              "  'score': 0.3322903854094107},\n",
              " {'max_depth': 40,\n",
              "  'max_features': 0.8000000000000003,\n",
              "  'n_estimators': 30,\n",
              "  'score': 0.32657315895432404},\n",
              " {'max_depth': 40,\n",
              "  'max_features': 0.9000000000000001,\n",
              "  'n_estimators': 30,\n",
              "  'score': 0.3275341924941024},\n",
              " {'max_depth': 50,\n",
              "  'max_features': 0.3,\n",
              "  'n_estimators': 30,\n",
              "  'score': 0.41310858639138426},\n",
              " {'max_depth': 50,\n",
              "  'max_features': 0.4,\n",
              "  'n_estimators': 30,\n",
              "  'score': 0.37376744680876844},\n",
              " {'max_depth': 50,\n",
              "  'max_features': 0.5,\n",
              "  'n_estimators': 30,\n",
              "  'score': 0.3492262278061452},\n",
              " {'max_depth': 50,\n",
              "  'max_features': 0.6000000000000001,\n",
              "  'n_estimators': 30,\n",
              "  'score': 0.33522822184897255},\n",
              " {'max_depth': 50,\n",
              "  'max_features': 0.7000000000000002,\n",
              "  'n_estimators': 30,\n",
              "  'score': 0.3322903854094107},\n",
              " {'max_depth': 50,\n",
              "  'max_features': 0.8000000000000003,\n",
              "  'n_estimators': 30,\n",
              "  'score': 0.32657315895432404},\n",
              " {'max_depth': 50,\n",
              "  'max_features': 0.9000000000000001,\n",
              "  'n_estimators': 30,\n",
              "  'score': 0.3275341924941024},\n",
              " {'max_depth': 60,\n",
              "  'max_features': 0.3,\n",
              "  'n_estimators': 30,\n",
              "  'score': 0.41310858639138426},\n",
              " {'max_depth': 60,\n",
              "  'max_features': 0.4,\n",
              "  'n_estimators': 30,\n",
              "  'score': 0.37376744680876844},\n",
              " {'max_depth': 60,\n",
              "  'max_features': 0.5,\n",
              "  'n_estimators': 30,\n",
              "  'score': 0.3492262278061452},\n",
              " {'max_depth': 60,\n",
              "  'max_features': 0.6000000000000001,\n",
              "  'n_estimators': 30,\n",
              "  'score': 0.33522822184897255},\n",
              " {'max_depth': 60,\n",
              "  'max_features': 0.7000000000000002,\n",
              "  'n_estimators': 30,\n",
              "  'score': 0.3322903854094107},\n",
              " {'max_depth': 60,\n",
              "  'max_features': 0.8000000000000003,\n",
              "  'n_estimators': 30,\n",
              "  'score': 0.32657315895432404},\n",
              " {'max_depth': 60,\n",
              "  'max_features': 0.9000000000000001,\n",
              "  'n_estimators': 30,\n",
              "  'score': 0.3275341924941024},\n",
              " {'max_depth': 70,\n",
              "  'max_features': 0.3,\n",
              "  'n_estimators': 30,\n",
              "  'score': 0.41310858639138426},\n",
              " {'max_depth': 70,\n",
              "  'max_features': 0.4,\n",
              "  'n_estimators': 30,\n",
              "  'score': 0.37376744680876844},\n",
              " {'max_depth': 70,\n",
              "  'max_features': 0.5,\n",
              "  'n_estimators': 30,\n",
              "  'score': 0.3492262278061452},\n",
              " {'max_depth': 70,\n",
              "  'max_features': 0.6000000000000001,\n",
              "  'n_estimators': 30,\n",
              "  'score': 0.33522822184897255},\n",
              " {'max_depth': 70,\n",
              "  'max_features': 0.7000000000000002,\n",
              "  'n_estimators': 30,\n",
              "  'score': 0.3322903854094107},\n",
              " {'max_depth': 70,\n",
              "  'max_features': 0.8000000000000003,\n",
              "  'n_estimators': 30,\n",
              "  'score': 0.32657315895432404},\n",
              " {'max_depth': 70,\n",
              "  'max_features': 0.9000000000000001,\n",
              "  'n_estimators': 30,\n",
              "  'score': 0.3275341924941024},\n",
              " {'max_depth': 80,\n",
              "  'max_features': 0.3,\n",
              "  'n_estimators': 30,\n",
              "  'score': 0.41310858639138426},\n",
              " {'max_depth': 80,\n",
              "  'max_features': 0.4,\n",
              "  'n_estimators': 30,\n",
              "  'score': 0.37376744680876844},\n",
              " {'max_depth': 80,\n",
              "  'max_features': 0.5,\n",
              "  'n_estimators': 30,\n",
              "  'score': 0.3492262278061452},\n",
              " {'max_depth': 80,\n",
              "  'max_features': 0.6000000000000001,\n",
              "  'n_estimators': 30,\n",
              "  'score': 0.33522822184897255},\n",
              " {'max_depth': 80,\n",
              "  'max_features': 0.7000000000000002,\n",
              "  'n_estimators': 30,\n",
              "  'score': 0.3322903854094107},\n",
              " {'max_depth': 80,\n",
              "  'max_features': 0.8000000000000003,\n",
              "  'n_estimators': 30,\n",
              "  'score': 0.32657315895432404},\n",
              " {'max_depth': 80,\n",
              "  'max_features': 0.9000000000000001,\n",
              "  'n_estimators': 30,\n",
              "  'score': 0.3275341924941024},\n",
              " {'max_depth': 90,\n",
              "  'max_features': 0.3,\n",
              "  'n_estimators': 30,\n",
              "  'score': 0.41310858639138426},\n",
              " {'max_depth': 90,\n",
              "  'max_features': 0.4,\n",
              "  'n_estimators': 30,\n",
              "  'score': 0.37376744680876844},\n",
              " {'max_depth': 90,\n",
              "  'max_features': 0.5,\n",
              "  'n_estimators': 30,\n",
              "  'score': 0.3492262278061452},\n",
              " {'max_depth': 90,\n",
              "  'max_features': 0.6000000000000001,\n",
              "  'n_estimators': 30,\n",
              "  'score': 0.33522822184897255},\n",
              " {'max_depth': 90,\n",
              "  'max_features': 0.7000000000000002,\n",
              "  'n_estimators': 30,\n",
              "  'score': 0.3322903854094107},\n",
              " {'max_depth': 90,\n",
              "  'max_features': 0.8000000000000003,\n",
              "  'n_estimators': 30,\n",
              "  'score': 0.32657315895432404},\n",
              " {'max_depth': 90,\n",
              "  'max_features': 0.9000000000000001,\n",
              "  'n_estimators': 30,\n",
              "  'score': 0.32753419249410237}]"
            ]
          },
          "metadata": {
            "tags": []
          },
          "execution_count": 49
        }
      ]
    },
    {
      "metadata": {
        "colab_type": "code",
        "id": "sjBMQWVl6_wS",
        "outputId": "a89566f5-71aa-4cc7-cfdd-d4009bc3afcd",
        "colab": {
          "base_uri": "https://localhost:8080/",
          "height": 221
        }
      },
      "cell_type": "code",
      "source": [
        "hyperparameters_list = pd.DataFrame.from_dict(hyperparameters_list)\n",
        "hyperparameters_list = hyperparameters_list.sort_values(by=\"score\")\n",
        "\n",
        "print(hyperparameters_list.shape)\n",
        "hyperparameters_list.head()"
      ],
      "execution_count": 52,
      "outputs": [
        {
          "output_type": "stream",
          "text": [
            "(63, 4)\n"
          ],
          "name": "stdout"
        },
        {
          "output_type": "execute_result",
          "data": {
            "text/html": [
              "<div>\n",
              "<style scoped>\n",
              "    .dataframe tbody tr th:only-of-type {\n",
              "        vertical-align: middle;\n",
              "    }\n",
              "\n",
              "    .dataframe tbody tr th {\n",
              "        vertical-align: top;\n",
              "    }\n",
              "\n",
              "    .dataframe thead th {\n",
              "        text-align: right;\n",
              "    }\n",
              "</style>\n",
              "<table border=\"1\" class=\"dataframe\">\n",
              "  <thead>\n",
              "    <tr style=\"text-align: right;\">\n",
              "      <th></th>\n",
              "      <th>max_depth</th>\n",
              "      <th>max_features</th>\n",
              "      <th>n_estimators</th>\n",
              "      <th>score</th>\n",
              "    </tr>\n",
              "  </thead>\n",
              "  <tbody>\n",
              "    <tr>\n",
              "      <th>12</th>\n",
              "      <td>20</td>\n",
              "      <td>0.8</td>\n",
              "      <td>30</td>\n",
              "      <td>0.326168</td>\n",
              "    </tr>\n",
              "    <tr>\n",
              "      <th>19</th>\n",
              "      <td>30</td>\n",
              "      <td>0.8</td>\n",
              "      <td>30</td>\n",
              "      <td>0.326273</td>\n",
              "    </tr>\n",
              "    <tr>\n",
              "      <th>61</th>\n",
              "      <td>90</td>\n",
              "      <td>0.8</td>\n",
              "      <td>30</td>\n",
              "      <td>0.326573</td>\n",
              "    </tr>\n",
              "    <tr>\n",
              "      <th>33</th>\n",
              "      <td>50</td>\n",
              "      <td>0.8</td>\n",
              "      <td>30</td>\n",
              "      <td>0.326573</td>\n",
              "    </tr>\n",
              "    <tr>\n",
              "      <th>54</th>\n",
              "      <td>80</td>\n",
              "      <td>0.8</td>\n",
              "      <td>30</td>\n",
              "      <td>0.326573</td>\n",
              "    </tr>\n",
              "  </tbody>\n",
              "</table>\n",
              "</div>"
            ],
            "text/plain": [
              "    max_depth  max_features  n_estimators     score\n",
              "12         20           0.8            30  0.326168\n",
              "19         30           0.8            30  0.326273\n",
              "61         90           0.8            30  0.326573\n",
              "33         50           0.8            30  0.326573\n",
              "54         80           0.8            30  0.326573"
            ]
          },
          "metadata": {
            "tags": []
          },
          "execution_count": 52
        }
      ]
    },
    {
      "metadata": {
        "colab_type": "text",
        "id": "kk_u7Jql6_wU"
      },
      "cell_type": "markdown",
      "source": [
        "### 랜덤 탐색"
      ]
    },
    {
      "metadata": {
        "colab_type": "code",
        "id": "-FRpjDfX6_wV",
        "outputId": "01a7bfc8-1b01-47ea-9d24-ccba7b750f26",
        "colab": {
          "base_uri": "https://localhost:8080/",
          "height": 391
        }
      },
      "cell_type": "code",
      "source": [
        "import numpy as np\n",
        "from sklearn.ensemble import RandomForestRegressor\n",
        "from sklearn.model_selection import cross_val_score\n",
        "\n",
        "hyperparameters_list = []\n",
        "\n",
        "n_estimators = 30\n",
        "num_epoch = 10\n",
        "\n",
        "for epoch in range(num_epoch):\n",
        "    max_depth = np.random.randint(low=2, high=100)\n",
        "    max_features = np.random.uniform(low=0.1, high=1.0)\n",
        "\n",
        "    model = RandomForestRegressor(n_estimators=n_estimators,\n",
        "                                  max_depth=max_depth,\n",
        "                                  max_features=max_features,\n",
        "                                  random_state=37,\n",
        "                                  n_jobs=-1)\n",
        "\n",
        "    score = cross_val_score(model, X_train, y_train, cv=5,\n",
        "                            scoring=rmsle_scorer).mean()\n",
        "\n",
        "    hyperparameters_list.append({\n",
        "        'score': score,\n",
        "        'n_estimators': n_estimators,\n",
        "        'max_depth': max_depth,\n",
        "        'max_features': max_features,\n",
        "    })\n",
        "\n",
        "    print(\"Score = {0:.5f}\".format(score))\n",
        "\n",
        "hyperparameters_list = pd.DataFrame.from_dict(hyperparameters_list)\n",
        "hyperparameters_list = hyperparameters_list.sort_values(by=\"score\")\n",
        "\n",
        "print(hyperparameters_list.shape)\n",
        "hyperparameters_list.head()"
      ],
      "execution_count": 53,
      "outputs": [
        {
          "output_type": "stream",
          "text": [
            "Score = 0.32621\n",
            "Score = 0.47942\n",
            "Score = 0.47942\n",
            "Score = 0.56134\n",
            "Score = 0.35105\n",
            "Score = 0.75337\n",
            "Score = 0.33773\n",
            "Score = 0.34663\n",
            "Score = 0.33773\n",
            "Score = 0.33057\n",
            "(10, 4)\n"
          ],
          "name": "stdout"
        },
        {
          "output_type": "execute_result",
          "data": {
            "text/html": [
              "<div>\n",
              "<style scoped>\n",
              "    .dataframe tbody tr th:only-of-type {\n",
              "        vertical-align: middle;\n",
              "    }\n",
              "\n",
              "    .dataframe tbody tr th {\n",
              "        vertical-align: top;\n",
              "    }\n",
              "\n",
              "    .dataframe thead th {\n",
              "        text-align: right;\n",
              "    }\n",
              "</style>\n",
              "<table border=\"1\" class=\"dataframe\">\n",
              "  <thead>\n",
              "    <tr style=\"text-align: right;\">\n",
              "      <th></th>\n",
              "      <th>max_depth</th>\n",
              "      <th>max_features</th>\n",
              "      <th>n_estimators</th>\n",
              "      <th>score</th>\n",
              "    </tr>\n",
              "  </thead>\n",
              "  <tbody>\n",
              "    <tr>\n",
              "      <th>0</th>\n",
              "      <td>76</td>\n",
              "      <td>0.804363</td>\n",
              "      <td>30</td>\n",
              "      <td>0.326207</td>\n",
              "    </tr>\n",
              "    <tr>\n",
              "      <th>9</th>\n",
              "      <td>82</td>\n",
              "      <td>0.708922</td>\n",
              "      <td>30</td>\n",
              "      <td>0.330568</td>\n",
              "    </tr>\n",
              "    <tr>\n",
              "      <th>6</th>\n",
              "      <td>79</td>\n",
              "      <td>0.575713</td>\n",
              "      <td>30</td>\n",
              "      <td>0.337729</td>\n",
              "    </tr>\n",
              "    <tr>\n",
              "      <th>8</th>\n",
              "      <td>74</td>\n",
              "      <td>0.577014</td>\n",
              "      <td>30</td>\n",
              "      <td>0.337729</td>\n",
              "    </tr>\n",
              "    <tr>\n",
              "      <th>7</th>\n",
              "      <td>12</td>\n",
              "      <td>0.700990</td>\n",
              "      <td>30</td>\n",
              "      <td>0.346634</td>\n",
              "    </tr>\n",
              "  </tbody>\n",
              "</table>\n",
              "</div>"
            ],
            "text/plain": [
              "   max_depth  max_features  n_estimators     score\n",
              "0         76      0.804363            30  0.326207\n",
              "9         82      0.708922            30  0.330568\n",
              "6         79      0.575713            30  0.337729\n",
              "8         74      0.577014            30  0.337729\n",
              "7         12      0.700990            30  0.346634"
            ]
          },
          "metadata": {
            "tags": []
          },
          "execution_count": 53
        }
      ]
    },
    {
      "metadata": {
        "colab_type": "text",
        "id": "n53c7WGT6_wZ"
      },
      "cell_type": "markdown",
      "source": [
        "### 상세 탐색"
      ]
    },
    {
      "metadata": {
        "colab_type": "code",
        "id": "PEB5_4xS6_wb",
        "outputId": "2a5a38f2-8757-43b3-d6f0-28295cb40b34",
        "colab": {
          "base_uri": "https://localhost:8080/",
          "height": 370
        }
      },
      "cell_type": "code",
      "source": [
        "import numpy as np\n",
        "from sklearn.ensemble import RandomForestRegressor\n",
        "from sklearn.model_selection import cross_val_score\n",
        "\n",
        "hyperparameters_list = []\n",
        "\n",
        "n_estimators = 10\n",
        "num_epoch = 10\n",
        "\n",
        "for epoch in range(num_epoch):\n",
        "    max_depth = np.random.randint(low=10, high=70)\n",
        "    max_features = np.random.uniform(low=0.4, high=1.0)\n",
        "\n",
        "    model = RandomForestRegressor(n_estimators=n_estimators,\n",
        "                                  max_depth=max_depth,\n",
        "                                  max_features=max_features,\n",
        "                                  random_state=37,\n",
        "                                  n_jobs=-1)\n",
        "\n",
        "    score = cross_val_score(model, X_train, y_train, cv=5,\n",
        "                            scoring=rmsle_scorer).mean()\n",
        "\n",
        "    hyperparameters_list.append({\n",
        "        'score': score,\n",
        "        'n_estimators': n_estimators,\n",
        "        'max_depth': max_depth,\n",
        "        'max_features': max_features,\n",
        "    })\n",
        "\n",
        "    print(\"Score = {0:.5f}\".format(score))\n",
        "\n",
        "hyperparameters_list = pd.DataFrame.from_dict(hyperparameters_list)\n",
        "hyperparameters_list = hyperparameters_list.sort_values(by=\"score\")\n",
        "\n",
        "print(hyperparameters_list.shape)\n",
        "hyperparameters_list.head()"
      ],
      "execution_count": 0,
      "outputs": [
        {
          "output_type": "stream",
          "text": [
            "Score = 0.36444\n",
            "Score = 0.33882\n",
            "Score = 0.34933\n",
            "Score = 0.35628\n",
            "Score = 0.35040\n",
            "Score = 0.34485\n",
            "Score = 0.36444\n",
            "Score = 0.33882\n",
            "Score = 0.35628\n",
            "Score = 0.35040\n",
            "(10, 4)\n"
          ],
          "name": "stdout"
        },
        {
          "output_type": "execute_result",
          "data": {
            "text/html": [
              "<div>\n",
              "<style scoped>\n",
              "    .dataframe tbody tr th:only-of-type {\n",
              "        vertical-align: middle;\n",
              "    }\n",
              "\n",
              "    .dataframe tbody tr th {\n",
              "        vertical-align: top;\n",
              "    }\n",
              "\n",
              "    .dataframe thead th {\n",
              "        text-align: right;\n",
              "    }\n",
              "</style>\n",
              "<table border=\"1\" class=\"dataframe\">\n",
              "  <thead>\n",
              "    <tr style=\"text-align: right;\">\n",
              "      <th></th>\n",
              "      <th>max_depth</th>\n",
              "      <th>max_features</th>\n",
              "      <th>n_estimators</th>\n",
              "      <th>score</th>\n",
              "    </tr>\n",
              "  </thead>\n",
              "  <tbody>\n",
              "    <tr>\n",
              "      <th>1</th>\n",
              "      <td>34</td>\n",
              "      <td>0.939039</td>\n",
              "      <td>10</td>\n",
              "      <td>0.338818</td>\n",
              "    </tr>\n",
              "    <tr>\n",
              "      <th>7</th>\n",
              "      <td>63</td>\n",
              "      <td>0.916317</td>\n",
              "      <td>10</td>\n",
              "      <td>0.338818</td>\n",
              "    </tr>\n",
              "    <tr>\n",
              "      <th>5</th>\n",
              "      <td>19</td>\n",
              "      <td>0.796031</td>\n",
              "      <td>10</td>\n",
              "      <td>0.344853</td>\n",
              "    </tr>\n",
              "    <tr>\n",
              "      <th>2</th>\n",
              "      <td>28</td>\n",
              "      <td>0.718385</td>\n",
              "      <td>10</td>\n",
              "      <td>0.349331</td>\n",
              "    </tr>\n",
              "    <tr>\n",
              "      <th>4</th>\n",
              "      <td>44</td>\n",
              "      <td>0.673892</td>\n",
              "      <td>10</td>\n",
              "      <td>0.350404</td>\n",
              "    </tr>\n",
              "  </tbody>\n",
              "</table>\n",
              "</div>"
            ],
            "text/plain": [
              "   max_depth  max_features  n_estimators     score\n",
              "1         34      0.939039            10  0.338818\n",
              "7         63      0.916317            10  0.338818\n",
              "5         19      0.796031            10  0.344853\n",
              "2         28      0.718385            10  0.349331\n",
              "4         44      0.673892            10  0.350404"
            ]
          },
          "metadata": {
            "tags": []
          },
          "execution_count": 54
        }
      ]
    },
    {
      "metadata": {
        "colab_type": "text",
        "id": "yy9nbgip6_wg"
      },
      "cell_type": "markdown",
      "source": [
        "## 최종 모델 선택"
      ]
    },
    {
      "metadata": {
        "colab_type": "code",
        "id": "2jd93hCn6_wi",
        "outputId": "8f4c2f4e-016b-4519-c862-f006afb294c1",
        "colab": {
          "base_uri": "https://localhost:8080/",
          "height": 119
        }
      },
      "cell_type": "code",
      "source": [
        "from sklearn.ensemble import RandomForestRegressor\n",
        "\n",
        "model = RandomForestRegressor(n_estimators=300,\n",
        "                              max_depth=83,\n",
        "                              max_features=0.851358,\n",
        "                              random_state=37,\n",
        "                              n_jobs=-1)\n",
        "model.fit(X_train, y_train)"
      ],
      "execution_count": 41,
      "outputs": [
        {
          "output_type": "execute_result",
          "data": {
            "text/plain": [
              "RandomForestRegressor(bootstrap=True, criterion='mse', max_depth=83,\n",
              "           max_features=0.851358, max_leaf_nodes=None,\n",
              "           min_impurity_decrease=0.0, min_impurity_split=None,\n",
              "           min_samples_leaf=1, min_samples_split=2,\n",
              "           min_weight_fraction_leaf=0.0, n_estimators=300, n_jobs=-1,\n",
              "           oob_score=False, random_state=37, verbose=0, warm_start=False)"
            ]
          },
          "metadata": {
            "tags": []
          },
          "execution_count": 41
        }
      ]
    },
    {
      "metadata": {
        "colab_type": "text",
        "id": "-a00-qyy6_wn"
      },
      "cell_type": "markdown",
      "source": [
        "## Score (lmsle)"
      ]
    },
    {
      "metadata": {
        "colab_type": "text",
        "id": "DH_STdfQ6_wp"
      },
      "cell_type": "markdown",
      "source": [
        "$$ \\sqrt{\\frac{1}{n} \\sum_{i=1}^n (\\log(p_i + 1) - \\log(a_i+1))^2 } $$"
      ]
    },
    {
      "metadata": {
        "colab_type": "code",
        "id": "pCg3dLuh6_wq",
        "outputId": "105294d1-96ed-4335-fb6e-988404fb8005",
        "scrolled": true,
        "colab": {
          "base_uri": "https://localhost:8080/",
          "height": 34
        }
      },
      "cell_type": "code",
      "source": [
        "from sklearn.model_selection import cross_val_score\n",
        "\n",
        "score = cross_val_score(model, X_train, y_train, cv=5,\n",
        "                        scoring=rmsle_scorer).mean()\n",
        "\n",
        "print(\"Score = {0:.5f}\".format(score))"
      ],
      "execution_count": 42,
      "outputs": [
        {
          "output_type": "stream",
          "text": [
            "Score = 0.31860\n"
          ],
          "name": "stdout"
        }
      ]
    },
    {
      "metadata": {
        "colab_type": "text",
        "id": "dEYPDvKn6_wt"
      },
      "cell_type": "markdown",
      "source": [
        "## 주요 특성 변수"
      ]
    },
    {
      "metadata": {
        "colab_type": "code",
        "id": "LF_ik_es6_w-",
        "outputId": "ae4cacbd-8a3f-48f6-9e7a-cc2e4f0d2a2f",
        "colab": {
          "base_uri": "https://localhost:8080/",
          "height": 442
        }
      },
      "cell_type": "code",
      "source": [
        "df = pd.DataFrame({'feature':features,'importance':model.feature_importances_ })\n",
        "df=df.sort_values('importance', ascending=False)\n",
        "x = df.feature\n",
        "y = df.importance\n",
        "ypos = np.arange(len(x))\n",
        "\n",
        "plt.figure(figsize=(10,7))\n",
        "plt.barh(x, y)\n",
        "plt.yticks(ypos, x)\n",
        "plt.xlabel('Importance')\n",
        "plt.ylabel('Variable')\n",
        "plt.xlim(0, 1)\n",
        "plt.ylim(-1, len(x))\n",
        "plt.show()"
      ],
      "execution_count": 43,
      "outputs": [
        {
          "output_type": "display_data",
          "data": {
            "image/png": "[encoded data removed]",
            "text/plain": [
              "<Figure size 720x504 with 1 Axes>"
            ]
          },
          "metadata": {
            "tags": []
          }
        }
      ]
    },
    {
      "metadata": {
        "colab_type": "code",
        "id": "DP8r8NYJCcKo",
        "colab": {}
      },
      "cell_type": "code",
      "source": [
        ""
      ],
      "execution_count": 0,
      "outputs": []
    }
  ]
}